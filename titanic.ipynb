{
 "cells": [
  {
   "cell_type": "markdown",
   "id": "d4b4965d-3b72-4aea-9e99-2247ab1dccd7",
   "metadata": {},
   "source": [
    "# kaggleのtitanicデータ（二値分類）"
   ]
  },
  {
   "cell_type": "markdown",
   "id": "618e2814-220a-4ea1-896c-aeb38d7a8b78",
   "metadata": {},
   "source": [
    "# ライブラリの読み込み"
   ]
  },
  {
   "cell_type": "code",
   "execution_count": 1,
   "id": "07f7edae-02a9-49d4-9313-3c6ebb5a77c9",
   "metadata": {},
   "outputs": [],
   "source": [
    "import pandas as pd"
   ]
  },
  {
   "cell_type": "code",
   "execution_count": 2,
   "id": "e5bfd494-481b-4d51-bab7-eec76a53a6d2",
   "metadata": {},
   "outputs": [],
   "source": [
    "import numpy as np"
   ]
  },
  {
   "cell_type": "code",
   "execution_count": 3,
   "id": "cd6c38b1-2890-4470-b995-f7a74f0f9abc",
   "metadata": {},
   "outputs": [],
   "source": [
    "import matplotlib.pyplot as plt"
   ]
  },
  {
   "cell_type": "code",
   "execution_count": 4,
   "id": "7e6fb212-b283-4cc2-a8f8-e2e0fd085df3",
   "metadata": {},
   "outputs": [],
   "source": [
    "import japanize_matplotlib"
   ]
  },
  {
   "cell_type": "code",
   "execution_count": null,
   "id": "58637b00-63d8-401e-b717-329129d0212e",
   "metadata": {},
   "outputs": [],
   "source": [
    "import seaborn as sns\n",
    "sns.set()"
   ]
  },
  {
   "cell_type": "markdown",
   "id": "a29d57ac-8162-407b-8cea-40a7d7686a27",
   "metadata": {},
   "source": [
    "# データの読み込み"
   ]
  },
  {
   "cell_type": "code",
   "execution_count": null,
   "id": "fdc441e1-4de3-4934-a66f-e33b7739856a",
   "metadata": {},
   "outputs": [],
   "source": [
    "train_raw = pd.read_csv('train.csv')\n",
    "test_raw = pd.read_csv('test.csv')"
   ]
  },
  {
   "cell_type": "markdown",
   "id": "df253b88-4c45-46d2-98a6-c311a3ce8167",
   "metadata": {},
   "source": [
    "Survival：0 = No, 1 = Yes"
   ]
  },
  {
   "cell_type": "code",
   "execution_count": null,
   "id": "f1b95b6e-1adb-4bbb-9918-44439c8e4c1b",
   "metadata": {},
   "outputs": [],
   "source": [
    "train_raw.head()"
   ]
  },
  {
   "cell_type": "code",
   "execution_count": null,
   "id": "d0372b66-6769-4684-a1e8-2510bf63a25b",
   "metadata": {},
   "outputs": [],
   "source": [
    "train_raw.shape"
   ]
  },
  {
   "cell_type": "code",
   "execution_count": null,
   "id": "c61bc4f7-7f77-43f5-8ddb-c4271f43722d",
   "metadata": {},
   "outputs": [],
   "source": [
    "test_raw.head()"
   ]
  },
  {
   "cell_type": "code",
   "execution_count": null,
   "id": "2902000f-ed7a-419a-8c29-bec37cea1390",
   "metadata": {},
   "outputs": [],
   "source": [
    "test_raw.shape"
   ]
  },
  {
   "cell_type": "code",
   "execution_count": null,
   "id": "72698c46-24a2-44fe-aa36-85289476d92a",
   "metadata": {},
   "outputs": [],
   "source": [
    "train = train_raw.copy()\n",
    "test = test_raw.copy()"
   ]
  },
  {
   "cell_type": "code",
   "execution_count": null,
   "id": "9e9fb143-ad1c-4d53-a4f9-c3f8630c49e0",
   "metadata": {},
   "outputs": [],
   "source": [
    "train = train.drop('Survived', axis=1)\n",
    "train['Survived'] = train_raw['Survived']\n",
    "train"
   ]
  },
  {
   "cell_type": "markdown",
   "id": "e9c90a3d-cc60-469b-b348-4850cc97150e",
   "metadata": {},
   "source": [
    "# 基礎集計"
   ]
  },
  {
   "cell_type": "code",
   "execution_count": null,
   "id": "58388824-514e-4139-baa7-0ef053d999da",
   "metadata": {},
   "outputs": [],
   "source": [
    "plt.hist(train['Survived'])"
   ]
  },
  {
   "cell_type": "code",
   "execution_count": null,
   "id": "bc6ece68-7063-4557-a0d7-64fb821041df",
   "metadata": {},
   "outputs": [],
   "source": [
    "train.info()"
   ]
  },
  {
   "cell_type": "code",
   "execution_count": null,
   "id": "59e623b6-6b34-4cab-b19c-c281a2ff6eda",
   "metadata": {},
   "outputs": [],
   "source": [
    "train.isnull().sum()"
   ]
  },
  {
   "cell_type": "markdown",
   "id": "429e861f-1cec-4992-8251-84d3b25d75e9",
   "metadata": {},
   "source": [
    "## s1生き残り・s0死亡で比較"
   ]
  },
  {
   "cell_type": "code",
   "execution_count": null,
   "id": "55097ba5-8d6f-40e0-a8a6-8636cd85f4b3",
   "metadata": {},
   "outputs": [],
   "source": [
    "train_s0 = train[train['Survived']==0]\n",
    "train_s0.describe(include='all')"
   ]
  },
  {
   "cell_type": "code",
   "execution_count": null,
   "id": "19b398b1-537e-4306-9cec-f0e3aded0e2d",
   "metadata": {},
   "outputs": [],
   "source": [
    "train_s1 = train[train['Survived']==1]\n",
    "train_s1.describe(include='all')"
   ]
  },
  {
   "cell_type": "markdown",
   "id": "afd30309-d61a-4c02-b4b4-f68bf0d878d8",
   "metadata": {},
   "source": [
    "### age（年齢）"
   ]
  },
  {
   "cell_type": "code",
   "execution_count": null,
   "id": "fd5a1e9b-0a1e-4291-81a9-8f55ae33fcad",
   "metadata": {},
   "outputs": [],
   "source": [
    "plt.hist(train_s1['Age'])"
   ]
  },
  {
   "cell_type": "code",
   "execution_count": null,
   "id": "9309c891-b3c9-4c19-b7ff-1b8655f43114",
   "metadata": {},
   "outputs": [],
   "source": [
    "plt.hist(train_s0['Age'])"
   ]
  },
  {
   "cell_type": "markdown",
   "id": "ee229c73-1006-4d97-be08-cd97412b90c9",
   "metadata": {},
   "source": [
    "### Pclass（Passenger Class (1 = 1st; 2 = 2nd; 3 = 3rd)）"
   ]
  },
  {
   "cell_type": "code",
   "execution_count": null,
   "id": "84f1de8e-101e-4a72-b8b2-086521c15797",
   "metadata": {},
   "outputs": [],
   "source": [
    "plt.hist(train_s1['Pclass'])"
   ]
  },
  {
   "cell_type": "code",
   "execution_count": null,
   "id": "769d10dd-7b49-4a40-bdfc-0cb28f2be84b",
   "metadata": {},
   "outputs": [],
   "source": [
    "plt.hist(train_s0['Pclass'])"
   ]
  },
  {
   "cell_type": "markdown",
   "id": "709489ce-6a5a-4c15-aa0b-84a2ba0a7c63",
   "metadata": {},
   "source": [
    "### sex（male or female）"
   ]
  },
  {
   "cell_type": "code",
   "execution_count": null,
   "id": "8701273f-84e7-4ca1-8e21-47f6818aca3d",
   "metadata": {},
   "outputs": [],
   "source": [
    "plt.hist(train_s1['Sex'])"
   ]
  },
  {
   "cell_type": "code",
   "execution_count": null,
   "id": "5aaba06e-c61f-4e1c-bc57-d6380951ea33",
   "metadata": {},
   "outputs": [],
   "source": [
    "plt.hist(train_s0['Sex'])"
   ]
  },
  {
   "cell_type": "markdown",
   "id": "f89f17a5-f956-4452-8b45-7c1e047afbfa",
   "metadata": {},
   "source": [
    "### sibsp（Number of Siblings/Spouses Aboard）"
   ]
  },
  {
   "cell_type": "markdown",
   "id": "e4838b8d-c265-42c3-be48-6d608a60c329",
   "metadata": {},
   "source": [
    "Number of Siblings/Spouses Aboard　⇒　一緒に乗船した兄弟、配偶者の数"
   ]
  },
  {
   "cell_type": "code",
   "execution_count": null,
   "id": "10704d5e-eaa5-4754-a386-6c7cecf100c9",
   "metadata": {},
   "outputs": [],
   "source": [
    "plt.hist(train_s1['SibSp'])"
   ]
  },
  {
   "cell_type": "code",
   "execution_count": null,
   "id": "5259f356-d0a0-47ea-ae9e-da5fd7d11850",
   "metadata": {},
   "outputs": [],
   "source": [
    "plt.hist(train_s0['SibSp'])"
   ]
  },
  {
   "cell_type": "markdown",
   "id": "3b03d021-db7c-4ea5-ade9-3e5d6f55382c",
   "metadata": {},
   "source": [
    "### parch（Number of Parents/Children Aboard）"
   ]
  },
  {
   "cell_type": "markdown",
   "id": "7bfb214d-b295-415a-9cd1-c40d26958bcf",
   "metadata": {},
   "source": [
    "Number of Parents/Children Aboard　⇒　一緒に乗船した親子の数"
   ]
  },
  {
   "cell_type": "code",
   "execution_count": null,
   "id": "e9285e4b-8092-4a12-96bb-ec328b89fbf2",
   "metadata": {},
   "outputs": [],
   "source": [
    "plt.hist(train_s1['Parch'])"
   ]
  },
  {
   "cell_type": "code",
   "execution_count": null,
   "id": "fb0e383b-05a1-4617-afbe-aad98b11a1ab",
   "metadata": {},
   "outputs": [],
   "source": [
    "plt.hist(train_s0['Parch'])"
   ]
  },
  {
   "cell_type": "markdown",
   "id": "da57935c-00b0-4ccb-b27f-47dfdc973389",
   "metadata": {},
   "source": [
    "### fare（Passenger fare）"
   ]
  },
  {
   "cell_type": "code",
   "execution_count": null,
   "id": "ead7f236-c703-42bc-ba89-a4d8210176ca",
   "metadata": {},
   "outputs": [],
   "source": [
    "plt.hist(train_s1['Fare'])"
   ]
  },
  {
   "cell_type": "code",
   "execution_count": null,
   "id": "f600c2af-8f6f-4899-bf2f-b9af7540eeaf",
   "metadata": {},
   "outputs": [],
   "source": [
    "plt.hist(train_s0['Fare'])"
   ]
  },
  {
   "cell_type": "markdown",
   "id": "f60fd72a-a5ec-4642-a3af-846e1628e191",
   "metadata": {},
   "source": [
    "### embarked（Port of Embarkation）"
   ]
  },
  {
   "cell_type": "code",
   "execution_count": null,
   "id": "1205d6d5-e19c-4039-9804-74d329537e2c",
   "metadata": {},
   "outputs": [],
   "source": [
    "print('生き残り：C = Cherbourg→',len(train_s1[train_s1['Embarked']=='C']))\n",
    "print('生き残り：Q = Queenstown→',len(train_s1[train_s1['Embarked']=='Q']))\n",
    "print('生き残り：S = Southampton→',len(train_s1[train_s1['Embarked']=='S']))"
   ]
  },
  {
   "cell_type": "code",
   "execution_count": null,
   "id": "a3a4eaf3-1aa6-473b-a252-51a577ef9da5",
   "metadata": {},
   "outputs": [],
   "source": [
    "print('死亡：C = Cherbourg→',len(train_s0[train_s0['Embarked']=='C']))\n",
    "print('死亡：Q = Queenstown→',len(train_s0[train_s0['Embarked']=='Q']))\n",
    "print('死亡：S = Southampton→',len(train_s0[train_s0['Embarked']=='S']))"
   ]
  },
  {
   "cell_type": "markdown",
   "id": "fd54ee34-2e59-4f71-a33b-3e3b3e1233ab",
   "metadata": {},
   "source": [
    "# 前処理"
   ]
  },
  {
   "cell_type": "markdown",
   "id": "dcdbbf93-1f28-4e61-8a8e-efd7cb54ab3d",
   "metadata": {},
   "source": [
    "## 欠損地処理"
   ]
  },
  {
   "cell_type": "code",
   "execution_count": null,
   "id": "7fd04746-0ee2-4eb5-aba2-0c58e67b555b",
   "metadata": {},
   "outputs": [],
   "source": [
    "train.isnull().sum()"
   ]
  },
  {
   "cell_type": "code",
   "execution_count": null,
   "id": "994a7449-1527-43c8-b8eb-b330c99ad3e6",
   "metadata": {},
   "outputs": [],
   "source": [
    "test.isnull().sum()"
   ]
  },
  {
   "cell_type": "markdown",
   "id": "de784d47-05cf-49d7-8ca6-77c6913d8a2f",
   "metadata": {},
   "source": [
    "### ageの欠損値処理"
   ]
  },
  {
   "cell_type": "code",
   "execution_count": null,
   "id": "1ee625c7-3501-4adb-b5ca-9af73528edd2",
   "metadata": {},
   "outputs": [],
   "source": [
    "train['Age'] = train['Age'].fillna(train['Age'].median())"
   ]
  },
  {
   "cell_type": "code",
   "execution_count": null,
   "id": "8575ded1-e94c-4524-8ea1-9a17470dd7b3",
   "metadata": {},
   "outputs": [],
   "source": [
    "test['Age'] = test['Age'].fillna(test['Age'].median())"
   ]
  },
  {
   "cell_type": "code",
   "execution_count": null,
   "id": "24f96c27-5fa1-43b7-a932-6adf68f6bbef",
   "metadata": {},
   "outputs": [],
   "source": [
    "print(train.isnull().sum())\n",
    "print(test.isnull().sum())"
   ]
  },
  {
   "cell_type": "markdown",
   "id": "7d4204e4-4be7-44f1-b914-3c36ba9f3f55",
   "metadata": {},
   "source": [
    "## 文字列データを数値に変換"
   ]
  },
  {
   "cell_type": "code",
   "execution_count": null,
   "id": "02b09478-740f-4cef-ba1e-b62e8ca3707a",
   "metadata": {},
   "outputs": [],
   "source": [
    "# male=0,female=1に変換\n",
    "train['Sex'][train['Sex'] == 'male'] = 0\n",
    "train['Sex'][train['Sex'] == 'female'] = 1\n",
    "test['Sex'][test['Sex'] == 'male'] = 0\n",
    "test['Sex'][test['Sex'] == 'female'] = 1"
   ]
  },
  {
   "cell_type": "code",
   "execution_count": null,
   "id": "f6070fe3-8009-4ede-828f-243b8bd416be",
   "metadata": {},
   "outputs": [],
   "source": [
    "train['Sex']"
   ]
  },
  {
   "cell_type": "code",
   "execution_count": null,
   "id": "8adc8cae-b46a-4a7f-82f2-fc092d5fe477",
   "metadata": {},
   "outputs": [],
   "source": [
    "# S(Southampton)=0,C(Cherbourg)=1, Q(Queenstown)=2\n",
    "train[\"Embarked\"][train[\"Embarked\"] == \"S\" ] = 0\n",
    "train[\"Embarked\"][train[\"Embarked\"] == \"C\" ] = 1\n",
    "train[\"Embarked\"][train[\"Embarked\"] == \"Q\"] = 2\n",
    "test[\"Embarked\"][test[\"Embarked\"] == \"S\" ] = 0\n",
    "test[\"Embarked\"][test[\"Embarked\"] == \"C\" ] = 1\n",
    "test[\"Embarked\"][test[\"Embarked\"] == \"Q\"] = 2"
   ]
  },
  {
   "cell_type": "code",
   "execution_count": null,
   "id": "5a7bb6b8-b4ee-4e51-b315-4a2b4b0cb40a",
   "metadata": {},
   "outputs": [],
   "source": [
    "train = train.fillna({'Embarked': 0})\n",
    "train.isnull().sum()"
   ]
  },
  {
   "cell_type": "code",
   "execution_count": null,
   "id": "9797b3c4-ae78-4d7d-929d-9c7d977cbdf7",
   "metadata": {},
   "outputs": [],
   "source": [
    "train['Sex'] = train['Sex'].astype(int)\n",
    "train['Embarked'] = train['Embarked'].astype(int)"
   ]
  },
  {
   "cell_type": "code",
   "execution_count": null,
   "id": "e00736a3-b31f-4c25-9cd4-2c830a94ad35",
   "metadata": {},
   "outputs": [],
   "source": [
    "train.head()"
   ]
  },
  {
   "cell_type": "code",
   "execution_count": null,
   "id": "1ab562e8-8314-45de-a0ad-8166d59c754b",
   "metadata": {},
   "outputs": [],
   "source": [
    "features_col = ['Pclass', 'Age', 'Sex', 'Fare', 'SibSp', 'Parch', 'Embarked']\n",
    "\n",
    "train_y = train['Survived'].values\n",
    "train_X = train[features_col].values"
   ]
  },
  {
   "cell_type": "code",
   "execution_count": null,
   "id": "1a3b6512-3046-4233-a59b-d53ddf6aec29",
   "metadata": {},
   "outputs": [],
   "source": [
    "print(train_y.shape)\n",
    "print(train_X.shape)"
   ]
  },
  {
   "cell_type": "markdown",
   "id": "7a586c2f-6079-4b4a-848e-950caf0df59a",
   "metadata": {},
   "source": [
    "## 変数間の相関を可視化"
   ]
  },
  {
   "cell_type": "markdown",
   "id": "f90b95fa-8810-4e14-8c34-b5f81df95518",
   "metadata": {},
   "source": [
    "### 相関係数が-0.7以下、または0.7以上のものは相関高い？"
   ]
  },
  {
   "cell_type": "code",
   "execution_count": null,
   "id": "034990d7-8be0-4ada-995f-febe93694df6",
   "metadata": {},
   "outputs": [],
   "source": [
    "# 分散・共分散行列を見やすいヒートマップ形式にて出力\n",
    "sns.heatmap(train[features_col].corr(), annot=True, fmt='.2f')"
   ]
  },
  {
   "cell_type": "markdown",
   "id": "2e3f5b5b-10dd-4e07-a192-a0138085a638",
   "metadata": {},
   "source": [
    "# xgboost"
   ]
  },
  {
   "cell_type": "markdown",
   "id": "be1a72bc-a3c1-4119-aca9-2565ed50fc15",
   "metadata": {},
   "source": [
    "## GridSearchCVによるパラメータチューニング"
   ]
  },
  {
   "cell_type": "code",
   "execution_count": null,
   "id": "637f579d-7a7a-4783-927e-2a4eb8ca4de9",
   "metadata": {},
   "outputs": [],
   "source": [
    "from xgboost import XGBClassifier"
   ]
  },
  {
   "cell_type": "code",
   "execution_count": null,
   "id": "2ba05ef5-a1f0-4a93-96e7-7da2f1aa0509",
   "metadata": {},
   "outputs": [],
   "source": [
    "from sklearn.model_selection import GridSearchCV"
   ]
  },
  {
   "cell_type": "code",
   "execution_count": null,
   "id": "6360d0a7-bc5f-469c-9ece-f9caec35729e",
   "metadata": {},
   "outputs": [],
   "source": [
    "parameters = {\n",
    "    'n_estimators':[i for i in range(10, 100, 10)],\n",
    "    'learning_rate':[10, 1, 0.1, 0.01],\n",
    "    'max_depth':[i for i in range(1, 5, 1)],\n",
    "    'random_state':[3],\n",
    "}"
   ]
  },
  {
   "cell_type": "code",
   "execution_count": null,
   "id": "7add5da2-ab71-4239-8873-c623160e901a",
   "metadata": {},
   "outputs": [],
   "source": [
    "# parameters ={'max_depth':[3,4,5,6,7,8],\n",
    "#             'min_child_weight':[1,2,3,4,5],\n",
    "#             'gamma':[i/10.0 for i in range(0,6)],\n",
    "#             'subsample':[i/10.0 for i in range(6,11)],\n",
    "#             'colsample_bytree':[i/10.0 for i in range(6,11)],\n",
    "#             'reg_alpha':[1e-5, 1e-2, 0.1, 1, 100],\n",
    "#             'n_estimators':[1000,2000],\n",
    "#             'reg_lambda':[1e-5, 1e-2, 0.1, 1],\n",
    "#             'learning_rate':[0.1,0.2,0.3]\n",
    "#             }"
   ]
  },
  {
   "cell_type": "code",
   "execution_count": null,
   "id": "fa88505c-0d8b-437e-ba51-1daacf2deed5",
   "metadata": {},
   "outputs": [],
   "source": [
    "clf = GridSearchCV(XGBClassifier(), parameters, cv=5)"
   ]
  },
  {
   "cell_type": "code",
   "execution_count": null,
   "id": "89bf7ae7-3232-4154-b43a-b9d9cc3e7eb7",
   "metadata": {},
   "outputs": [],
   "source": [
    "# clf.fit(train_X, train_y)"
   ]
  },
  {
   "cell_type": "code",
   "execution_count": null,
   "id": "4d02c3d7-2d8a-4e90-9826-45d81e40175a",
   "metadata": {},
   "outputs": [],
   "source": [
    "# clf.best_params_"
   ]
  },
  {
   "cell_type": "code",
   "execution_count": null,
   "id": "70901c1f-17c2-44c8-a161-07a618a0910b",
   "metadata": {},
   "outputs": [],
   "source": [
    "# clf.best_score_"
   ]
  },
  {
   "cell_type": "code",
   "execution_count": null,
   "id": "b7c73744-34c4-4cd1-9cbd-c2855a4a8129",
   "metadata": {},
   "outputs": [],
   "source": [
    "from xgboost import XGBClassifier"
   ]
  },
  {
   "cell_type": "code",
   "execution_count": null,
   "id": "47bed91f-c6d5-4ec1-8e91-88b5d5e2fc32",
   "metadata": {},
   "outputs": [],
   "source": [
    "model_XGB = XGBClassifier(max_depth=2, learning_rate=1, n_estimators=60, random_state=3)"
   ]
  },
  {
   "cell_type": "code",
   "execution_count": null,
   "id": "43602833-9fe1-4dd9-a9e2-5254621030c7",
   "metadata": {},
   "outputs": [],
   "source": [
    "model_XGB.fit(train_X, train_y)"
   ]
  },
  {
   "cell_type": "code",
   "execution_count": null,
   "id": "8b287012-775d-4da9-ab44-68722a14e030",
   "metadata": {},
   "outputs": [],
   "source": [
    "model_XGB.score(train_X, train_y)"
   ]
  },
  {
   "cell_type": "markdown",
   "id": "fe41b4d6-a744-4882-ac95-900a37438b9c",
   "metadata": {},
   "source": [
    "## 予測"
   ]
  },
  {
   "cell_type": "code",
   "execution_count": null,
   "id": "12d3d0e9-e5b2-43a1-aa1b-5a47977d69cc",
   "metadata": {},
   "outputs": [],
   "source": [
    "test_X = test[features_col].values"
   ]
  },
  {
   "cell_type": "code",
   "execution_count": null,
   "id": "7605d06c-b955-4823-a139-47c02d2b0939",
   "metadata": {},
   "outputs": [],
   "source": [
    "prediction = model_XGB.predict(test_X)"
   ]
  },
  {
   "cell_type": "code",
   "execution_count": null,
   "id": "2af66bb8-c878-44a3-98ea-5e799cb2a422",
   "metadata": {
    "tags": []
   },
   "outputs": [],
   "source": [
    "prediction.shape"
   ]
  },
  {
   "cell_type": "code",
   "execution_count": null,
   "id": "61fcc6ca-37dd-4eee-8393-f54b0aae889f",
   "metadata": {
    "tags": []
   },
   "outputs": [],
   "source": [
    "print(prediction)"
   ]
  },
  {
   "cell_type": "markdown",
   "id": "a8ddd262-b530-4cf9-9070-fda5b44a452c",
   "metadata": {},
   "source": [
    "## 学習モデルの評価"
   ]
  },
  {
   "cell_type": "code",
   "execution_count": null,
   "id": "595b68bd-987e-4a84-9796-51d385d77d8a",
   "metadata": {
    "tags": []
   },
   "outputs": [],
   "source": [
    "from sklearn.model_selection import train_test_split"
   ]
  },
  {
   "cell_type": "code",
   "execution_count": null,
   "id": "df7057ca-80a9-4a0b-8b61-e3e9320ba99a",
   "metadata": {
    "tags": []
   },
   "outputs": [],
   "source": [
    "from sklearn.metrics import accuracy_score"
   ]
  },
  {
   "cell_type": "code",
   "execution_count": null,
   "id": "42778001-7279-400b-9567-551f47ef384b",
   "metadata": {},
   "outputs": [],
   "source": [
    "#訓練・テストデータに分割\n",
    "X_train, X_test, y_train, y_test = train_test_split(train_X, train_y, test_size=0.2, shuffle=True)"
   ]
  },
  {
   "cell_type": "code",
   "execution_count": null,
   "id": "91354c15-920a-4609-83aa-5809236d0415",
   "metadata": {},
   "outputs": [],
   "source": [
    "y_pred_train = model_XGB.predict(X_train)\n",
    "y_pred_test = model_XGB.predict(X_test)\n",
    "\n",
    "# Accuracy の計算\n",
    "acc_train = accuracy_score(y_train, y_pred_train)\n",
    "acc_test = accuracy_score(y_test, y_pred_test)\n",
    "print('Accuracy(train):', acc_train)\n",
    "print('Accuracy(test):', acc_test)"
   ]
  },
  {
   "cell_type": "code",
   "execution_count": null,
   "id": "7a95c4e6-6632-4c6a-aacb-d2d1eaa6eeef",
   "metadata": {},
   "outputs": [],
   "source": [
    "sub = pd.read_csv('gender_submission.csv', index_col=None)\n",
    "sub.head()"
   ]
  },
  {
   "cell_type": "code",
   "execution_count": null,
   "id": "4db40966-671c-42e6-8b5e-3cfcf3d413c4",
   "metadata": {},
   "outputs": [],
   "source": [
    "sub['Survived'] = prediction"
   ]
  },
  {
   "cell_type": "code",
   "execution_count": null,
   "id": "61621870-2964-40ab-b73b-1be30ff97ad4",
   "metadata": {},
   "outputs": [],
   "source": [
    "sub.to_csv('titanic_xgboost.csv', index=False)"
   ]
  },
  {
   "cell_type": "markdown",
   "id": "c26ebd5f-b1c0-4c2f-8fcb-152bb5b36fc5",
   "metadata": {},
   "source": [
    "## 特徴量の重要度可視化"
   ]
  },
  {
   "cell_type": "markdown",
   "id": "12dc9087-51a7-4124-b3cc-d499a0b6e740",
   "metadata": {},
   "source": [
    "### 可視化①"
   ]
  },
  {
   "cell_type": "code",
   "execution_count": null,
   "id": "e0eefc78-b74b-4b2c-b31a-2212691eb9a1",
   "metadata": {},
   "outputs": [],
   "source": [
    "plt.barh(train[features_col].columns.values, model_XGB.feature_importances_)"
   ]
  },
  {
   "cell_type": "markdown",
   "id": "04526fd4-cebc-432a-b9c9-1d0bb3ea253c",
   "metadata": {},
   "source": [
    "### 可視化②"
   ]
  },
  {
   "cell_type": "code",
   "execution_count": null,
   "id": "6f53cbab-59d8-4f63-9d7c-03c638f0698e",
   "metadata": {},
   "outputs": [],
   "source": [
    "feature_important = model_XGB.get_booster().get_score(importance_type='weight')\n",
    "keys = list(feature_important.keys())\n",
    "values = list(feature_important.values())\n",
    "\n",
    "data = pd.DataFrame(data=values, index=keys, columns=[\"score\"]).sort_values(by = \"score\", ascending=False)\n",
    "data.nlargest(40, columns=\"score\").plot(kind='barh', figsize = (20,10)) ## plot top 40 features"
   ]
  },
  {
   "cell_type": "markdown",
   "id": "0a4b5730-15bb-4a52-9ad9-0a0bbdd3d966",
   "metadata": {},
   "source": [
    "### 可視化③"
   ]
  },
  {
   "cell_type": "code",
   "execution_count": null,
   "id": "5d53bdc5-a7c1-4942-8962-5ef4b757ce10",
   "metadata": {},
   "outputs": [],
   "source": [
    "from xgboost import plot_importance"
   ]
  },
  {
   "cell_type": "code",
   "execution_count": null,
   "id": "1e4cca79-4992-4076-bb12-4d1e2fc4e2d4",
   "metadata": {},
   "outputs": [],
   "source": [
    "plot_importance(model_XGB)\n",
    "plt.show()"
   ]
  },
  {
   "cell_type": "markdown",
   "id": "dded3883-5407-43ba-81d6-2ade7382acb9",
   "metadata": {},
   "source": [
    "### 可視化④"
   ]
  },
  {
   "cell_type": "code",
   "execution_count": null,
   "id": "ecbfe3ae-3342-44fd-a0e0-17215e6492c0",
   "metadata": {},
   "outputs": [],
   "source": [
    "feature_imp = pd.Series(model_XGB.feature_importances_, index=train[features_col].columns.values).sort_values(ascending=False)"
   ]
  },
  {
   "cell_type": "code",
   "execution_count": null,
   "id": "4309d11a-dbbf-4b3c-9353-e26d5edbdb0a",
   "metadata": {},
   "outputs": [],
   "source": [
    "sns.barplot(x=feature_imp, y=feature_imp.index)\n",
    "\n",
    "plt.xlabel('Feature Importance Score')\n",
    "plt.ylabel('Features')\n",
    "plt.title(\"Visualizing Important Features\")\n",
    "plt.show()"
   ]
  },
  {
   "cell_type": "markdown",
   "id": "59402d50-5f48-4c77-ae37-87fe4462c741",
   "metadata": {},
   "source": [
    "### 可視化⑤"
   ]
  },
  {
   "cell_type": "code",
   "execution_count": null,
   "id": "3b0be40d-25e7-48e6-a149-ed9c836ea9b5",
   "metadata": {},
   "outputs": [],
   "source": [
    "_, ax = plt.subplots(figsize=(12, 12))\n",
    "plot_importance(model_XGB.get_booster(),\n",
    "                ax=ax,\n",
    "                importance_type='gain')"
   ]
  },
  {
   "cell_type": "markdown",
   "id": "9f2f660a-8003-4f29-bf12-b30564bde20c",
   "metadata": {},
   "source": [
    "### 可視化⑥"
   ]
  },
  {
   "cell_type": "code",
   "execution_count": null,
   "id": "f4befe8a-0416-4e88-8e93-020fd33495b2",
   "metadata": {},
   "outputs": [],
   "source": [
    "importances = pd.Series(model_XGB.feature_importances_, index=train[features_col].columns.values)\n",
    "importances = importances.sort_values()\n",
    "importances.plot(kind = 'barh')\n",
    "plt.title('XGBoost Feature Importance')\n",
    "plt.show()"
   ]
  },
  {
   "cell_type": "markdown",
   "id": "bf3dcf1f-d678-496b-8b78-c14c0a9f8cf1",
   "metadata": {},
   "source": [
    "## 決定木の可視化"
   ]
  },
  {
   "cell_type": "markdown",
   "id": "a5f06371-3f0d-4525-8b18-e4ca7d9e2150",
   "metadata": {},
   "source": [
    "### 可視化①"
   ]
  },
  {
   "cell_type": "code",
   "execution_count": null,
   "id": "a17c35fe-1bc4-4426-8efc-dcf2c98ab90a",
   "metadata": {},
   "outputs": [],
   "source": [
    "from dtreeviz.trees import *"
   ]
  },
  {
   "cell_type": "code",
   "execution_count": null,
   "id": "92a5f19f-e276-4956-9d85-f81f51eb7055",
   "metadata": {},
   "outputs": [],
   "source": [
    "import graphviz"
   ]
  },
  {
   "cell_type": "code",
   "execution_count": null,
   "id": "110e8eaa-3b58-4234-a543-8d58b3f171ad",
   "metadata": {},
   "outputs": [],
   "source": [
    "type(train[features_col])"
   ]
  },
  {
   "cell_type": "code",
   "execution_count": null,
   "id": "30f55ed9-1ca8-477f-9ad6-8127b7859b8b",
   "metadata": {},
   "outputs": [],
   "source": [
    "viz = dtreeviz(model_XGB,\n",
    "               x_data=train[features_col],\n",
    "               y_data=train['Survived'],\n",
    "               target_name='y',\n",
    "               feature_names=train[features_col].columns.tolist(),\n",
    "               tree_index=0)"
   ]
  },
  {
   "cell_type": "code",
   "execution_count": null,
   "id": "ed88a763-3dde-4c9e-90c5-7bdd9ba024e0",
   "metadata": {},
   "outputs": [],
   "source": [
    "display(viz)"
   ]
  },
  {
   "cell_type": "markdown",
   "id": "6507b37f-bac6-4c70-920a-8fb0777d8500",
   "metadata": {},
   "source": [
    "### 可視化②"
   ]
  },
  {
   "cell_type": "code",
   "execution_count": null,
   "id": "23f48884-7b64-4137-bb01-9a89c26787b7",
   "metadata": {},
   "outputs": [],
   "source": [
    "from xgboost import plot_tree"
   ]
  },
  {
   "cell_type": "code",
   "execution_count": null,
   "id": "3f0d7807-4ef0-42bd-98c6-9ca77d8a99c1",
   "metadata": {},
   "outputs": [],
   "source": [
    "plot_tree(model_XGB, figsize=(20, 20))\n",
    "plt.show()"
   ]
  },
  {
   "cell_type": "markdown",
   "id": "f91b83d9-f811-41d0-947b-4aa1257ae0df",
   "metadata": {},
   "source": [
    "### 可視化③"
   ]
  },
  {
   "cell_type": "code",
   "execution_count": null,
   "id": "fe6b7e74-d265-4d0c-9f24-e4501fb6d928",
   "metadata": {},
   "outputs": [],
   "source": [
    "import xgboost as xgb"
   ]
  },
  {
   "cell_type": "code",
   "execution_count": null,
   "id": "f3e604f5-b731-4909-ba86-ea8fb3c4f41b",
   "metadata": {},
   "outputs": [],
   "source": [
    "fig, ax = plt.subplots(figsize=(30, 30))\n",
    "xgb.plot_tree(model_XGB, num_trees=10, ax=ax)\n",
    "plt.show()"
   ]
  },
  {
   "cell_type": "markdown",
   "id": "b882f070-ba90-4c2a-8f8b-cab9b2c2ef2f",
   "metadata": {},
   "source": [
    "### 可視化④"
   ]
  },
  {
   "cell_type": "code",
   "execution_count": null,
   "id": "785720f6-2ca0-409e-9ffd-3bcc37b9eba5",
   "metadata": {},
   "outputs": [],
   "source": [
    "xgb.to_graphviz(model_XGB, num_trees=0)"
   ]
  },
  {
   "cell_type": "markdown",
   "id": "cebfaf39-b5ce-48b0-8034-2c6d898d7859",
   "metadata": {},
   "source": [
    "# LightGBM"
   ]
  },
  {
   "cell_type": "markdown",
   "id": "307edaaf-9887-4d38-87ae-aaa13625ed85",
   "metadata": {},
   "source": [
    "処理速度 → LightGBM > XGBoost > catboost"
   ]
  },
  {
   "cell_type": "markdown",
   "id": "a27e8952-b935-43ee-94f8-fb291f279142",
   "metadata": {},
   "source": [
    "LightGBMはカテゴリー変数を扱えるが、XGBoostはカテゴリー変数を扱えない"
   ]
  },
  {
   "cell_type": "markdown",
   "id": "f7eb45ed-06e5-40b9-acc2-d6c47b71cbab",
   "metadata": {},
   "source": [
    "## GridSearchCVによるパラメータチューニング"
   ]
  },
  {
   "cell_type": "code",
   "execution_count": null,
   "id": "605b210d-4682-478a-8d4b-b1e12af26c50",
   "metadata": {},
   "outputs": [],
   "source": [
    "import lightgbm as lgbm"
   ]
  },
  {
   "cell_type": "code",
   "execution_count": null,
   "id": "75c63418-8f5d-4a72-be5a-77b26cddb6d0",
   "metadata": {},
   "outputs": [],
   "source": [
    "from lightgbm import LGBMClassifier"
   ]
  },
  {
   "cell_type": "code",
   "execution_count": null,
   "id": "304b2355-f77d-42df-b21f-64316bad8566",
   "metadata": {},
   "outputs": [],
   "source": [
    "train"
   ]
  },
  {
   "cell_type": "code",
   "execution_count": null,
   "id": "bf73afbb-3a29-4d37-bcc7-8d16fbd26bad",
   "metadata": {},
   "outputs": [],
   "source": [
    "train[features_col].info()"
   ]
  },
  {
   "cell_type": "code",
   "execution_count": null,
   "id": "8346429e-f220-433a-bd69-9c911db36154",
   "metadata": {},
   "outputs": [],
   "source": [
    "train_y = train['Survived'].values\n",
    "train_X = train[features_col].values"
   ]
  },
  {
   "cell_type": "code",
   "execution_count": null,
   "id": "fb4af89a-2aca-4676-99a8-9b3e1c8d5542",
   "metadata": {},
   "outputs": [],
   "source": [
    "train_y.shape"
   ]
  },
  {
   "cell_type": "code",
   "execution_count": null,
   "id": "0a9dcc1c-cf79-4a33-9745-a8765f7a67bf",
   "metadata": {},
   "outputs": [],
   "source": [
    "train_X.shape"
   ]
  },
  {
   "cell_type": "code",
   "execution_count": null,
   "id": "93f43181-c6d2-48be-8781-cc1a3dba1ad4",
   "metadata": {},
   "outputs": [],
   "source": [
    "parameters = {\"max_depth\": [10, 25, 50, 75],\n",
    "              \"learning_rate\" : [0.001,0.01,0.05,0.1],\n",
    "              \"num_leaves\": [100,300,900,1200],\n",
    "              \"n_estimators\": [100,200,500]\n",
    "             }"
   ]
  },
  {
   "cell_type": "code",
   "execution_count": null,
   "id": "3a7ce13d-43e9-463f-8eb3-beede1d08b3c",
   "metadata": {},
   "outputs": [],
   "source": [
    "clf = GridSearchCV(LGBMClassifier(), parameters, cv=5)"
   ]
  },
  {
   "cell_type": "code",
   "execution_count": null,
   "id": "4cea06e5-92fd-461c-b490-1194a9f1bf2b",
   "metadata": {},
   "outputs": [],
   "source": [
    "# clf.fit(train_X, train_y)"
   ]
  },
  {
   "cell_type": "code",
   "execution_count": null,
   "id": "13fdd275-0365-4bfa-bcf7-486a2b151184",
   "metadata": {},
   "outputs": [],
   "source": [
    "# clf.best_params_"
   ]
  },
  {
   "cell_type": "code",
   "execution_count": null,
   "id": "cc50c6cc-22ff-45d4-bfcf-e4184550554a",
   "metadata": {},
   "outputs": [],
   "source": [
    "# clf.best_score_"
   ]
  },
  {
   "cell_type": "code",
   "execution_count": null,
   "id": "676bed90-f892-4af3-bfb2-c85f5a17a6ef",
   "metadata": {},
   "outputs": [],
   "source": [
    "from lightgbm import LGBMClassifier"
   ]
  },
  {
   "cell_type": "code",
   "execution_count": null,
   "id": "c458b5e8-e75f-4f10-aca1-a4c6dd2f11cc",
   "metadata": {},
   "outputs": [],
   "source": [
    "model_LGBM = LGBMClassifier(max_depth=25, learning_rate=0.01, n_estimators=500, num_leaves=100)"
   ]
  },
  {
   "cell_type": "code",
   "execution_count": null,
   "id": "2862a1cd-fd36-48c9-8a9b-a0d3a3d0d6ce",
   "metadata": {},
   "outputs": [],
   "source": [
    "model_LGBM.fit(train_X, train_y)"
   ]
  },
  {
   "cell_type": "code",
   "execution_count": null,
   "id": "9f7fa351-e12c-4830-a04d-916b25dcfda4",
   "metadata": {},
   "outputs": [],
   "source": [
    "model_LGBM.score(train_X, train_y)"
   ]
  },
  {
   "cell_type": "code",
   "execution_count": null,
   "id": "7105d553-f71e-4423-9d4a-95384abf3bd7",
   "metadata": {},
   "outputs": [],
   "source": [
    "train['Survived'].info()"
   ]
  },
  {
   "cell_type": "code",
   "execution_count": null,
   "id": "64ed368d-618d-4508-a908-6a27b6de24ca",
   "metadata": {},
   "outputs": [],
   "source": [
    "train[features_col].info()"
   ]
  },
  {
   "cell_type": "markdown",
   "id": "51dc27f0-4e51-4cbc-9a3e-066f39f71e5f",
   "metadata": {},
   "source": [
    "## 予測"
   ]
  },
  {
   "cell_type": "code",
   "execution_count": null,
   "id": "7ea69db0-1adb-40e8-8c8e-953969e410bb",
   "metadata": {},
   "outputs": [],
   "source": [
    "prediction = model_LGBM.predict(test_X)"
   ]
  },
  {
   "cell_type": "code",
   "execution_count": null,
   "id": "c50a6d60-6cfb-4d45-a2e0-59d574c2ab83",
   "metadata": {},
   "outputs": [],
   "source": [
    "prediction.shape"
   ]
  },
  {
   "cell_type": "code",
   "execution_count": null,
   "id": "cecbad36-7802-40b6-98bb-08185c6ca8e4",
   "metadata": {},
   "outputs": [],
   "source": [
    "print(prediction)"
   ]
  },
  {
   "cell_type": "markdown",
   "id": "d7c05c07-b826-43d3-909f-14d5fcb1e0ca",
   "metadata": {},
   "source": [
    "## 学習モデルの評価"
   ]
  },
  {
   "cell_type": "code",
   "execution_count": null,
   "id": "c74feda8-ec80-4150-af54-6d45dd3436e4",
   "metadata": {},
   "outputs": [],
   "source": [
    "#訓練・テストデータに分割\n",
    "X_train, X_test, y_train, y_test = train_test_split(train_X, train_y, test_size=0.2, shuffle=True)"
   ]
  },
  {
   "cell_type": "code",
   "execution_count": null,
   "id": "87ab11f6-e781-4b47-ac35-b3f20f38b98d",
   "metadata": {},
   "outputs": [],
   "source": [
    "y_pred_train = model_LGBM.predict(X_train)\n",
    "y_pred_test = model_LGBM.predict(X_test)\n",
    "\n",
    "# Accuracy の計算\n",
    "acc_train = accuracy_score(y_train, y_pred_train)\n",
    "acc_test = accuracy_score(y_test, y_pred_test)\n",
    "print('Accuracy(train):', acc_train)\n",
    "print('Accuracy(test):', acc_test)"
   ]
  },
  {
   "cell_type": "code",
   "execution_count": null,
   "id": "0d6099e5-1910-4062-bf66-625a9c00c779",
   "metadata": {},
   "outputs": [],
   "source": [
    "sub['Survived'] = prediction"
   ]
  },
  {
   "cell_type": "code",
   "execution_count": null,
   "id": "6b3ddbf6-97dc-45df-b54b-29a529b527f6",
   "metadata": {},
   "outputs": [],
   "source": [
    "sub.to_csv('titanic_lightgbm.csv', index=False)"
   ]
  },
  {
   "cell_type": "markdown",
   "id": "72acd0fc-4d29-4c39-8e98-05a4b46650e2",
   "metadata": {},
   "source": [
    "## 特徴量の重要度可視化"
   ]
  },
  {
   "cell_type": "markdown",
   "id": "cd34b9c2-7aca-4856-918c-6b399647ddd5",
   "metadata": {},
   "source": [
    "### 可視化①"
   ]
  },
  {
   "cell_type": "code",
   "execution_count": null,
   "id": "e51e2132-dda7-4b4e-bd89-a64c78d5724d",
   "metadata": {},
   "outputs": [],
   "source": [
    "plt.barh(train[features_col].columns.values, model_LGBM.feature_importances_)"
   ]
  },
  {
   "cell_type": "markdown",
   "id": "216e0d6a-4c92-4b5b-a0c2-ec3a624baaa9",
   "metadata": {},
   "source": [
    "### 可視化②"
   ]
  },
  {
   "cell_type": "code",
   "execution_count": null,
   "id": "a6064de2-df45-4ea9-a188-983eee2fef43",
   "metadata": {},
   "outputs": [],
   "source": [
    "feature_imp = pd.Series(model_LGBM.feature_importances_, index=train[features_col].columns.values).sort_values(ascending=False)"
   ]
  },
  {
   "cell_type": "code",
   "execution_count": null,
   "id": "9a6a12af-6fe7-4ddf-a828-436f2ba6c644",
   "metadata": {},
   "outputs": [],
   "source": [
    "sns.barplot(x=feature_imp, y=feature_imp.index)\n",
    "\n",
    "plt.xlabel('Feature Importance Score')\n",
    "plt.ylabel('Features')\n",
    "plt.title(\"Visualizing Important Features\")\n",
    "plt.show()"
   ]
  },
  {
   "cell_type": "code",
   "execution_count": null,
   "id": "af3de71b-110d-4fa6-b3ab-c01197e1f69b",
   "metadata": {},
   "outputs": [],
   "source": [
    "importances = pd.Series(model_LGBM.feature_importances_, index=train[features_col].columns.values)\n",
    "importances = importances.sort_values()\n",
    "importances.plot(kind = 'barh')\n",
    "plt.title('LightGBM Feature Importance')\n",
    "plt.show()"
   ]
  },
  {
   "cell_type": "markdown",
   "id": "e3a24eb8-179f-4474-87a2-722e37576df1",
   "metadata": {},
   "source": [
    "## 決定木の可視化"
   ]
  },
  {
   "cell_type": "markdown",
   "id": "a80dc930-9402-498b-ace5-f19fda0d3566",
   "metadata": {},
   "source": [
    "### 可視化①"
   ]
  },
  {
   "cell_type": "code",
   "execution_count": null,
   "id": "e36e1c40-9080-4941-a8aa-226a321a9f02",
   "metadata": {},
   "outputs": [],
   "source": [
    "ax = lgbm.plot_tree(model_LGBM, tree_index=0, figsize=(20, 20), show_info=['split_gain'])\n",
    "plt.show()\n",
    "graph = lgbm.create_tree_digraph(model_LGBM, tree_index=0, format='png', name='Tree')"
   ]
  },
  {
   "cell_type": "code",
   "execution_count": null,
   "id": "f92517bd-89b4-48b5-af01-37b5de8856f2",
   "metadata": {},
   "outputs": [],
   "source": [
    "display(graph)"
   ]
  },
  {
   "cell_type": "markdown",
   "id": "3d26184e-b894-4c1e-b0d2-5714df865915",
   "metadata": {},
   "source": [
    "## 生存確率を出力"
   ]
  },
  {
   "cell_type": "code",
   "execution_count": null,
   "id": "5b63a605-7520-4b12-8e59-7c2db5a0620e",
   "metadata": {},
   "outputs": [],
   "source": [
    "import lightgbm as lgb"
   ]
  },
  {
   "cell_type": "code",
   "execution_count": null,
   "id": "895d948f-aa2b-42c8-89fc-055df37809d6",
   "metadata": {},
   "outputs": [],
   "source": [
    "train_y = train['Survived']\n",
    "train_X = train[features_col]"
   ]
  },
  {
   "cell_type": "code",
   "execution_count": null,
   "id": "0dbe3124-feae-40d8-8f34-245672eb0793",
   "metadata": {},
   "outputs": [],
   "source": [
    "train_X.info()"
   ]
  },
  {
   "cell_type": "code",
   "execution_count": null,
   "id": "bb0cd654-f234-456b-a798-66da771e2839",
   "metadata": {},
   "outputs": [],
   "source": [
    "#訓練・テストデータに分割\n",
    "X_train, X_test, y_train, y_test = train_test_split(train_X, train_y, test_size=0.2, shuffle=True)"
   ]
  },
  {
   "cell_type": "code",
   "execution_count": null,
   "id": "ac0e67e2-c5d2-4d68-b259-aa8d640e9ead",
   "metadata": {},
   "outputs": [],
   "source": [
    "train_set = lgb.Dataset(X_train, y_train)\n",
    "valid_set = lgb.Dataset(X_test, y_test)"
   ]
  },
  {
   "cell_type": "code",
   "execution_count": null,
   "id": "5374f45d-ba72-4f3d-9ef0-ed0b90d77240",
   "metadata": {},
   "outputs": [],
   "source": [
    "params = {\n",
    "    \"objective\" : \"binary\",\n",
    "    \"metric\" : \"binary_logloss\"\n",
    "}"
   ]
  },
  {
   "cell_type": "code",
   "execution_count": null,
   "id": "eb90dc71-2b8a-4261-a8f6-2941303b6ee2",
   "metadata": {},
   "outputs": [],
   "source": [
    "result_data = {}\n",
    "model = lgb.train(\n",
    "    params = params,\n",
    "    train_set = train_set,\n",
    "    valid_sets = [train_set, valid_set],\n",
    "    num_boost_round = 100,\n",
    "    early_stopping_rounds = 5,\n",
    "    verbose_eval = 50,\n",
    "    evals_result = result_data\n",
    ")"
   ]
  },
  {
   "cell_type": "code",
   "execution_count": null,
   "id": "a6e4f05b-19f6-405f-8165-bc24920e531c",
   "metadata": {},
   "outputs": [],
   "source": [
    "pred = model.predict(test_X)\n",
    "print(pred)"
   ]
  },
  {
   "cell_type": "code",
   "execution_count": null,
   "id": "2f9b8cef-8b93-4f8f-b0c8-e4e9202f545f",
   "metadata": {},
   "outputs": [],
   "source": [
    "test_ = test.copy()\n",
    "test_['Survived'] = pred\n",
    "test_.sort_values(by=\"Survived\",ascending=False) "
   ]
  }
 ],
 "metadata": {
  "kernelspec": {
   "display_name": "Python 3 (ipykernel)",
   "language": "python",
   "name": "python3"
  },
  "language_info": {
   "codemirror_mode": {
    "name": "ipython",
    "version": 3
   },
   "file_extension": ".py",
   "mimetype": "text/x-python",
   "name": "python",
   "nbconvert_exporter": "python",
   "pygments_lexer": "ipython3",
   "version": "3.9.13"
  }
 },
 "nbformat": 4,
 "nbformat_minor": 5
}
