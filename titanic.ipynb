{
 "cells": [
  {
   "cell_type": "markdown",
   "id": "d4b4965d-3b72-4aea-9e99-2247ab1dccd7",
   "metadata": {},
   "source": [
    "# kaggleのtitanicデータ（二値分類）"
   ]
  },
  {
   "cell_type": "markdown",
   "id": "618e2814-220a-4ea1-896c-aeb38d7a8b78",
   "metadata": {},
   "source": [
    "# ライブラリの読み込み"
   ]
  },
  {
   "cell_type": "code",
   "execution_count": 1,
   "id": "07f7edae-02a9-49d4-9313-3c6ebb5a77c9",
   "metadata": {},
   "outputs": [],
   "source": [
    "import pandas as pd"
   ]
  },
  {
   "cell_type": "code",
   "execution_count": 2,
   "id": "e5bfd494-481b-4d51-bab7-eec76a53a6d2",
   "metadata": {},
   "outputs": [],
   "source": [
    "import numpy as np"
   ]
  },
  {
   "cell_type": "code",
   "execution_count": 3,
   "id": "cd6c38b1-2890-4470-b995-f7a74f0f9abc",
   "metadata": {},
   "outputs": [],
   "source": [
    "import matplotlib.pyplot as plt"
   ]
  },
  {
   "cell_type": "code",
   "execution_count": 4,
   "id": "7e6fb212-b283-4cc2-a8f8-e2e0fd085df3",
   "metadata": {},
   "outputs": [],
   "source": [
    "import japanize_matplotlib"
   ]
  },
  {
   "cell_type": "code",
   "execution_count": 5,
   "id": "58637b00-63d8-401e-b717-329129d0212e",
   "metadata": {},
   "outputs": [],
   "source": [
    "import seaborn as sns\n",
    "sns.set()"
   ]
  },
  {
   "cell_type": "markdown",
   "id": "a29d57ac-8162-407b-8cea-40a7d7686a27",
   "metadata": {},
   "source": [
    "# データの読み込み"
   ]
  },
  {
   "cell_type": "code",
   "execution_count": 6,
   "id": "fdc441e1-4de3-4934-a66f-e33b7739856a",
   "metadata": {},
   "outputs": [],
   "source": [
    "train_raw = pd.read_csv('train.csv')\n",
    "test_raw = pd.read_csv('test.csv')"
   ]
  },
  {
   "cell_type": "markdown",
   "id": "df253b88-4c45-46d2-98a6-c311a3ce8167",
   "metadata": {},
   "source": [
    "Survival：0 = No, 1 = Yes"
   ]
  },
  {
   "cell_type": "code",
   "execution_count": 7,
   "id": "f1b95b6e-1adb-4bbb-9918-44439c8e4c1b",
   "metadata": {},
   "outputs": [
    {
     "data": {
      "text/html": [
       "<div>\n",
       "<style scoped>\n",
       "    .dataframe tbody tr th:only-of-type {\n",
       "        vertical-align: middle;\n",
       "    }\n",
       "\n",
       "    .dataframe tbody tr th {\n",
       "        vertical-align: top;\n",
       "    }\n",
       "\n",
       "    .dataframe thead th {\n",
       "        text-align: right;\n",
       "    }\n",
       "</style>\n",
       "<table border=\"1\" class=\"dataframe\">\n",
       "  <thead>\n",
       "    <tr style=\"text-align: right;\">\n",
       "      <th></th>\n",
       "      <th>PassengerId</th>\n",
       "      <th>Survived</th>\n",
       "      <th>Pclass</th>\n",
       "      <th>Name</th>\n",
       "      <th>Sex</th>\n",
       "      <th>Age</th>\n",
       "      <th>SibSp</th>\n",
       "      <th>Parch</th>\n",
       "      <th>Ticket</th>\n",
       "      <th>Fare</th>\n",
       "      <th>Cabin</th>\n",
       "      <th>Embarked</th>\n",
       "    </tr>\n",
       "  </thead>\n",
       "  <tbody>\n",
       "    <tr>\n",
       "      <th>0</th>\n",
       "      <td>1</td>\n",
       "      <td>0</td>\n",
       "      <td>3</td>\n",
       "      <td>Braund, Mr. Owen Harris</td>\n",
       "      <td>male</td>\n",
       "      <td>22.0</td>\n",
       "      <td>1</td>\n",
       "      <td>0</td>\n",
       "      <td>A/5 21171</td>\n",
       "      <td>7.2500</td>\n",
       "      <td>NaN</td>\n",
       "      <td>S</td>\n",
       "    </tr>\n",
       "    <tr>\n",
       "      <th>1</th>\n",
       "      <td>2</td>\n",
       "      <td>1</td>\n",
       "      <td>1</td>\n",
       "      <td>Cumings, Mrs. John Bradley (Florence Briggs Th...</td>\n",
       "      <td>female</td>\n",
       "      <td>38.0</td>\n",
       "      <td>1</td>\n",
       "      <td>0</td>\n",
       "      <td>PC 17599</td>\n",
       "      <td>71.2833</td>\n",
       "      <td>C85</td>\n",
       "      <td>C</td>\n",
       "    </tr>\n",
       "    <tr>\n",
       "      <th>2</th>\n",
       "      <td>3</td>\n",
       "      <td>1</td>\n",
       "      <td>3</td>\n",
       "      <td>Heikkinen, Miss. Laina</td>\n",
       "      <td>female</td>\n",
       "      <td>26.0</td>\n",
       "      <td>0</td>\n",
       "      <td>0</td>\n",
       "      <td>STON/O2. 3101282</td>\n",
       "      <td>7.9250</td>\n",
       "      <td>NaN</td>\n",
       "      <td>S</td>\n",
       "    </tr>\n",
       "    <tr>\n",
       "      <th>3</th>\n",
       "      <td>4</td>\n",
       "      <td>1</td>\n",
       "      <td>1</td>\n",
       "      <td>Futrelle, Mrs. Jacques Heath (Lily May Peel)</td>\n",
       "      <td>female</td>\n",
       "      <td>35.0</td>\n",
       "      <td>1</td>\n",
       "      <td>0</td>\n",
       "      <td>113803</td>\n",
       "      <td>53.1000</td>\n",
       "      <td>C123</td>\n",
       "      <td>S</td>\n",
       "    </tr>\n",
       "    <tr>\n",
       "      <th>4</th>\n",
       "      <td>5</td>\n",
       "      <td>0</td>\n",
       "      <td>3</td>\n",
       "      <td>Allen, Mr. William Henry</td>\n",
       "      <td>male</td>\n",
       "      <td>35.0</td>\n",
       "      <td>0</td>\n",
       "      <td>0</td>\n",
       "      <td>373450</td>\n",
       "      <td>8.0500</td>\n",
       "      <td>NaN</td>\n",
       "      <td>S</td>\n",
       "    </tr>\n",
       "  </tbody>\n",
       "</table>\n",
       "</div>"
      ],
      "text/plain": [
       "   PassengerId  Survived  Pclass  \\\n",
       "0            1         0       3   \n",
       "1            2         1       1   \n",
       "2            3         1       3   \n",
       "3            4         1       1   \n",
       "4            5         0       3   \n",
       "\n",
       "                                                Name     Sex   Age  SibSp  \\\n",
       "0                            Braund, Mr. Owen Harris    male  22.0      1   \n",
       "1  Cumings, Mrs. John Bradley (Florence Briggs Th...  female  38.0      1   \n",
       "2                             Heikkinen, Miss. Laina  female  26.0      0   \n",
       "3       Futrelle, Mrs. Jacques Heath (Lily May Peel)  female  35.0      1   \n",
       "4                           Allen, Mr. William Henry    male  35.0      0   \n",
       "\n",
       "   Parch            Ticket     Fare Cabin Embarked  \n",
       "0      0         A/5 21171   7.2500   NaN        S  \n",
       "1      0          PC 17599  71.2833   C85        C  \n",
       "2      0  STON/O2. 3101282   7.9250   NaN        S  \n",
       "3      0            113803  53.1000  C123        S  \n",
       "4      0            373450   8.0500   NaN        S  "
      ]
     },
     "execution_count": 7,
     "metadata": {},
     "output_type": "execute_result"
    }
   ],
   "source": [
    "train_raw.head()"
   ]
  },
  {
   "cell_type": "code",
   "execution_count": 8,
   "id": "d0372b66-6769-4684-a1e8-2510bf63a25b",
   "metadata": {},
   "outputs": [
    {
     "data": {
      "text/plain": [
       "(891, 12)"
      ]
     },
     "execution_count": 8,
     "metadata": {},
     "output_type": "execute_result"
    }
   ],
   "source": [
    "train_raw.shape"
   ]
  },
  {
   "cell_type": "code",
   "execution_count": 9,
   "id": "c61bc4f7-7f77-43f5-8ddb-c4271f43722d",
   "metadata": {},
   "outputs": [
    {
     "data": {
      "text/html": [
       "<div>\n",
       "<style scoped>\n",
       "    .dataframe tbody tr th:only-of-type {\n",
       "        vertical-align: middle;\n",
       "    }\n",
       "\n",
       "    .dataframe tbody tr th {\n",
       "        vertical-align: top;\n",
       "    }\n",
       "\n",
       "    .dataframe thead th {\n",
       "        text-align: right;\n",
       "    }\n",
       "</style>\n",
       "<table border=\"1\" class=\"dataframe\">\n",
       "  <thead>\n",
       "    <tr style=\"text-align: right;\">\n",
       "      <th></th>\n",
       "      <th>PassengerId</th>\n",
       "      <th>Pclass</th>\n",
       "      <th>Name</th>\n",
       "      <th>Sex</th>\n",
       "      <th>Age</th>\n",
       "      <th>SibSp</th>\n",
       "      <th>Parch</th>\n",
       "      <th>Ticket</th>\n",
       "      <th>Fare</th>\n",
       "      <th>Cabin</th>\n",
       "      <th>Embarked</th>\n",
       "    </tr>\n",
       "  </thead>\n",
       "  <tbody>\n",
       "    <tr>\n",
       "      <th>0</th>\n",
       "      <td>892</td>\n",
       "      <td>3</td>\n",
       "      <td>Kelly, Mr. James</td>\n",
       "      <td>male</td>\n",
       "      <td>34.5</td>\n",
       "      <td>0</td>\n",
       "      <td>0</td>\n",
       "      <td>330911</td>\n",
       "      <td>7.8292</td>\n",
       "      <td>NaN</td>\n",
       "      <td>Q</td>\n",
       "    </tr>\n",
       "    <tr>\n",
       "      <th>1</th>\n",
       "      <td>893</td>\n",
       "      <td>3</td>\n",
       "      <td>Wilkes, Mrs. James (Ellen Needs)</td>\n",
       "      <td>female</td>\n",
       "      <td>47.0</td>\n",
       "      <td>1</td>\n",
       "      <td>0</td>\n",
       "      <td>363272</td>\n",
       "      <td>7.0000</td>\n",
       "      <td>NaN</td>\n",
       "      <td>S</td>\n",
       "    </tr>\n",
       "    <tr>\n",
       "      <th>2</th>\n",
       "      <td>894</td>\n",
       "      <td>2</td>\n",
       "      <td>Myles, Mr. Thomas Francis</td>\n",
       "      <td>male</td>\n",
       "      <td>62.0</td>\n",
       "      <td>0</td>\n",
       "      <td>0</td>\n",
       "      <td>240276</td>\n",
       "      <td>9.6875</td>\n",
       "      <td>NaN</td>\n",
       "      <td>Q</td>\n",
       "    </tr>\n",
       "    <tr>\n",
       "      <th>3</th>\n",
       "      <td>895</td>\n",
       "      <td>3</td>\n",
       "      <td>Wirz, Mr. Albert</td>\n",
       "      <td>male</td>\n",
       "      <td>27.0</td>\n",
       "      <td>0</td>\n",
       "      <td>0</td>\n",
       "      <td>315154</td>\n",
       "      <td>8.6625</td>\n",
       "      <td>NaN</td>\n",
       "      <td>S</td>\n",
       "    </tr>\n",
       "    <tr>\n",
       "      <th>4</th>\n",
       "      <td>896</td>\n",
       "      <td>3</td>\n",
       "      <td>Hirvonen, Mrs. Alexander (Helga E Lindqvist)</td>\n",
       "      <td>female</td>\n",
       "      <td>22.0</td>\n",
       "      <td>1</td>\n",
       "      <td>1</td>\n",
       "      <td>3101298</td>\n",
       "      <td>12.2875</td>\n",
       "      <td>NaN</td>\n",
       "      <td>S</td>\n",
       "    </tr>\n",
       "  </tbody>\n",
       "</table>\n",
       "</div>"
      ],
      "text/plain": [
       "   PassengerId  Pclass                                          Name     Sex  \\\n",
       "0          892       3                              Kelly, Mr. James    male   \n",
       "1          893       3              Wilkes, Mrs. James (Ellen Needs)  female   \n",
       "2          894       2                     Myles, Mr. Thomas Francis    male   \n",
       "3          895       3                              Wirz, Mr. Albert    male   \n",
       "4          896       3  Hirvonen, Mrs. Alexander (Helga E Lindqvist)  female   \n",
       "\n",
       "    Age  SibSp  Parch   Ticket     Fare Cabin Embarked  \n",
       "0  34.5      0      0   330911   7.8292   NaN        Q  \n",
       "1  47.0      1      0   363272   7.0000   NaN        S  \n",
       "2  62.0      0      0   240276   9.6875   NaN        Q  \n",
       "3  27.0      0      0   315154   8.6625   NaN        S  \n",
       "4  22.0      1      1  3101298  12.2875   NaN        S  "
      ]
     },
     "execution_count": 9,
     "metadata": {},
     "output_type": "execute_result"
    }
   ],
   "source": [
    "test_raw.head()"
   ]
  },
  {
   "cell_type": "code",
   "execution_count": 10,
   "id": "2902000f-ed7a-419a-8c29-bec37cea1390",
   "metadata": {},
   "outputs": [
    {
     "data": {
      "text/plain": [
       "(418, 11)"
      ]
     },
     "execution_count": 10,
     "metadata": {},
     "output_type": "execute_result"
    }
   ],
   "source": [
    "test_raw.shape"
   ]
  },
  {
   "cell_type": "code",
   "execution_count": 11,
   "id": "72698c46-24a2-44fe-aa36-85289476d92a",
   "metadata": {},
   "outputs": [],
   "source": [
    "train = train_raw.copy()\n",
    "test = test_raw.copy()"
   ]
  },
  {
   "cell_type": "code",
   "execution_count": 12,
   "id": "9e9fb143-ad1c-4d53-a4f9-c3f8630c49e0",
   "metadata": {},
   "outputs": [
    {
     "data": {
      "text/html": [
       "<div>\n",
       "<style scoped>\n",
       "    .dataframe tbody tr th:only-of-type {\n",
       "        vertical-align: middle;\n",
       "    }\n",
       "\n",
       "    .dataframe tbody tr th {\n",
       "        vertical-align: top;\n",
       "    }\n",
       "\n",
       "    .dataframe thead th {\n",
       "        text-align: right;\n",
       "    }\n",
       "</style>\n",
       "<table border=\"1\" class=\"dataframe\">\n",
       "  <thead>\n",
       "    <tr style=\"text-align: right;\">\n",
       "      <th></th>\n",
       "      <th>PassengerId</th>\n",
       "      <th>Pclass</th>\n",
       "      <th>Name</th>\n",
       "      <th>Sex</th>\n",
       "      <th>Age</th>\n",
       "      <th>SibSp</th>\n",
       "      <th>Parch</th>\n",
       "      <th>Ticket</th>\n",
       "      <th>Fare</th>\n",
       "      <th>Cabin</th>\n",
       "      <th>Embarked</th>\n",
       "      <th>Survived</th>\n",
       "    </tr>\n",
       "  </thead>\n",
       "  <tbody>\n",
       "    <tr>\n",
       "      <th>0</th>\n",
       "      <td>1</td>\n",
       "      <td>3</td>\n",
       "      <td>Braund, Mr. Owen Harris</td>\n",
       "      <td>male</td>\n",
       "      <td>22.0</td>\n",
       "      <td>1</td>\n",
       "      <td>0</td>\n",
       "      <td>A/5 21171</td>\n",
       "      <td>7.2500</td>\n",
       "      <td>NaN</td>\n",
       "      <td>S</td>\n",
       "      <td>0</td>\n",
       "    </tr>\n",
       "    <tr>\n",
       "      <th>1</th>\n",
       "      <td>2</td>\n",
       "      <td>1</td>\n",
       "      <td>Cumings, Mrs. John Bradley (Florence Briggs Th...</td>\n",
       "      <td>female</td>\n",
       "      <td>38.0</td>\n",
       "      <td>1</td>\n",
       "      <td>0</td>\n",
       "      <td>PC 17599</td>\n",
       "      <td>71.2833</td>\n",
       "      <td>C85</td>\n",
       "      <td>C</td>\n",
       "      <td>1</td>\n",
       "    </tr>\n",
       "    <tr>\n",
       "      <th>2</th>\n",
       "      <td>3</td>\n",
       "      <td>3</td>\n",
       "      <td>Heikkinen, Miss. Laina</td>\n",
       "      <td>female</td>\n",
       "      <td>26.0</td>\n",
       "      <td>0</td>\n",
       "      <td>0</td>\n",
       "      <td>STON/O2. 3101282</td>\n",
       "      <td>7.9250</td>\n",
       "      <td>NaN</td>\n",
       "      <td>S</td>\n",
       "      <td>1</td>\n",
       "    </tr>\n",
       "    <tr>\n",
       "      <th>3</th>\n",
       "      <td>4</td>\n",
       "      <td>1</td>\n",
       "      <td>Futrelle, Mrs. Jacques Heath (Lily May Peel)</td>\n",
       "      <td>female</td>\n",
       "      <td>35.0</td>\n",
       "      <td>1</td>\n",
       "      <td>0</td>\n",
       "      <td>113803</td>\n",
       "      <td>53.1000</td>\n",
       "      <td>C123</td>\n",
       "      <td>S</td>\n",
       "      <td>1</td>\n",
       "    </tr>\n",
       "    <tr>\n",
       "      <th>4</th>\n",
       "      <td>5</td>\n",
       "      <td>3</td>\n",
       "      <td>Allen, Mr. William Henry</td>\n",
       "      <td>male</td>\n",
       "      <td>35.0</td>\n",
       "      <td>0</td>\n",
       "      <td>0</td>\n",
       "      <td>373450</td>\n",
       "      <td>8.0500</td>\n",
       "      <td>NaN</td>\n",
       "      <td>S</td>\n",
       "      <td>0</td>\n",
       "    </tr>\n",
       "    <tr>\n",
       "      <th>...</th>\n",
       "      <td>...</td>\n",
       "      <td>...</td>\n",
       "      <td>...</td>\n",
       "      <td>...</td>\n",
       "      <td>...</td>\n",
       "      <td>...</td>\n",
       "      <td>...</td>\n",
       "      <td>...</td>\n",
       "      <td>...</td>\n",
       "      <td>...</td>\n",
       "      <td>...</td>\n",
       "      <td>...</td>\n",
       "    </tr>\n",
       "    <tr>\n",
       "      <th>886</th>\n",
       "      <td>887</td>\n",
       "      <td>2</td>\n",
       "      <td>Montvila, Rev. Juozas</td>\n",
       "      <td>male</td>\n",
       "      <td>27.0</td>\n",
       "      <td>0</td>\n",
       "      <td>0</td>\n",
       "      <td>211536</td>\n",
       "      <td>13.0000</td>\n",
       "      <td>NaN</td>\n",
       "      <td>S</td>\n",
       "      <td>0</td>\n",
       "    </tr>\n",
       "    <tr>\n",
       "      <th>887</th>\n",
       "      <td>888</td>\n",
       "      <td>1</td>\n",
       "      <td>Graham, Miss. Margaret Edith</td>\n",
       "      <td>female</td>\n",
       "      <td>19.0</td>\n",
       "      <td>0</td>\n",
       "      <td>0</td>\n",
       "      <td>112053</td>\n",
       "      <td>30.0000</td>\n",
       "      <td>B42</td>\n",
       "      <td>S</td>\n",
       "      <td>1</td>\n",
       "    </tr>\n",
       "    <tr>\n",
       "      <th>888</th>\n",
       "      <td>889</td>\n",
       "      <td>3</td>\n",
       "      <td>Johnston, Miss. Catherine Helen \"Carrie\"</td>\n",
       "      <td>female</td>\n",
       "      <td>NaN</td>\n",
       "      <td>1</td>\n",
       "      <td>2</td>\n",
       "      <td>W./C. 6607</td>\n",
       "      <td>23.4500</td>\n",
       "      <td>NaN</td>\n",
       "      <td>S</td>\n",
       "      <td>0</td>\n",
       "    </tr>\n",
       "    <tr>\n",
       "      <th>889</th>\n",
       "      <td>890</td>\n",
       "      <td>1</td>\n",
       "      <td>Behr, Mr. Karl Howell</td>\n",
       "      <td>male</td>\n",
       "      <td>26.0</td>\n",
       "      <td>0</td>\n",
       "      <td>0</td>\n",
       "      <td>111369</td>\n",
       "      <td>30.0000</td>\n",
       "      <td>C148</td>\n",
       "      <td>C</td>\n",
       "      <td>1</td>\n",
       "    </tr>\n",
       "    <tr>\n",
       "      <th>890</th>\n",
       "      <td>891</td>\n",
       "      <td>3</td>\n",
       "      <td>Dooley, Mr. Patrick</td>\n",
       "      <td>male</td>\n",
       "      <td>32.0</td>\n",
       "      <td>0</td>\n",
       "      <td>0</td>\n",
       "      <td>370376</td>\n",
       "      <td>7.7500</td>\n",
       "      <td>NaN</td>\n",
       "      <td>Q</td>\n",
       "      <td>0</td>\n",
       "    </tr>\n",
       "  </tbody>\n",
       "</table>\n",
       "<p>891 rows × 12 columns</p>\n",
       "</div>"
      ],
      "text/plain": [
       "     PassengerId  Pclass                                               Name  \\\n",
       "0              1       3                            Braund, Mr. Owen Harris   \n",
       "1              2       1  Cumings, Mrs. John Bradley (Florence Briggs Th...   \n",
       "2              3       3                             Heikkinen, Miss. Laina   \n",
       "3              4       1       Futrelle, Mrs. Jacques Heath (Lily May Peel)   \n",
       "4              5       3                           Allen, Mr. William Henry   \n",
       "..           ...     ...                                                ...   \n",
       "886          887       2                              Montvila, Rev. Juozas   \n",
       "887          888       1                       Graham, Miss. Margaret Edith   \n",
       "888          889       3           Johnston, Miss. Catherine Helen \"Carrie\"   \n",
       "889          890       1                              Behr, Mr. Karl Howell   \n",
       "890          891       3                                Dooley, Mr. Patrick   \n",
       "\n",
       "        Sex   Age  SibSp  Parch            Ticket     Fare Cabin Embarked  \\\n",
       "0      male  22.0      1      0         A/5 21171   7.2500   NaN        S   \n",
       "1    female  38.0      1      0          PC 17599  71.2833   C85        C   \n",
       "2    female  26.0      0      0  STON/O2. 3101282   7.9250   NaN        S   \n",
       "3    female  35.0      1      0            113803  53.1000  C123        S   \n",
       "4      male  35.0      0      0            373450   8.0500   NaN        S   \n",
       "..      ...   ...    ...    ...               ...      ...   ...      ...   \n",
       "886    male  27.0      0      0            211536  13.0000   NaN        S   \n",
       "887  female  19.0      0      0            112053  30.0000   B42        S   \n",
       "888  female   NaN      1      2        W./C. 6607  23.4500   NaN        S   \n",
       "889    male  26.0      0      0            111369  30.0000  C148        C   \n",
       "890    male  32.0      0      0            370376   7.7500   NaN        Q   \n",
       "\n",
       "     Survived  \n",
       "0           0  \n",
       "1           1  \n",
       "2           1  \n",
       "3           1  \n",
       "4           0  \n",
       "..        ...  \n",
       "886         0  \n",
       "887         1  \n",
       "888         0  \n",
       "889         1  \n",
       "890         0  \n",
       "\n",
       "[891 rows x 12 columns]"
      ]
     },
     "execution_count": 12,
     "metadata": {},
     "output_type": "execute_result"
    }
   ],
   "source": [
    "train = train.drop('Survived', axis=1)\n",
    "train['Survived'] = train_raw['Survived']\n",
    "train"
   ]
  },
  {
   "cell_type": "markdown",
   "id": "e9c90a3d-cc60-469b-b348-4850cc97150e",
   "metadata": {},
   "source": [
    "# 基礎集計"
   ]
  },
  {
   "cell_type": "code",
   "execution_count": 13,
   "id": "58388824-514e-4139-baa7-0ef053d999da",
   "metadata": {},
   "outputs": [
    {
     "data": {
      "text/plain": [
       "(array([549.,   0.,   0.,   0.,   0.,   0.,   0.,   0.,   0., 342.]),\n",
       " array([0. , 0.1, 0.2, 0.3, 0.4, 0.5, 0.6, 0.7, 0.8, 0.9, 1. ]),\n",
       " <BarContainer object of 10 artists>)"
      ]
     },
     "execution_count": 13,
     "metadata": {},
     "output_type": "execute_result"
    },
    {
     "data": {
      "image/png": "[encoded data removed]",
      "text/plain": [
       "<Figure size 432x288 with 1 Axes>"
      ]
     },
     "metadata": {
      "needs_background": "light"
     },
     "output_type": "display_data"
    }
   ],
   "source": [
    "plt.hist(train['Survived'])"
   ]
  },
  {
   "cell_type": "code",
   "execution_count": 14,
   "id": "bc6ece68-7063-4557-a0d7-64fb821041df",
   "metadata": {},
   "outputs": [
    {
     "name": "stdout",
     "output_type": "stream",
     "text": [
      "<class 'pandas.core.frame.DataFrame'>\n",
      "RangeIndex: 891 entries, 0 to 890\n",
      "Data columns (total 12 columns):\n",
      " #   Column       Non-Null Count  Dtype  \n",
      "---  ------       --------------  -----  \n",
      " 0   PassengerId  891 non-null    int64  \n",
      " 1   Pclass       891 non-null    int64  \n",
      " 2   Name         891 non-null    object \n",
      " 3   Sex          891 non-null    object \n",
      " 4   Age          714 non-null    float64\n",
      " 5   SibSp        891 non-null    int64  \n",
      " 6   Parch        891 non-null    int64  \n",
      " 7   Ticket       891 non-null    object \n",
      " 8   Fare         891 non-null    float64\n",
      " 9   Cabin        204 non-null    object \n",
      " 10  Embarked     889 non-null    object \n",
      " 11  Survived     891 non-null    int64  \n",
      "dtypes: float64(2), int64(5), object(5)\n",
      "memory usage: 83.7+ KB\n"
     ]
    }
   ],
   "source": [
    "train.info()"
   ]
  },
  {
   "cell_type": "code",
   "execution_count": 15,
   "id": "59e623b6-6b34-4cab-b19c-c281a2ff6eda",
   "metadata": {},
   "outputs": [
    {
     "data": {
      "text/plain": [
       "PassengerId      0\n",
       "Pclass           0\n",
       "Name             0\n",
       "Sex              0\n",
       "Age            177\n",
       "SibSp            0\n",
       "Parch            0\n",
       "Ticket           0\n",
       "Fare             0\n",
       "Cabin          687\n",
       "Embarked         2\n",
       "Survived         0\n",
       "dtype: int64"
      ]
     },
     "execution_count": 15,
     "metadata": {},
     "output_type": "execute_result"
    }
   ],
   "source": [
    "train.isnull().sum()"
   ]
  },
  {
   "cell_type": "markdown",
   "id": "429e861f-1cec-4992-8251-84d3b25d75e9",
   "metadata": {},
   "source": [
    "## s1生き残り・s0死亡で比較"
   ]
  },
  {
   "cell_type": "code",
   "execution_count": 16,
   "id": "55097ba5-8d6f-40e0-a8a6-8636cd85f4b3",
   "metadata": {},
   "outputs": [
    {
     "data": {
      "text/html": [
       "<div>\n",
       "<style scoped>\n",
       "    .dataframe tbody tr th:only-of-type {\n",
       "        vertical-align: middle;\n",
       "    }\n",
       "\n",
       "    .dataframe tbody tr th {\n",
       "        vertical-align: top;\n",
       "    }\n",
       "\n",
       "    .dataframe thead th {\n",
       "        text-align: right;\n",
       "    }\n",
       "</style>\n",
       "<table border=\"1\" class=\"dataframe\">\n",
       "  <thead>\n",
       "    <tr style=\"text-align: right;\">\n",
       "      <th></th>\n",
       "      <th>PassengerId</th>\n",
       "      <th>Pclass</th>\n",
       "      <th>Name</th>\n",
       "      <th>Sex</th>\n",
       "      <th>Age</th>\n",
       "      <th>SibSp</th>\n",
       "      <th>Parch</th>\n",
       "      <th>Ticket</th>\n",
       "      <th>Fare</th>\n",
       "      <th>Cabin</th>\n",
       "      <th>Embarked</th>\n",
       "      <th>Survived</th>\n",
       "    </tr>\n",
       "  </thead>\n",
       "  <tbody>\n",
       "    <tr>\n",
       "      <th>count</th>\n",
       "      <td>549.000000</td>\n",
       "      <td>549.000000</td>\n",
       "      <td>549</td>\n",
       "      <td>549</td>\n",
       "      <td>424.000000</td>\n",
       "      <td>549.000000</td>\n",
       "      <td>549.000000</td>\n",
       "      <td>549</td>\n",
       "      <td>549.000000</td>\n",
       "      <td>68</td>\n",
       "      <td>549</td>\n",
       "      <td>549.0</td>\n",
       "    </tr>\n",
       "    <tr>\n",
       "      <th>unique</th>\n",
       "      <td>NaN</td>\n",
       "      <td>NaN</td>\n",
       "      <td>549</td>\n",
       "      <td>2</td>\n",
       "      <td>NaN</td>\n",
       "      <td>NaN</td>\n",
       "      <td>NaN</td>\n",
       "      <td>470</td>\n",
       "      <td>NaN</td>\n",
       "      <td>62</td>\n",
       "      <td>3</td>\n",
       "      <td>NaN</td>\n",
       "    </tr>\n",
       "    <tr>\n",
       "      <th>top</th>\n",
       "      <td>NaN</td>\n",
       "      <td>NaN</td>\n",
       "      <td>Braund, Mr. Owen Harris</td>\n",
       "      <td>male</td>\n",
       "      <td>NaN</td>\n",
       "      <td>NaN</td>\n",
       "      <td>NaN</td>\n",
       "      <td>347082</td>\n",
       "      <td>NaN</td>\n",
       "      <td>G6</td>\n",
       "      <td>S</td>\n",
       "      <td>NaN</td>\n",
       "    </tr>\n",
       "    <tr>\n",
       "      <th>freq</th>\n",
       "      <td>NaN</td>\n",
       "      <td>NaN</td>\n",
       "      <td>1</td>\n",
       "      <td>468</td>\n",
       "      <td>NaN</td>\n",
       "      <td>NaN</td>\n",
       "      <td>NaN</td>\n",
       "      <td>7</td>\n",
       "      <td>NaN</td>\n",
       "      <td>2</td>\n",
       "      <td>427</td>\n",
       "      <td>NaN</td>\n",
       "    </tr>\n",
       "    <tr>\n",
       "      <th>mean</th>\n",
       "      <td>447.016393</td>\n",
       "      <td>2.531876</td>\n",
       "      <td>NaN</td>\n",
       "      <td>NaN</td>\n",
       "      <td>30.626179</td>\n",
       "      <td>0.553734</td>\n",
       "      <td>0.329690</td>\n",
       "      <td>NaN</td>\n",
       "      <td>22.117887</td>\n",
       "      <td>NaN</td>\n",
       "      <td>NaN</td>\n",
       "      <td>0.0</td>\n",
       "    </tr>\n",
       "    <tr>\n",
       "      <th>std</th>\n",
       "      <td>260.640469</td>\n",
       "      <td>0.735805</td>\n",
       "      <td>NaN</td>\n",
       "      <td>NaN</td>\n",
       "      <td>14.172110</td>\n",
       "      <td>1.288399</td>\n",
       "      <td>0.823166</td>\n",
       "      <td>NaN</td>\n",
       "      <td>31.388207</td>\n",
       "      <td>NaN</td>\n",
       "      <td>NaN</td>\n",
       "      <td>0.0</td>\n",
       "    </tr>\n",
       "    <tr>\n",
       "      <th>min</th>\n",
       "      <td>1.000000</td>\n",
       "      <td>1.000000</td>\n",
       "      <td>NaN</td>\n",
       "      <td>NaN</td>\n",
       "      <td>1.000000</td>\n",
       "      <td>0.000000</td>\n",
       "      <td>0.000000</td>\n",
       "      <td>NaN</td>\n",
       "      <td>0.000000</td>\n",
       "      <td>NaN</td>\n",
       "      <td>NaN</td>\n",
       "      <td>0.0</td>\n",
       "    </tr>\n",
       "    <tr>\n",
       "      <th>25%</th>\n",
       "      <td>211.000000</td>\n",
       "      <td>2.000000</td>\n",
       "      <td>NaN</td>\n",
       "      <td>NaN</td>\n",
       "      <td>21.000000</td>\n",
       "      <td>0.000000</td>\n",
       "      <td>0.000000</td>\n",
       "      <td>NaN</td>\n",
       "      <td>7.854200</td>\n",
       "      <td>NaN</td>\n",
       "      <td>NaN</td>\n",
       "      <td>0.0</td>\n",
       "    </tr>\n",
       "    <tr>\n",
       "      <th>50%</th>\n",
       "      <td>455.000000</td>\n",
       "      <td>3.000000</td>\n",
       "      <td>NaN</td>\n",
       "      <td>NaN</td>\n",
       "      <td>28.000000</td>\n",
       "      <td>0.000000</td>\n",
       "      <td>0.000000</td>\n",
       "      <td>NaN</td>\n",
       "      <td>10.500000</td>\n",
       "      <td>NaN</td>\n",
       "      <td>NaN</td>\n",
       "      <td>0.0</td>\n",
       "    </tr>\n",
       "    <tr>\n",
       "      <th>75%</th>\n",
       "      <td>675.000000</td>\n",
       "      <td>3.000000</td>\n",
       "      <td>NaN</td>\n",
       "      <td>NaN</td>\n",
       "      <td>39.000000</td>\n",
       "      <td>1.000000</td>\n",
       "      <td>0.000000</td>\n",
       "      <td>NaN</td>\n",
       "      <td>26.000000</td>\n",
       "      <td>NaN</td>\n",
       "      <td>NaN</td>\n",
       "      <td>0.0</td>\n",
       "    </tr>\n",
       "    <tr>\n",
       "      <th>max</th>\n",
       "      <td>891.000000</td>\n",
       "      <td>3.000000</td>\n",
       "      <td>NaN</td>\n",
       "      <td>NaN</td>\n",
       "      <td>74.000000</td>\n",
       "      <td>8.000000</td>\n",
       "      <td>6.000000</td>\n",
       "      <td>NaN</td>\n",
       "      <td>263.000000</td>\n",
       "      <td>NaN</td>\n",
       "      <td>NaN</td>\n",
       "      <td>0.0</td>\n",
       "    </tr>\n",
       "  </tbody>\n",
       "</table>\n",
       "</div>"
      ],
      "text/plain": [
       "        PassengerId      Pclass                     Name   Sex         Age  \\\n",
       "count    549.000000  549.000000                      549   549  424.000000   \n",
       "unique          NaN         NaN                      549     2         NaN   \n",
       "top             NaN         NaN  Braund, Mr. Owen Harris  male         NaN   \n",
       "freq            NaN         NaN                        1   468         NaN   \n",
       "mean     447.016393    2.531876                      NaN   NaN   30.626179   \n",
       "std      260.640469    0.735805                      NaN   NaN   14.172110   \n",
       "min        1.000000    1.000000                      NaN   NaN    1.000000   \n",
       "25%      211.000000    2.000000                      NaN   NaN   21.000000   \n",
       "50%      455.000000    3.000000                      NaN   NaN   28.000000   \n",
       "75%      675.000000    3.000000                      NaN   NaN   39.000000   \n",
       "max      891.000000    3.000000                      NaN   NaN   74.000000   \n",
       "\n",
       "             SibSp       Parch  Ticket        Fare Cabin Embarked  Survived  \n",
       "count   549.000000  549.000000     549  549.000000    68      549     549.0  \n",
       "unique         NaN         NaN     470         NaN    62        3       NaN  \n",
       "top            NaN         NaN  347082         NaN    G6        S       NaN  \n",
       "freq           NaN         NaN       7         NaN     2      427       NaN  \n",
       "mean      0.553734    0.329690     NaN   22.117887   NaN      NaN       0.0  \n",
       "std       1.288399    0.823166     NaN   31.388207   NaN      NaN       0.0  \n",
       "min       0.000000    0.000000     NaN    0.000000   NaN      NaN       0.0  \n",
       "25%       0.000000    0.000000     NaN    7.854200   NaN      NaN       0.0  \n",
       "50%       0.000000    0.000000     NaN   10.500000   NaN      NaN       0.0  \n",
       "75%       1.000000    0.000000     NaN   26.000000   NaN      NaN       0.0  \n",
       "max       8.000000    6.000000     NaN  263.000000   NaN      NaN       0.0  "
      ]
     },
     "execution_count": 16,
     "metadata": {},
     "output_type": "execute_result"
    }
   ],
   "source": [
    "train_s0 = train[train['Survived']==0]\n",
    "train_s0.describe(include='all')"
   ]
  },
  {
   "cell_type": "code",
   "execution_count": 17,
   "id": "19b398b1-537e-4306-9cec-f0e3aded0e2d",
   "metadata": {},
   "outputs": [
    {
     "data": {
      "text/html": [
       "<div>\n",
       "<style scoped>\n",
       "    .dataframe tbody tr th:only-of-type {\n",
       "        vertical-align: middle;\n",
       "    }\n",
       "\n",
       "    .dataframe tbody tr th {\n",
       "        vertical-align: top;\n",
       "    }\n",
       "\n",
       "    .dataframe thead th {\n",
       "        text-align: right;\n",
       "    }\n",
       "</style>\n",
       "<table border=\"1\" class=\"dataframe\">\n",
       "  <thead>\n",
       "    <tr style=\"text-align: right;\">\n",
       "      <th></th>\n",
       "      <th>PassengerId</th>\n",
       "      <th>Pclass</th>\n",
       "      <th>Name</th>\n",
       "      <th>Sex</th>\n",
       "      <th>Age</th>\n",
       "      <th>SibSp</th>\n",
       "      <th>Parch</th>\n",
       "      <th>Ticket</th>\n",
       "      <th>Fare</th>\n",
       "      <th>Cabin</th>\n",
       "      <th>Embarked</th>\n",
       "      <th>Survived</th>\n",
       "    </tr>\n",
       "  </thead>\n",
       "  <tbody>\n",
       "    <tr>\n",
       "      <th>count</th>\n",
       "      <td>342.000000</td>\n",
       "      <td>342.000000</td>\n",
       "      <td>342</td>\n",
       "      <td>342</td>\n",
       "      <td>290.000000</td>\n",
       "      <td>342.000000</td>\n",
       "      <td>342.000000</td>\n",
       "      <td>342</td>\n",
       "      <td>342.000000</td>\n",
       "      <td>136</td>\n",
       "      <td>340</td>\n",
       "      <td>342.0</td>\n",
       "    </tr>\n",
       "    <tr>\n",
       "      <th>unique</th>\n",
       "      <td>NaN</td>\n",
       "      <td>NaN</td>\n",
       "      <td>342</td>\n",
       "      <td>2</td>\n",
       "      <td>NaN</td>\n",
       "      <td>NaN</td>\n",
       "      <td>NaN</td>\n",
       "      <td>260</td>\n",
       "      <td>NaN</td>\n",
       "      <td>101</td>\n",
       "      <td>3</td>\n",
       "      <td>NaN</td>\n",
       "    </tr>\n",
       "    <tr>\n",
       "      <th>top</th>\n",
       "      <td>NaN</td>\n",
       "      <td>NaN</td>\n",
       "      <td>Cumings, Mrs. John Bradley (Florence Briggs Th...</td>\n",
       "      <td>female</td>\n",
       "      <td>NaN</td>\n",
       "      <td>NaN</td>\n",
       "      <td>NaN</td>\n",
       "      <td>1601</td>\n",
       "      <td>NaN</td>\n",
       "      <td>B96 B98</td>\n",
       "      <td>S</td>\n",
       "      <td>NaN</td>\n",
       "    </tr>\n",
       "    <tr>\n",
       "      <th>freq</th>\n",
       "      <td>NaN</td>\n",
       "      <td>NaN</td>\n",
       "      <td>1</td>\n",
       "      <td>233</td>\n",
       "      <td>NaN</td>\n",
       "      <td>NaN</td>\n",
       "      <td>NaN</td>\n",
       "      <td>5</td>\n",
       "      <td>NaN</td>\n",
       "      <td>4</td>\n",
       "      <td>217</td>\n",
       "      <td>NaN</td>\n",
       "    </tr>\n",
       "    <tr>\n",
       "      <th>mean</th>\n",
       "      <td>444.368421</td>\n",
       "      <td>1.950292</td>\n",
       "      <td>NaN</td>\n",
       "      <td>NaN</td>\n",
       "      <td>28.343690</td>\n",
       "      <td>0.473684</td>\n",
       "      <td>0.464912</td>\n",
       "      <td>NaN</td>\n",
       "      <td>48.395408</td>\n",
       "      <td>NaN</td>\n",
       "      <td>NaN</td>\n",
       "      <td>1.0</td>\n",
       "    </tr>\n",
       "    <tr>\n",
       "      <th>std</th>\n",
       "      <td>252.358840</td>\n",
       "      <td>0.863321</td>\n",
       "      <td>NaN</td>\n",
       "      <td>NaN</td>\n",
       "      <td>14.950952</td>\n",
       "      <td>0.708688</td>\n",
       "      <td>0.771712</td>\n",
       "      <td>NaN</td>\n",
       "      <td>66.596998</td>\n",
       "      <td>NaN</td>\n",
       "      <td>NaN</td>\n",
       "      <td>0.0</td>\n",
       "    </tr>\n",
       "    <tr>\n",
       "      <th>min</th>\n",
       "      <td>2.000000</td>\n",
       "      <td>1.000000</td>\n",
       "      <td>NaN</td>\n",
       "      <td>NaN</td>\n",
       "      <td>0.420000</td>\n",
       "      <td>0.000000</td>\n",
       "      <td>0.000000</td>\n",
       "      <td>NaN</td>\n",
       "      <td>0.000000</td>\n",
       "      <td>NaN</td>\n",
       "      <td>NaN</td>\n",
       "      <td>1.0</td>\n",
       "    </tr>\n",
       "    <tr>\n",
       "      <th>25%</th>\n",
       "      <td>250.750000</td>\n",
       "      <td>1.000000</td>\n",
       "      <td>NaN</td>\n",
       "      <td>NaN</td>\n",
       "      <td>19.000000</td>\n",
       "      <td>0.000000</td>\n",
       "      <td>0.000000</td>\n",
       "      <td>NaN</td>\n",
       "      <td>12.475000</td>\n",
       "      <td>NaN</td>\n",
       "      <td>NaN</td>\n",
       "      <td>1.0</td>\n",
       "    </tr>\n",
       "    <tr>\n",
       "      <th>50%</th>\n",
       "      <td>439.500000</td>\n",
       "      <td>2.000000</td>\n",
       "      <td>NaN</td>\n",
       "      <td>NaN</td>\n",
       "      <td>28.000000</td>\n",
       "      <td>0.000000</td>\n",
       "      <td>0.000000</td>\n",
       "      <td>NaN</td>\n",
       "      <td>26.000000</td>\n",
       "      <td>NaN</td>\n",
       "      <td>NaN</td>\n",
       "      <td>1.0</td>\n",
       "    </tr>\n",
       "    <tr>\n",
       "      <th>75%</th>\n",
       "      <td>651.500000</td>\n",
       "      <td>3.000000</td>\n",
       "      <td>NaN</td>\n",
       "      <td>NaN</td>\n",
       "      <td>36.000000</td>\n",
       "      <td>1.000000</td>\n",
       "      <td>1.000000</td>\n",
       "      <td>NaN</td>\n",
       "      <td>57.000000</td>\n",
       "      <td>NaN</td>\n",
       "      <td>NaN</td>\n",
       "      <td>1.0</td>\n",
       "    </tr>\n",
       "    <tr>\n",
       "      <th>max</th>\n",
       "      <td>890.000000</td>\n",
       "      <td>3.000000</td>\n",
       "      <td>NaN</td>\n",
       "      <td>NaN</td>\n",
       "      <td>80.000000</td>\n",
       "      <td>4.000000</td>\n",
       "      <td>5.000000</td>\n",
       "      <td>NaN</td>\n",
       "      <td>512.329200</td>\n",
       "      <td>NaN</td>\n",
       "      <td>NaN</td>\n",
       "      <td>1.0</td>\n",
       "    </tr>\n",
       "  </tbody>\n",
       "</table>\n",
       "</div>"
      ],
      "text/plain": [
       "        PassengerId      Pclass  \\\n",
       "count    342.000000  342.000000   \n",
       "unique          NaN         NaN   \n",
       "top             NaN         NaN   \n",
       "freq            NaN         NaN   \n",
       "mean     444.368421    1.950292   \n",
       "std      252.358840    0.863321   \n",
       "min        2.000000    1.000000   \n",
       "25%      250.750000    1.000000   \n",
       "50%      439.500000    2.000000   \n",
       "75%      651.500000    3.000000   \n",
       "max      890.000000    3.000000   \n",
       "\n",
       "                                                     Name     Sex         Age  \\\n",
       "count                                                 342     342  290.000000   \n",
       "unique                                                342       2         NaN   \n",
       "top     Cumings, Mrs. John Bradley (Florence Briggs Th...  female         NaN   \n",
       "freq                                                    1     233         NaN   \n",
       "mean                                                  NaN     NaN   28.343690   \n",
       "std                                                   NaN     NaN   14.950952   \n",
       "min                                                   NaN     NaN    0.420000   \n",
       "25%                                                   NaN     NaN   19.000000   \n",
       "50%                                                   NaN     NaN   28.000000   \n",
       "75%                                                   NaN     NaN   36.000000   \n",
       "max                                                   NaN     NaN   80.000000   \n",
       "\n",
       "             SibSp       Parch Ticket        Fare    Cabin Embarked  Survived  \n",
       "count   342.000000  342.000000    342  342.000000      136      340     342.0  \n",
       "unique         NaN         NaN    260         NaN      101        3       NaN  \n",
       "top            NaN         NaN   1601         NaN  B96 B98        S       NaN  \n",
       "freq           NaN         NaN      5         NaN        4      217       NaN  \n",
       "mean      0.473684    0.464912    NaN   48.395408      NaN      NaN       1.0  \n",
       "std       0.708688    0.771712    NaN   66.596998      NaN      NaN       0.0  \n",
       "min       0.000000    0.000000    NaN    0.000000      NaN      NaN       1.0  \n",
       "25%       0.000000    0.000000    NaN   12.475000      NaN      NaN       1.0  \n",
       "50%       0.000000    0.000000    NaN   26.000000      NaN      NaN       1.0  \n",
       "75%       1.000000    1.000000    NaN   57.000000      NaN      NaN       1.0  \n",
       "max       4.000000    5.000000    NaN  512.329200      NaN      NaN       1.0  "
      ]
     },
     "execution_count": 17,
     "metadata": {},
     "output_type": "execute_result"
    }
   ],
   "source": [
    "train_s1 = train[train['Survived']==1]\n",
    "train_s1.describe(include='all')"
   ]
  },
  {
   "cell_type": "markdown",
   "id": "afd30309-d61a-4c02-b4b4-f68bf0d878d8",
   "metadata": {},
   "source": [
    "### age（年齢）"
   ]
  },
  {
   "cell_type": "code",
   "execution_count": 18,
   "id": "fd5a1e9b-0a1e-4291-81a9-8f55ae33fcad",
   "metadata": {},
   "outputs": [
    {
     "data": {
      "text/plain": [
       "(array([36., 19., 63., 65., 52., 24., 21.,  9.,  0.,  1.]),\n",
       " array([ 0.42 ,  8.378, 16.336, 24.294, 32.252, 40.21 , 48.168, 56.126,\n",
       "        64.084, 72.042, 80.   ]),\n",
       " <BarContainer object of 10 artists>)"
      ]
     },
     "execution_count": 18,
     "metadata": {},
     "output_type": "execute_result"
    },
    {
     "data": {
      "image/png": "[encoded data removed]",
      "text/plain": [
       "<Figure size 432x288 with 1 Axes>"
      ]
     },
     "metadata": {
      "needs_background": "light"
     },
     "output_type": "display_data"
    }
   ],
   "source": [
    "plt.hist(train_s1['Age'])"
   ]
  },
  {
   "cell_type": "code",
   "execution_count": 19,
   "id": "9309c891-b3c9-4c19-b7ff-1b8655f43114",
   "metadata": {},
   "outputs": [
    {
     "data": {
      "text/plain": [
       "(array([ 18.,  16.,  99., 110.,  64.,  45.,  38.,  15.,  13.,   6.]),\n",
       " array([ 1. ,  8.3, 15.6, 22.9, 30.2, 37.5, 44.8, 52.1, 59.4, 66.7, 74. ]),\n",
       " <BarContainer object of 10 artists>)"
      ]
     },
     "execution_count": 19,
     "metadata": {},
     "output_type": "execute_result"
    },
    {
     "data": {
      "image/png": "[encoded data removed]",
      "text/plain": [
       "<Figure size 432x288 with 1 Axes>"
      ]
     },
     "metadata": {
      "needs_background": "light"
     },
     "output_type": "display_data"
    }
   ],
   "source": [
    "plt.hist(train_s0['Age'])"
   ]
  },
  {
   "cell_type": "markdown",
   "id": "ee229c73-1006-4d97-be08-cd97412b90c9",
   "metadata": {},
   "source": [
    "### Pclass（Passenger Class (1 = 1st; 2 = 2nd; 3 = 3rd)）"
   ]
  },
  {
   "cell_type": "code",
   "execution_count": 20,
   "id": "84f1de8e-101e-4a72-b8b2-086521c15797",
   "metadata": {},
   "outputs": [
    {
     "data": {
      "text/plain": [
       "(array([136.,   0.,   0.,   0.,   0.,  87.,   0.,   0.,   0., 119.]),\n",
       " array([1. , 1.2, 1.4, 1.6, 1.8, 2. , 2.2, 2.4, 2.6, 2.8, 3. ]),\n",
       " <BarContainer object of 10 artists>)"
      ]
     },
     "execution_count": 20,
     "metadata": {},
     "output_type": "execute_result"
    },
    {
     "data": {
      "image/png": "[encoded data removed]",
      "text/plain": [
       "<Figure size 432x288 with 1 Axes>"
      ]
     },
     "metadata": {
      "needs_background": "light"
     },
     "output_type": "display_data"
    }
   ],
   "source": [
    "plt.hist(train_s1['Pclass'])"
   ]
  },
  {
   "cell_type": "code",
   "execution_count": 21,
   "id": "769d10dd-7b49-4a40-bdfc-0cb28f2be84b",
   "metadata": {},
   "outputs": [
    {
     "data": {
      "text/plain": [
       "(array([ 80.,   0.,   0.,   0.,   0.,  97.,   0.,   0.,   0., 372.]),\n",
       " array([1. , 1.2, 1.4, 1.6, 1.8, 2. , 2.2, 2.4, 2.6, 2.8, 3. ]),\n",
       " <BarContainer object of 10 artists>)"
      ]
     },
     "execution_count": 21,
     "metadata": {},
     "output_type": "execute_result"
    },
    {
     "data": {
      "image/png": "[encoded data removed]",
      "text/plain": [
       "<Figure size 432x288 with 1 Axes>"
      ]
     },
     "metadata": {
      "needs_background": "light"
     },
     "output_type": "display_data"
    }
   ],
   "source": [
    "plt.hist(train_s0['Pclass'])"
   ]
  },
  {
   "cell_type": "markdown",
   "id": "709489ce-6a5a-4c15-aa0b-84a2ba0a7c63",
   "metadata": {},
   "source": [
    "### sex（male or female）"
   ]
  },
  {
   "cell_type": "code",
   "execution_count": 22,
   "id": "8701273f-84e7-4ca1-8e21-47f6818aca3d",
   "metadata": {},
   "outputs": [
    {
     "data": {
      "text/plain": [
       "(array([233.,   0.,   0.,   0.,   0.,   0.,   0.,   0.,   0., 109.]),\n",
       " array([0. , 0.1, 0.2, 0.3, 0.4, 0.5, 0.6, 0.7, 0.8, 0.9, 1. ]),\n",
       " <BarContainer object of 10 artists>)"
      ]
     },
     "execution_count": 22,
     "metadata": {},
     "output_type": "execute_result"
    },
    {
     "data": {
      "image/png": "[encoded data removed]",
      "text/plain": [
       "<Figure size 432x288 with 1 Axes>"
      ]
     },
     "metadata": {
      "needs_background": "light"
     },
     "output_type": "display_data"
    }
   ],
   "source": [
    "plt.hist(train_s1['Sex'])"
   ]
  },
  {
   "cell_type": "code",
   "execution_count": 23,
   "id": "5aaba06e-c61f-4e1c-bc57-d6380951ea33",
   "metadata": {},
   "outputs": [
    {
     "data": {
      "text/plain": [
       "(array([468.,   0.,   0.,   0.,   0.,   0.,   0.,   0.,   0.,  81.]),\n",
       " array([0. , 0.1, 0.2, 0.3, 0.4, 0.5, 0.6, 0.7, 0.8, 0.9, 1. ]),\n",
       " <BarContainer object of 10 artists>)"
      ]
     },
     "execution_count": 23,
     "metadata": {},
     "output_type": "execute_result"
    },
    {
     "data": {
      "image/png": "[encoded data removed]",
      "text/plain": [
       "<Figure size 432x288 with 1 Axes>"
      ]
     },
     "metadata": {
      "needs_background": "light"
     },
     "output_type": "display_data"
    }
   ],
   "source": [
    "plt.hist(train_s0['Sex'])"
   ]
  },
  {
   "cell_type": "markdown",
   "id": "f89f17a5-f956-4452-8b45-7c1e047afbfa",
   "metadata": {},
   "source": [
    "### sibsp（Number of Siblings/Spouses Aboard）"
   ]
  },
  {
   "cell_type": "markdown",
   "id": "e4838b8d-c265-42c3-be48-6d608a60c329",
   "metadata": {},
   "source": [
    "Number of Siblings/Spouses Aboard　⇒　一緒に乗船した兄弟、配偶者の数"
   ]
  },
  {
   "cell_type": "code",
   "execution_count": 24,
   "id": "10704d5e-eaa5-4754-a386-6c7cecf100c9",
   "metadata": {},
   "outputs": [
    {
     "data": {
      "text/plain": [
       "(array([210.,   0., 112.,   0.,   0.,  13.,   0.,   4.,   0.,   3.]),\n",
       " array([0. , 0.4, 0.8, 1.2, 1.6, 2. , 2.4, 2.8, 3.2, 3.6, 4. ]),\n",
       " <BarContainer object of 10 artists>)"
      ]
     },
     "execution_count": 24,
     "metadata": {},
     "output_type": "execute_result"
    },
    {
     "data": {
      "image/png": "[encoded data removed]",
      "text/plain": [
       "<Figure size 432x288 with 1 Axes>"
      ]
     },
     "metadata": {
      "needs_background": "light"
     },
     "output_type": "display_data"
    }
   ],
   "source": [
    "plt.hist(train_s1['SibSp'])"
   ]
  },
  {
   "cell_type": "code",
   "execution_count": 25,
   "id": "5259f356-d0a0-47ea-ae9e-da5fd7d11850",
   "metadata": {},
   "outputs": [
    {
     "data": {
      "text/plain": [
       "(array([398.,  97.,  15.,  12.,   0.,  15.,   5.,   0.,   0.,   7.]),\n",
       " array([0. , 0.8, 1.6, 2.4, 3.2, 4. , 4.8, 5.6, 6.4, 7.2, 8. ]),\n",
       " <BarContainer object of 10 artists>)"
      ]
     },
     "execution_count": 25,
     "metadata": {},
     "output_type": "execute_result"
    },
    {
     "data": {
      "image/png": "[encoded data removed]",
      "text/plain": [
       "<Figure size 432x288 with 1 Axes>"
      ]
     },
     "metadata": {
      "needs_background": "light"
     },
     "output_type": "display_data"
    }
   ],
   "source": [
    "plt.hist(train_s0['SibSp'])"
   ]
  },
  {
   "cell_type": "markdown",
   "id": "3b03d021-db7c-4ea5-ade9-3e5d6f55382c",
   "metadata": {},
   "source": [
    "### parch（Number of Parents/Children Aboard）"
   ]
  },
  {
   "cell_type": "markdown",
   "id": "7bfb214d-b295-415a-9cd1-c40d26958bcf",
   "metadata": {},
   "source": [
    "Number of Parents/Children Aboard　⇒　一緒に乗船した親子の数"
   ]
  },
  {
   "cell_type": "code",
   "execution_count": 26,
   "id": "e9285e4b-8092-4a12-96bb-ec328b89fbf2",
   "metadata": {},
   "outputs": [
    {
     "data": {
      "text/plain": [
       "(array([233.,   0.,  65.,   0.,  40.,   0.,   3.,   0.,   0.,   1.]),\n",
       " array([0. , 0.5, 1. , 1.5, 2. , 2.5, 3. , 3.5, 4. , 4.5, 5. ]),\n",
       " <BarContainer object of 10 artists>)"
      ]
     },
     "execution_count": 26,
     "metadata": {},
     "output_type": "execute_result"
    },
    {
     "data": {
      "image/png": "[encoded data removed]",
      "text/plain": [
       "<Figure size 432x288 with 1 Axes>"
      ]
     },
     "metadata": {
      "needs_background": "light"
     },
     "output_type": "display_data"
    }
   ],
   "source": [
    "plt.hist(train_s1['Parch'])"
   ]
  },
  {
   "cell_type": "code",
   "execution_count": 27,
   "id": "fb0e383b-05a1-4617-afbe-aad98b11a1ab",
   "metadata": {},
   "outputs": [
    {
     "data": {
      "text/plain": [
       "(array([445.,  53.,   0.,  40.,   0.,   2.,   4.,   0.,   4.,   1.]),\n",
       " array([0. , 0.6, 1.2, 1.8, 2.4, 3. , 3.6, 4.2, 4.8, 5.4, 6. ]),\n",
       " <BarContainer object of 10 artists>)"
      ]
     },
     "execution_count": 27,
     "metadata": {},
     "output_type": "execute_result"
    },
    {
     "data": {
      "image/png": "[encoded data removed]",
      "text/plain": [
       "<Figure size 432x288 with 1 Axes>"
      ]
     },
     "metadata": {
      "needs_background": "light"
     },
     "output_type": "display_data"
    }
   ],
   "source": [
    "plt.hist(train_s0['Parch'])"
   ]
  },
  {
   "cell_type": "markdown",
   "id": "da57935c-00b0-4ccb-b27f-47dfdc973389",
   "metadata": {},
   "source": [
    "### fare（Passenger fare）"
   ]
  },
  {
   "cell_type": "code",
   "execution_count": 28,
   "id": "ead7f236-c703-42bc-ba89-a4d8210176ca",
   "metadata": {},
   "outputs": [
    {
     "data": {
      "text/plain": [
       "(array([233.,  70.,  23.,   2.,   7.,   4.,   0.,   0.,   0.,   3.]),\n",
       " array([  0.     ,  51.23292, 102.46584, 153.69876, 204.93168, 256.1646 ,\n",
       "        307.39752, 358.63044, 409.86336, 461.09628, 512.3292 ]),\n",
       " <BarContainer object of 10 artists>)"
      ]
     },
     "execution_count": 28,
     "metadata": {},
     "output_type": "execute_result"
    },
    {
     "data": {
      "image/png": "[encoded data removed]",
      "text/plain": [
       "<Figure size 432x288 with 1 Axes>"
      ]
     },
     "metadata": {
      "needs_background": "light"
     },
     "output_type": "display_data"
    }
   ],
   "source": [
    "plt.hist(train_s1['Fare'])"
   ]
  },
  {
   "cell_type": "code",
   "execution_count": 29,
   "id": "f600c2af-8f6f-4899-bf2f-b9af7540eeaf",
   "metadata": {},
   "outputs": [
    {
     "data": {
      "text/plain": [
       "(array([421.,  83.,  25.,   6.,   4.,   4.,   0.,   0.,   3.,   3.]),\n",
       " array([  0. ,  26.3,  52.6,  78.9, 105.2, 131.5, 157.8, 184.1, 210.4,\n",
       "        236.7, 263. ]),\n",
       " <BarContainer object of 10 artists>)"
      ]
     },
     "execution_count": 29,
     "metadata": {},
     "output_type": "execute_result"
    },
    {
     "data": {
      "image/png": "[encoded data removed]",
      "text/plain": [
       "<Figure size 432x288 with 1 Axes>"
      ]
     },
     "metadata": {
      "needs_background": "light"
     },
     "output_type": "display_data"
    }
   ],
   "source": [
    "plt.hist(train_s0['Fare'])"
   ]
  },
  {
   "cell_type": "markdown",
   "id": "f60fd72a-a5ec-4642-a3af-846e1628e191",
   "metadata": {},
   "source": [
    "### embarked（Port of Embarkation）"
   ]
  },
  {
   "cell_type": "code",
   "execution_count": 30,
   "id": "1205d6d5-e19c-4039-9804-74d329537e2c",
   "metadata": {},
   "outputs": [
    {
     "name": "stdout",
     "output_type": "stream",
     "text": [
      "生き残り：C = Cherbourg→ 93\n",
      "生き残り：Q = Queenstown→ 30\n",
      "生き残り：S = Southampton→ 217\n"
     ]
    }
   ],
   "source": [
    "print('生き残り：C = Cherbourg→',len(train_s1[train_s1['Embarked']=='C']))\n",
    "print('生き残り：Q = Queenstown→',len(train_s1[train_s1['Embarked']=='Q']))\n",
    "print('生き残り：S = Southampton→',len(train_s1[train_s1['Embarked']=='S']))"
   ]
  },
  {
   "cell_type": "code",
   "execution_count": 31,
   "id": "a3a4eaf3-1aa6-473b-a252-51a577ef9da5",
   "metadata": {},
   "outputs": [
    {
     "name": "stdout",
     "output_type": "stream",
     "text": [
      "死亡：C = Cherbourg→ 75\n",
      "死亡：Q = Queenstown→ 47\n",
      "死亡：S = Southampton→ 427\n"
     ]
    }
   ],
   "source": [
    "print('死亡：C = Cherbourg→',len(train_s0[train_s0['Embarked']=='C']))\n",
    "print('死亡：Q = Queenstown→',len(train_s0[train_s0['Embarked']=='Q']))\n",
    "print('死亡：S = Southampton→',len(train_s0[train_s0['Embarked']=='S']))"
   ]
  },
  {
   "cell_type": "markdown",
   "id": "fd54ee34-2e59-4f71-a33b-3e3b3e1233ab",
   "metadata": {},
   "source": [
    "# 前処理"
   ]
  },
  {
   "cell_type": "markdown",
   "id": "dcdbbf93-1f28-4e61-8a8e-efd7cb54ab3d",
   "metadata": {},
   "source": [
    "## 欠損地処理"
   ]
  },
  {
   "cell_type": "code",
   "execution_count": 32,
   "id": "7fd04746-0ee2-4eb5-aba2-0c58e67b555b",
   "metadata": {},
   "outputs": [
    {
     "data": {
      "text/plain": [
       "PassengerId      0\n",
       "Pclass           0\n",
       "Name             0\n",
       "Sex              0\n",
       "Age            177\n",
       "SibSp            0\n",
       "Parch            0\n",
       "Ticket           0\n",
       "Fare             0\n",
       "Cabin          687\n",
       "Embarked         2\n",
       "Survived         0\n",
       "dtype: int64"
      ]
     },
     "execution_count": 32,
     "metadata": {},
     "output_type": "execute_result"
    }
   ],
   "source": [
    "train.isnull().sum()"
   ]
  },
  {
   "cell_type": "code",
   "execution_count": 33,
   "id": "994a7449-1527-43c8-b8eb-b330c99ad3e6",
   "metadata": {},
   "outputs": [
    {
     "data": {
      "text/plain": [
       "PassengerId      0\n",
       "Pclass           0\n",
       "Name             0\n",
       "Sex              0\n",
       "Age             86\n",
       "SibSp            0\n",
       "Parch            0\n",
       "Ticket           0\n",
       "Fare             1\n",
       "Cabin          327\n",
       "Embarked         0\n",
       "dtype: int64"
      ]
     },
     "execution_count": 33,
     "metadata": {},
     "output_type": "execute_result"
    }
   ],
   "source": [
    "test.isnull().sum()"
   ]
  },
  {
   "cell_type": "markdown",
   "id": "de784d47-05cf-49d7-8ca6-77c6913d8a2f",
   "metadata": {},
   "source": [
    "### ageの欠損値処理"
   ]
  },
  {
   "cell_type": "code",
   "execution_count": 34,
   "id": "1ee625c7-3501-4adb-b5ca-9af73528edd2",
   "metadata": {},
   "outputs": [],
   "source": [
    "train['Age'] = train['Age'].fillna(train['Age'].median())"
   ]
  },
  {
   "cell_type": "code",
   "execution_count": 35,
   "id": "8575ded1-e94c-4524-8ea1-9a17470dd7b3",
   "metadata": {},
   "outputs": [],
   "source": [
    "test['Age'] = test['Age'].fillna(test['Age'].median())"
   ]
  },
  {
   "cell_type": "code",
   "execution_count": 36,
   "id": "24f96c27-5fa1-43b7-a932-6adf68f6bbef",
   "metadata": {},
   "outputs": [
    {
     "name": "stdout",
     "output_type": "stream",
     "text": [
      "PassengerId      0\n",
      "Pclass           0\n",
      "Name             0\n",
      "Sex              0\n",
      "Age              0\n",
      "SibSp            0\n",
      "Parch            0\n",
      "Ticket           0\n",
      "Fare             0\n",
      "Cabin          687\n",
      "Embarked         2\n",
      "Survived         0\n",
      "dtype: int64\n",
      "PassengerId      0\n",
      "Pclass           0\n",
      "Name             0\n",
      "Sex              0\n",
      "Age              0\n",
      "SibSp            0\n",
      "Parch            0\n",
      "Ticket           0\n",
      "Fare             1\n",
      "Cabin          327\n",
      "Embarked         0\n",
      "dtype: int64\n"
     ]
    }
   ],
   "source": [
    "print(train.isnull().sum())\n",
    "print(test.isnull().sum())"
   ]
  },
  {
   "cell_type": "markdown",
   "id": "7d4204e4-4be7-44f1-b914-3c36ba9f3f55",
   "metadata": {},
   "source": [
    "## 文字列データを数値に変換"
   ]
  },
  {
   "cell_type": "code",
   "execution_count": 37,
   "id": "02b09478-740f-4cef-ba1e-b62e8ca3707a",
   "metadata": {},
   "outputs": [
    {
     "name": "stderr",
     "output_type": "stream",
     "text": [
      "C:\\Users\\09de1\\AppData\\Local\\Temp\\ipykernel_11660\\2262783174.py:2: SettingWithCopyWarning: \n",
      "A value is trying to be set on a copy of a slice from a DataFrame\n",
      "\n",
      "See the caveats in the documentation: https://pandas.pydata.org/pandas-docs/stable/user_guide/indexing.html#returning-a-view-versus-a-copy\n",
      "  train['Sex'][train['Sex'] == 'male'] = 0\n",
      "C:\\Users\\09de1\\AppData\\Local\\Temp\\ipykernel_11660\\2262783174.py:3: SettingWithCopyWarning: \n",
      "A value is trying to be set on a copy of a slice from a DataFrame\n",
      "\n",
      "See the caveats in the documentation: https://pandas.pydata.org/pandas-docs/stable/user_guide/indexing.html#returning-a-view-versus-a-copy\n",
      "  train['Sex'][train['Sex'] == 'female'] = 1\n",
      "C:\\Users\\09de1\\AppData\\Local\\Temp\\ipykernel_11660\\2262783174.py:4: SettingWithCopyWarning: \n",
      "A value is trying to be set on a copy of a slice from a DataFrame\n",
      "\n",
      "See the caveats in the documentation: https://pandas.pydata.org/pandas-docs/stable/user_guide/indexing.html#returning-a-view-versus-a-copy\n",
      "  test['Sex'][test['Sex'] == 'male'] = 0\n",
      "C:\\Users\\09de1\\AppData\\Local\\Temp\\ipykernel_11660\\2262783174.py:5: SettingWithCopyWarning: \n",
      "A value is trying to be set on a copy of a slice from a DataFrame\n",
      "\n",
      "See the caveats in the documentation: https://pandas.pydata.org/pandas-docs/stable/user_guide/indexing.html#returning-a-view-versus-a-copy\n",
      "  test['Sex'][test['Sex'] == 'female'] = 1\n"
     ]
    }
   ],
   "source": [
    "# male=0,female=1に変換\n",
    "train['Sex'][train['Sex'] == 'male'] = 0\n",
    "train['Sex'][train['Sex'] == 'female'] = 1\n",
    "test['Sex'][test['Sex'] == 'male'] = 0\n",
    "test['Sex'][test['Sex'] == 'female'] = 1"
   ]
  },
  {
   "cell_type": "code",
   "execution_count": 38,
   "id": "f6070fe3-8009-4ede-828f-243b8bd416be",
   "metadata": {},
   "outputs": [
    {
     "data": {
      "text/plain": [
       "0      0\n",
       "1      1\n",
       "2      1\n",
       "3      1\n",
       "4      0\n",
       "      ..\n",
       "886    0\n",
       "887    1\n",
       "888    1\n",
       "889    0\n",
       "890    0\n",
       "Name: Sex, Length: 891, dtype: object"
      ]
     },
     "execution_count": 38,
     "metadata": {},
     "output_type": "execute_result"
    }
   ],
   "source": [
    "train['Sex']"
   ]
  },
  {
   "cell_type": "code",
   "execution_count": 39,
   "id": "8adc8cae-b46a-4a7f-82f2-fc092d5fe477",
   "metadata": {},
   "outputs": [
    {
     "name": "stderr",
     "output_type": "stream",
     "text": [
      "C:\\Users\\09de1\\AppData\\Local\\Temp\\ipykernel_11660\\3827633073.py:2: SettingWithCopyWarning: \n",
      "A value is trying to be set on a copy of a slice from a DataFrame\n",
      "\n",
      "See the caveats in the documentation: https://pandas.pydata.org/pandas-docs/stable/user_guide/indexing.html#returning-a-view-versus-a-copy\n",
      "  train[\"Embarked\"][train[\"Embarked\"] == \"S\" ] = 0\n",
      "C:\\Users\\09de1\\AppData\\Local\\Temp\\ipykernel_11660\\3827633073.py:3: SettingWithCopyWarning: \n",
      "A value is trying to be set on a copy of a slice from a DataFrame\n",
      "\n",
      "See the caveats in the documentation: https://pandas.pydata.org/pandas-docs/stable/user_guide/indexing.html#returning-a-view-versus-a-copy\n",
      "  train[\"Embarked\"][train[\"Embarked\"] == \"C\" ] = 1\n",
      "C:\\Users\\09de1\\AppData\\Local\\Temp\\ipykernel_11660\\3827633073.py:4: SettingWithCopyWarning: \n",
      "A value is trying to be set on a copy of a slice from a DataFrame\n",
      "\n",
      "See the caveats in the documentation: https://pandas.pydata.org/pandas-docs/stable/user_guide/indexing.html#returning-a-view-versus-a-copy\n",
      "  train[\"Embarked\"][train[\"Embarked\"] == \"Q\"] = 2\n",
      "C:\\Users\\09de1\\AppData\\Local\\Temp\\ipykernel_11660\\3827633073.py:5: SettingWithCopyWarning: \n",
      "A value is trying to be set on a copy of a slice from a DataFrame\n",
      "\n",
      "See the caveats in the documentation: https://pandas.pydata.org/pandas-docs/stable/user_guide/indexing.html#returning-a-view-versus-a-copy\n",
      "  test[\"Embarked\"][test[\"Embarked\"] == \"S\" ] = 0\n",
      "C:\\Users\\09de1\\AppData\\Local\\Temp\\ipykernel_11660\\3827633073.py:6: SettingWithCopyWarning: \n",
      "A value is trying to be set on a copy of a slice from a DataFrame\n",
      "\n",
      "See the caveats in the documentation: https://pandas.pydata.org/pandas-docs/stable/user_guide/indexing.html#returning-a-view-versus-a-copy\n",
      "  test[\"Embarked\"][test[\"Embarked\"] == \"C\" ] = 1\n",
      "C:\\Users\\09de1\\AppData\\Local\\Temp\\ipykernel_11660\\3827633073.py:7: SettingWithCopyWarning: \n",
      "A value is trying to be set on a copy of a slice from a DataFrame\n",
      "\n",
      "See the caveats in the documentation: https://pandas.pydata.org/pandas-docs/stable/user_guide/indexing.html#returning-a-view-versus-a-copy\n",
      "  test[\"Embarked\"][test[\"Embarked\"] == \"Q\"] = 2\n"
     ]
    }
   ],
   "source": [
    "# S(Southampton)=0,C(Cherbourg)=1, Q(Queenstown)=2\n",
    "train[\"Embarked\"][train[\"Embarked\"] == \"S\" ] = 0\n",
    "train[\"Embarked\"][train[\"Embarked\"] == \"C\" ] = 1\n",
    "train[\"Embarked\"][train[\"Embarked\"] == \"Q\"] = 2\n",
    "test[\"Embarked\"][test[\"Embarked\"] == \"S\" ] = 0\n",
    "test[\"Embarked\"][test[\"Embarked\"] == \"C\" ] = 1\n",
    "test[\"Embarked\"][test[\"Embarked\"] == \"Q\"] = 2"
   ]
  },
  {
   "cell_type": "code",
   "execution_count": 40,
   "id": "5a7bb6b8-b4ee-4e51-b315-4a2b4b0cb40a",
   "metadata": {},
   "outputs": [
    {
     "data": {
      "text/plain": [
       "PassengerId      0\n",
       "Pclass           0\n",
       "Name             0\n",
       "Sex              0\n",
       "Age              0\n",
       "SibSp            0\n",
       "Parch            0\n",
       "Ticket           0\n",
       "Fare             0\n",
       "Cabin          687\n",
       "Embarked         0\n",
       "Survived         0\n",
       "dtype: int64"
      ]
     },
     "execution_count": 40,
     "metadata": {},
     "output_type": "execute_result"
    }
   ],
   "source": [
    "train = train.fillna({'Embarked': 0})\n",
    "train.isnull().sum()"
   ]
  },
  {
   "cell_type": "code",
   "execution_count": 41,
   "id": "9797b3c4-ae78-4d7d-929d-9c7d977cbdf7",
   "metadata": {},
   "outputs": [],
   "source": [
    "train['Sex'] = train['Sex'].astype(int)\n",
    "train['Embarked'] = train['Embarked'].astype(int)"
   ]
  },
  {
   "cell_type": "code",
   "execution_count": 42,
   "id": "e00736a3-b31f-4c25-9cd4-2c830a94ad35",
   "metadata": {},
   "outputs": [
    {
     "data": {
      "text/html": [
       "<div>\n",
       "<style scoped>\n",
       "    .dataframe tbody tr th:only-of-type {\n",
       "        vertical-align: middle;\n",
       "    }\n",
       "\n",
       "    .dataframe tbody tr th {\n",
       "        vertical-align: top;\n",
       "    }\n",
       "\n",
       "    .dataframe thead th {\n",
       "        text-align: right;\n",
       "    }\n",
       "</style>\n",
       "<table border=\"1\" class=\"dataframe\">\n",
       "  <thead>\n",
       "    <tr style=\"text-align: right;\">\n",
       "      <th></th>\n",
       "      <th>PassengerId</th>\n",
       "      <th>Pclass</th>\n",
       "      <th>Name</th>\n",
       "      <th>Sex</th>\n",
       "      <th>Age</th>\n",
       "      <th>SibSp</th>\n",
       "      <th>Parch</th>\n",
       "      <th>Ticket</th>\n",
       "      <th>Fare</th>\n",
       "      <th>Cabin</th>\n",
       "      <th>Embarked</th>\n",
       "      <th>Survived</th>\n",
       "    </tr>\n",
       "  </thead>\n",
       "  <tbody>\n",
       "    <tr>\n",
       "      <th>0</th>\n",
       "      <td>1</td>\n",
       "      <td>3</td>\n",
       "      <td>Braund, Mr. Owen Harris</td>\n",
       "      <td>0</td>\n",
       "      <td>22.0</td>\n",
       "      <td>1</td>\n",
       "      <td>0</td>\n",
       "      <td>A/5 21171</td>\n",
       "      <td>7.2500</td>\n",
       "      <td>NaN</td>\n",
       "      <td>0</td>\n",
       "      <td>0</td>\n",
       "    </tr>\n",
       "    <tr>\n",
       "      <th>1</th>\n",
       "      <td>2</td>\n",
       "      <td>1</td>\n",
       "      <td>Cumings, Mrs. John Bradley (Florence Briggs Th...</td>\n",
       "      <td>1</td>\n",
       "      <td>38.0</td>\n",
       "      <td>1</td>\n",
       "      <td>0</td>\n",
       "      <td>PC 17599</td>\n",
       "      <td>71.2833</td>\n",
       "      <td>C85</td>\n",
       "      <td>1</td>\n",
       "      <td>1</td>\n",
       "    </tr>\n",
       "    <tr>\n",
       "      <th>2</th>\n",
       "      <td>3</td>\n",
       "      <td>3</td>\n",
       "      <td>Heikkinen, Miss. Laina</td>\n",
       "      <td>1</td>\n",
       "      <td>26.0</td>\n",
       "      <td>0</td>\n",
       "      <td>0</td>\n",
       "      <td>STON/O2. 3101282</td>\n",
       "      <td>7.9250</td>\n",
       "      <td>NaN</td>\n",
       "      <td>0</td>\n",
       "      <td>1</td>\n",
       "    </tr>\n",
       "    <tr>\n",
       "      <th>3</th>\n",
       "      <td>4</td>\n",
       "      <td>1</td>\n",
       "      <td>Futrelle, Mrs. Jacques Heath (Lily May Peel)</td>\n",
       "      <td>1</td>\n",
       "      <td>35.0</td>\n",
       "      <td>1</td>\n",
       "      <td>0</td>\n",
       "      <td>113803</td>\n",
       "      <td>53.1000</td>\n",
       "      <td>C123</td>\n",
       "      <td>0</td>\n",
       "      <td>1</td>\n",
       "    </tr>\n",
       "    <tr>\n",
       "      <th>4</th>\n",
       "      <td>5</td>\n",
       "      <td>3</td>\n",
       "      <td>Allen, Mr. William Henry</td>\n",
       "      <td>0</td>\n",
       "      <td>35.0</td>\n",
       "      <td>0</td>\n",
       "      <td>0</td>\n",
       "      <td>373450</td>\n",
       "      <td>8.0500</td>\n",
       "      <td>NaN</td>\n",
       "      <td>0</td>\n",
       "      <td>0</td>\n",
       "    </tr>\n",
       "  </tbody>\n",
       "</table>\n",
       "</div>"
      ],
      "text/plain": [
       "   PassengerId  Pclass                                               Name  \\\n",
       "0            1       3                            Braund, Mr. Owen Harris   \n",
       "1            2       1  Cumings, Mrs. John Bradley (Florence Briggs Th...   \n",
       "2            3       3                             Heikkinen, Miss. Laina   \n",
       "3            4       1       Futrelle, Mrs. Jacques Heath (Lily May Peel)   \n",
       "4            5       3                           Allen, Mr. William Henry   \n",
       "\n",
       "   Sex   Age  SibSp  Parch            Ticket     Fare Cabin  Embarked  \\\n",
       "0    0  22.0      1      0         A/5 21171   7.2500   NaN         0   \n",
       "1    1  38.0      1      0          PC 17599  71.2833   C85         1   \n",
       "2    1  26.0      0      0  STON/O2. 3101282   7.9250   NaN         0   \n",
       "3    1  35.0      1      0            113803  53.1000  C123         0   \n",
       "4    0  35.0      0      0            373450   8.0500   NaN         0   \n",
       "\n",
       "   Survived  \n",
       "0         0  \n",
       "1         1  \n",
       "2         1  \n",
       "3         1  \n",
       "4         0  "
      ]
     },
     "execution_count": 42,
     "metadata": {},
     "output_type": "execute_result"
    }
   ],
   "source": [
    "train.head()"
   ]
  },
  {
   "cell_type": "code",
   "execution_count": 43,
   "id": "1ab562e8-8314-45de-a0ad-8166d59c754b",
   "metadata": {},
   "outputs": [],
   "source": [
    "features_col = ['Pclass', 'Age', 'Sex', 'Fare', 'SibSp', 'Parch', 'Embarked']\n",
    "\n",
    "train_y = train['Survived'].values\n",
    "train_X = train[features_col].values"
   ]
  },
  {
   "cell_type": "code",
   "execution_count": 44,
   "id": "1a3b6512-3046-4233-a59b-d53ddf6aec29",
   "metadata": {},
   "outputs": [
    {
     "name": "stdout",
     "output_type": "stream",
     "text": [
      "(891,)\n",
      "(891, 7)\n"
     ]
    }
   ],
   "source": [
    "print(train_y.shape)\n",
    "print(train_X.shape)"
   ]
  },
  {
   "cell_type": "markdown",
   "id": "7a586c2f-6079-4b4a-848e-950caf0df59a",
   "metadata": {},
   "source": [
    "## 変数間の相関を可視化"
   ]
  },
  {
   "cell_type": "markdown",
   "id": "f90b95fa-8810-4e14-8c34-b5f81df95518",
   "metadata": {},
   "source": [
    "### 相関係数が-0.7以下、または0.7以上のものは相関高い？"
   ]
  },
  {
   "cell_type": "code",
   "execution_count": 45,
   "id": "034990d7-8be0-4ada-995f-febe93694df6",
   "metadata": {},
   "outputs": [
    {
     "data": {
      "text/plain": [
       "<AxesSubplot:>"
      ]
     },
     "execution_count": 45,
     "metadata": {},
     "output_type": "execute_result"
    },
    {
     "data": {
      "image/png": "[encoded data removed]",
      "text/plain": [
       "<Figure size 432x288 with 2 Axes>"
      ]
     },
     "metadata": {
      "needs_background": "light"
     },
     "output_type": "display_data"
    }
   ],
   "source": [
    "# 分散・共分散行列を見やすいヒートマップ形式にて出力\n",
    "sns.heatmap(train[features_col].corr(), annot=True, fmt='.2f')"
   ]
  },
  {
   "cell_type": "markdown",
   "id": "2e3f5b5b-10dd-4e07-a192-a0138085a638",
   "metadata": {},
   "source": [
    "# xgboost"
   ]
  },
  {
   "cell_type": "markdown",
   "id": "be1a72bc-a3c1-4119-aca9-2565ed50fc15",
   "metadata": {},
   "source": [
    "## GridSearchCVによるパラメータチューニング"
   ]
  },
  {
   "cell_type": "code",
   "execution_count": 46,
   "id": "637f579d-7a7a-4783-927e-2a4eb8ca4de9",
   "metadata": {},
   "outputs": [],
   "source": [
    "from xgboost import XGBClassifier"
   ]
  },
  {
   "cell_type": "code",
   "execution_count": 47,
   "id": "2ba05ef5-a1f0-4a93-96e7-7da2f1aa0509",
   "metadata": {},
   "outputs": [],
   "source": [
    "from sklearn.model_selection import GridSearchCV"
   ]
  },
  {
   "cell_type": "code",
   "execution_count": 48,
   "id": "6360d0a7-bc5f-469c-9ece-f9caec35729e",
   "metadata": {},
   "outputs": [],
   "source": [
    "parameters = {\n",
    "    'n_estimators':[i for i in range(10, 100, 10)],\n",
    "    'learning_rate':[10, 1, 0.1, 0.01],\n",
    "    'max_depth':[i for i in range(1, 5, 1)],\n",
    "    'random_state':[3],\n",
    "}"
   ]
  },
  {
   "cell_type": "code",
   "execution_count": 49,
   "id": "7add5da2-ab71-4239-8873-c623160e901a",
   "metadata": {},
   "outputs": [],
   "source": [
    "# parameters ={'max_depth':[3,4,5,6,7,8],\n",
    "#             'min_child_weight':[1,2,3,4,5],\n",
    "#             'gamma':[i/10.0 for i in range(0,6)],\n",
    "#             'subsample':[i/10.0 for i in range(6,11)],\n",
    "#             'colsample_bytree':[i/10.0 for i in range(6,11)],\n",
    "#             'reg_alpha':[1e-5, 1e-2, 0.1, 1, 100],\n",
    "#             'n_estimators':[1000,2000],\n",
    "#             'reg_lambda':[1e-5, 1e-2, 0.1, 1],\n",
    "#             'learning_rate':[0.1,0.2,0.3]\n",
    "#             }"
   ]
  },
  {
   "cell_type": "code",
   "execution_count": 50,
   "id": "fa88505c-0d8b-437e-ba51-1daacf2deed5",
   "metadata": {},
   "outputs": [],
   "source": [
    "clf = GridSearchCV(XGBClassifier(), parameters, cv=5)"
   ]
  },
  {
   "cell_type": "code",
   "execution_count": 51,
   "id": "89bf7ae7-3232-4154-b43a-b9d9cc3e7eb7",
   "metadata": {},
   "outputs": [],
   "source": [
    "# clf.fit(train_X, train_y)"
   ]
  },
  {
   "cell_type": "code",
   "execution_count": 52,
   "id": "4d02c3d7-2d8a-4e90-9826-45d81e40175a",
   "metadata": {},
   "outputs": [],
   "source": [
    "# clf.best_params_"
   ]
  },
  {
   "cell_type": "code",
   "execution_count": 53,
   "id": "70901c1f-17c2-44c8-a161-07a618a0910b",
   "metadata": {},
   "outputs": [],
   "source": [
    "# clf.best_score_"
   ]
  },
  {
   "cell_type": "code",
   "execution_count": 54,
   "id": "b7c73744-34c4-4cd1-9cbd-c2855a4a8129",
   "metadata": {},
   "outputs": [],
   "source": [
    "from xgboost import XGBClassifier"
   ]
  },
  {
   "cell_type": "code",
   "execution_count": 55,
   "id": "47bed91f-c6d5-4ec1-8e91-88b5d5e2fc32",
   "metadata": {},
   "outputs": [],
   "source": [
    "model_XGB = XGBClassifier(max_depth=2, learning_rate=1, n_estimators=60, random_state=3)"
   ]
  },
  {
   "cell_type": "code",
   "execution_count": 56,
   "id": "43602833-9fe1-4dd9-a9e2-5254621030c7",
   "metadata": {},
   "outputs": [
    {
     "data": {
      "text/html": [
       "<style>#sk-container-id-1 {color: black;background-color: white;}#sk-container-id-1 pre{padding: 0;}#sk-container-id-1 div.sk-toggleable {background-color: white;}#sk-container-id-1 label.sk-toggleable__label {cursor: pointer;display: block;width: 100%;margin-bottom: 0;padding: 0.3em;box-sizing: border-box;text-align: center;}#sk-container-id-1 label.sk-toggleable__label-arrow:before {content: \"▸\";float: left;margin-right: 0.25em;color: #696969;}#sk-container-id-1 label.sk-toggleable__label-arrow:hover:before {color: black;}#sk-container-id-1 div.sk-estimator:hover label.sk-toggleable__label-arrow:before {color: black;}#sk-container-id-1 div.sk-toggleable__content {max-height: 0;max-width: 0;overflow: hidden;text-align: left;background-color: #f0f8ff;}#sk-container-id-1 div.sk-toggleable__content pre {margin: 0.2em;color: black;border-radius: 0.25em;background-color: #f0f8ff;}#sk-container-id-1 input.sk-toggleable__control:checked~div.sk-toggleable__content {max-height: 200px;max-width: 100%;overflow: auto;}#sk-container-id-1 input.sk-toggleable__control:checked~label.sk-toggleable__label-arrow:before {content: \"▾\";}#sk-container-id-1 div.sk-estimator input.sk-toggleable__control:checked~label.sk-toggleable__label {background-color: #d4ebff;}#sk-container-id-1 div.sk-label input.sk-toggleable__control:checked~label.sk-toggleable__label {background-color: #d4ebff;}#sk-container-id-1 input.sk-hidden--visually {border: 0;clip: rect(1px 1px 1px 1px);clip: rect(1px, 1px, 1px, 1px);height: 1px;margin: -1px;overflow: hidden;padding: 0;position: absolute;width: 1px;}#sk-container-id-1 div.sk-estimator {font-family: monospace;background-color: #f0f8ff;border: 1px dotted black;border-radius: 0.25em;box-sizing: border-box;margin-bottom: 0.5em;}#sk-container-id-1 div.sk-estimator:hover {background-color: #d4ebff;}#sk-container-id-1 div.sk-parallel-item::after {content: \"\";width: 100%;border-bottom: 1px solid gray;flex-grow: 1;}#sk-container-id-1 div.sk-label:hover label.sk-toggleable__label {background-color: #d4ebff;}#sk-container-id-1 div.sk-serial::before {content: \"\";position: absolute;border-left: 1px solid gray;box-sizing: border-box;top: 0;bottom: 0;left: 50%;z-index: 0;}#sk-container-id-1 div.sk-serial {display: flex;flex-direction: column;align-items: center;background-color: white;padding-right: 0.2em;padding-left: 0.2em;position: relative;}#sk-container-id-1 div.sk-item {position: relative;z-index: 1;}#sk-container-id-1 div.sk-parallel {display: flex;align-items: stretch;justify-content: center;background-color: white;position: relative;}#sk-container-id-1 div.sk-item::before, #sk-container-id-1 div.sk-parallel-item::before {content: \"\";position: absolute;border-left: 1px solid gray;box-sizing: border-box;top: 0;bottom: 0;left: 50%;z-index: -1;}#sk-container-id-1 div.sk-parallel-item {display: flex;flex-direction: column;z-index: 1;position: relative;background-color: white;}#sk-container-id-1 div.sk-parallel-item:first-child::after {align-self: flex-end;width: 50%;}#sk-container-id-1 div.sk-parallel-item:last-child::after {align-self: flex-start;width: 50%;}#sk-container-id-1 div.sk-parallel-item:only-child::after {width: 0;}#sk-container-id-1 div.sk-dashed-wrapped {border: 1px dashed gray;margin: 0 0.4em 0.5em 0.4em;box-sizing: border-box;padding-bottom: 0.4em;background-color: white;}#sk-container-id-1 div.sk-label label {font-family: monospace;font-weight: bold;display: inline-block;line-height: 1.2em;}#sk-container-id-1 div.sk-label-container {text-align: center;}#sk-container-id-1 div.sk-container {/* jupyter's `normalize.less` sets `[hidden] { display: none; }` but bootstrap.min.css set `[hidden] { display: none !important; }` so we also need the `!important` here to be able to override the default hidden behavior on the sphinx rendered scikit-learn.org. See: https://github.com/scikit-learn/scikit-learn/issues/21755 */display: inline-block !important;position: relative;}#sk-container-id-1 div.sk-text-repr-fallback {display: none;}</style><div id=\"sk-container-id-1\" class=\"sk-top-container\"><div class=\"sk-text-repr-fallback\"><pre>XGBClassifier(base_score=0.5, booster=&#x27;gbtree&#x27;, callbacks=None,\n",
       "              colsample_bylevel=1, colsample_bynode=1, colsample_bytree=1,\n",
       "              early_stopping_rounds=None, enable_categorical=False,\n",
       "              eval_metric=None, gamma=0, gpu_id=-1, grow_policy=&#x27;depthwise&#x27;,\n",
       "              importance_type=None, interaction_constraints=&#x27;&#x27;, learning_rate=1,\n",
       "              max_bin=256, max_cat_to_onehot=4, max_delta_step=0, max_depth=2,\n",
       "              max_leaves=0, min_child_weight=1, missing=nan,\n",
       "              monotone_constraints=&#x27;()&#x27;, n_estimators=60, n_jobs=0,\n",
       "              num_parallel_tree=1, predictor=&#x27;auto&#x27;, random_state=3,\n",
       "              reg_alpha=0, reg_lambda=1, ...)</pre><b>In a Jupyter environment, please rerun this cell to show the HTML representation or trust the notebook. <br />On GitHub, the HTML representation is unable to render, please try loading this page with nbviewer.org.</b></div><div class=\"sk-container\" hidden><div class=\"sk-item\"><div class=\"sk-estimator sk-toggleable\"><input class=\"sk-toggleable__control sk-hidden--visually\" id=\"sk-estimator-id-1\" type=\"checkbox\" checked><label for=\"sk-estimator-id-1\" class=\"sk-toggleable__label sk-toggleable__label-arrow\">XGBClassifier</label><div class=\"sk-toggleable__content\"><pre>XGBClassifier(base_score=0.5, booster=&#x27;gbtree&#x27;, callbacks=None,\n",
       "              colsample_bylevel=1, colsample_bynode=1, colsample_bytree=1,\n",
       "              early_stopping_rounds=None, enable_categorical=False,\n",
       "              eval_metric=None, gamma=0, gpu_id=-1, grow_policy=&#x27;depthwise&#x27;,\n",
       "              importance_type=None, interaction_constraints=&#x27;&#x27;, learning_rate=1,\n",
       "              max_bin=256, max_cat_to_onehot=4, max_delta_step=0, max_depth=2,\n",
       "              max_leaves=0, min_child_weight=1, missing=nan,\n",
       "              monotone_constraints=&#x27;()&#x27;, n_estimators=60, n_jobs=0,\n",
       "              num_parallel_tree=1, predictor=&#x27;auto&#x27;, random_state=3,\n",
       "              reg_alpha=0, reg_lambda=1, ...)</pre></div></div></div></div></div>"
      ],
      "text/plain": [
       "XGBClassifier(base_score=0.5, booster='gbtree', callbacks=None,\n",
       "              colsample_bylevel=1, colsample_bynode=1, colsample_bytree=1,\n",
       "              early_stopping_rounds=None, enable_categorical=False,\n",
       "              eval_metric=None, gamma=0, gpu_id=-1, grow_policy='depthwise',\n",
       "              importance_type=None, interaction_constraints='', learning_rate=1,\n",
       "              max_bin=256, max_cat_to_onehot=4, max_delta_step=0, max_depth=2,\n",
       "              max_leaves=0, min_child_weight=1, missing=nan,\n",
       "              monotone_constraints='()', n_estimators=60, n_jobs=0,\n",
       "              num_parallel_tree=1, predictor='auto', random_state=3,\n",
       "              reg_alpha=0, reg_lambda=1, ...)"
      ]
     },
     "execution_count": 56,
     "metadata": {},
     "output_type": "execute_result"
    }
   ],
   "source": [
    "model_XGB.fit(train_X, train_y)"
   ]
  },
  {
   "cell_type": "code",
   "execution_count": 57,
   "id": "8b287012-775d-4da9-ab44-68722a14e030",
   "metadata": {},
   "outputs": [
    {
     "data": {
      "text/plain": [
       "0.9079685746352413"
      ]
     },
     "execution_count": 57,
     "metadata": {},
     "output_type": "execute_result"
    }
   ],
   "source": [
    "model_XGB.score(train_X, train_y)"
   ]
  },
  {
   "cell_type": "markdown",
   "id": "fe41b4d6-a744-4882-ac95-900a37438b9c",
   "metadata": {},
   "source": [
    "## 予測"
   ]
  },
  {
   "cell_type": "code",
   "execution_count": 58,
   "id": "12d3d0e9-e5b2-43a1-aa1b-5a47977d69cc",
   "metadata": {},
   "outputs": [],
   "source": [
    "test_X = test[features_col].values"
   ]
  },
  {
   "cell_type": "code",
   "execution_count": 59,
   "id": "7605d06c-b955-4823-a139-47c02d2b0939",
   "metadata": {},
   "outputs": [],
   "source": [
    "prediction = model_XGB.predict(test_X)"
   ]
  },
  {
   "cell_type": "code",
   "execution_count": 60,
   "id": "2af66bb8-c878-44a3-98ea-5e799cb2a422",
   "metadata": {
    "tags": []
   },
   "outputs": [
    {
     "data": {
      "text/plain": [
       "(418,)"
      ]
     },
     "execution_count": 60,
     "metadata": {},
     "output_type": "execute_result"
    }
   ],
   "source": [
    "prediction.shape"
   ]
  },
  {
   "cell_type": "code",
   "execution_count": 61,
   "id": "61fcc6ca-37dd-4eee-8393-f54b0aae889f",
   "metadata": {
    "tags": []
   },
   "outputs": [
    {
     "name": "stdout",
     "output_type": "stream",
     "text": [
      "[0 0 0 0 1 0 0 0 1 0 0 0 1 0 1 1 0 0 1 0 1 0 1 0 1 0 1 0 1 0 0 0 1 1 1 0 1\n",
      " 0 0 1 0 1 0 1 1 0 0 0 1 1 1 0 1 1 1 0 0 0 0 1 0 0 0 1 0 1 1 0 0 1 1 0 1 0\n",
      " 1 0 0 0 0 1 1 0 0 0 0 0 1 1 1 1 0 0 1 0 0 0 1 0 1 0 1 0 0 0 1 0 0 0 0 0 0\n",
      " 1 1 1 1 0 0 1 1 1 1 0 1 0 0 1 0 1 0 0 0 0 1 0 0 0 1 0 0 0 0 1 0 0 1 0 0 0\n",
      " 1 0 1 0 0 1 0 0 1 1 1 0 1 1 1 0 0 1 0 0 1 0 0 1 0 1 0 1 1 1 1 1 0 0 1 0 1\n",
      " 0 1 0 0 0 0 0 0 0 1 0 1 1 0 1 1 1 0 1 0 0 0 0 1 0 0 0 0 1 0 0 1 0 1 0 1 0\n",
      " 1 0 1 1 0 1 0 0 0 1 0 0 0 0 0 1 1 1 1 1 0 0 0 0 1 0 1 1 1 0 0 0 0 0 0 0 1\n",
      " 0 0 0 1 1 0 0 0 0 1 0 0 0 1 1 1 1 0 0 0 0 0 1 1 1 0 0 0 0 1 0 0 0 1 0 0 0\n",
      " 1 0 0 0 0 0 0 0 1 1 0 1 0 0 0 0 0 0 1 1 0 0 0 0 0 0 0 1 1 0 1 0 0 0 1 0 1\n",
      " 1 0 0 0 0 0 1 0 0 0 1 0 1 0 0 0 1 1 0 0 0 1 0 1 0 0 1 0 1 1 0 1 0 0 0 1 0\n",
      " 0 1 0 0 1 1 0 0 0 1 0 0 0 1 0 1 0 0 0 1 1 1 0 0 0 1 0 1 0 0 1 0 1 0 0 0 0\n",
      " 0 1 1 1 1 0 0 1 0 0 1]\n"
     ]
    }
   ],
   "source": [
    "print(prediction)"
   ]
  },
  {
   "cell_type": "markdown",
   "id": "a8ddd262-b530-4cf9-9070-fda5b44a452c",
   "metadata": {},
   "source": [
    "## 学習モデルの評価"
   ]
  },
  {
   "cell_type": "code",
   "execution_count": 62,
   "id": "595b68bd-987e-4a84-9796-51d385d77d8a",
   "metadata": {
    "tags": []
   },
   "outputs": [],
   "source": [
    "from sklearn.model_selection import train_test_split"
   ]
  },
  {
   "cell_type": "code",
   "execution_count": 63,
   "id": "df7057ca-80a9-4a0b-8b61-e3e9320ba99a",
   "metadata": {
    "tags": []
   },
   "outputs": [],
   "source": [
    "from sklearn.metrics import accuracy_score"
   ]
  },
  {
   "cell_type": "code",
   "execution_count": 64,
   "id": "42778001-7279-400b-9567-551f47ef384b",
   "metadata": {},
   "outputs": [],
   "source": [
    "#訓練・テストデータに分割\n",
    "X_train, X_test, y_train, y_test = train_test_split(train_X, train_y, test_size=0.2, shuffle=True)"
   ]
  },
  {
   "cell_type": "code",
   "execution_count": 65,
   "id": "91354c15-920a-4609-83aa-5809236d0415",
   "metadata": {},
   "outputs": [
    {
     "name": "stdout",
     "output_type": "stream",
     "text": [
      "Accuracy(train): 0.9002808988764045\n",
      "Accuracy(test): 0.9385474860335196\n"
     ]
    }
   ],
   "source": [
    "y_pred_train = model_XGB.predict(X_train)\n",
    "y_pred_test = model_XGB.predict(X_test)\n",
    "\n",
    "# Accuracy の計算\n",
    "acc_train = accuracy_score(y_train, y_pred_train)\n",
    "acc_test = accuracy_score(y_test, y_pred_test)\n",
    "print('Accuracy(train):', acc_train)\n",
    "print('Accuracy(test):', acc_test)"
   ]
  },
  {
   "cell_type": "code",
   "execution_count": 66,
   "id": "7a95c4e6-6632-4c6a-aacb-d2d1eaa6eeef",
   "metadata": {},
   "outputs": [
    {
     "data": {
      "text/html": [
       "<div>\n",
       "<style scoped>\n",
       "    .dataframe tbody tr th:only-of-type {\n",
       "        vertical-align: middle;\n",
       "    }\n",
       "\n",
       "    .dataframe tbody tr th {\n",
       "        vertical-align: top;\n",
       "    }\n",
       "\n",
       "    .dataframe thead th {\n",
       "        text-align: right;\n",
       "    }\n",
       "</style>\n",
       "<table border=\"1\" class=\"dataframe\">\n",
       "  <thead>\n",
       "    <tr style=\"text-align: right;\">\n",
       "      <th></th>\n",
       "      <th>PassengerId</th>\n",
       "      <th>Survived</th>\n",
       "    </tr>\n",
       "  </thead>\n",
       "  <tbody>\n",
       "    <tr>\n",
       "      <th>0</th>\n",
       "      <td>892</td>\n",
       "      <td>0</td>\n",
       "    </tr>\n",
       "    <tr>\n",
       "      <th>1</th>\n",
       "      <td>893</td>\n",
       "      <td>1</td>\n",
       "    </tr>\n",
       "    <tr>\n",
       "      <th>2</th>\n",
       "      <td>894</td>\n",
       "      <td>0</td>\n",
       "    </tr>\n",
       "    <tr>\n",
       "      <th>3</th>\n",
       "      <td>895</td>\n",
       "      <td>0</td>\n",
       "    </tr>\n",
       "    <tr>\n",
       "      <th>4</th>\n",
       "      <td>896</td>\n",
       "      <td>1</td>\n",
       "    </tr>\n",
       "  </tbody>\n",
       "</table>\n",
       "</div>"
      ],
      "text/plain": [
       "   PassengerId  Survived\n",
       "0          892         0\n",
       "1          893         1\n",
       "2          894         0\n",
       "3          895         0\n",
       "4          896         1"
      ]
     },
     "execution_count": 66,
     "metadata": {},
     "output_type": "execute_result"
    }
   ],
   "source": [
    "sub = pd.read_csv('gender_submission.csv', index_col=None)\n",
    "sub.head()"
   ]
  },
  {
   "cell_type": "code",
   "execution_count": 67,
   "id": "4db40966-671c-42e6-8b5e-3cfcf3d413c4",
   "metadata": {},
   "outputs": [],
   "source": [
    "sub['Survived'] = prediction"
   ]
  },
  {
   "cell_type": "code",
   "execution_count": 68,
   "id": "61621870-2964-40ab-b73b-1be30ff97ad4",
   "metadata": {},
   "outputs": [],
   "source": [
    "sub.to_csv('titanic_xgboost.csv', index=False)"
   ]
  },
  {
   "cell_type": "markdown",
   "id": "c26ebd5f-b1c0-4c2f-8fcb-152bb5b36fc5",
   "metadata": {},
   "source": [
    "## 特徴量の重要度可視化"
   ]
  },
  {
   "cell_type": "markdown",
   "id": "12dc9087-51a7-4124-b3cc-d499a0b6e740",
   "metadata": {},
   "source": [
    "### 可視化①"
   ]
  },
  {
   "cell_type": "code",
   "execution_count": 69,
   "id": "e0eefc78-b74b-4b2c-b31a-2212691eb9a1",
   "metadata": {},
   "outputs": [
    {
     "data": {
      "text/plain": [
       "<BarContainer object of 7 artists>"
      ]
     },
     "execution_count": 69,
     "metadata": {},
     "output_type": "execute_result"
    },
    {
     "data": {
      "image/png": "[encoded data removed]",
      "text/plain": [
       "<Figure size 432x288 with 1 Axes>"
      ]
     },
     "metadata": {
      "needs_background": "light"
     },
     "output_type": "display_data"
    }
   ],
   "source": [
    "plt.barh(train[features_col].columns.values, model_XGB.feature_importances_)"
   ]
  },
  {
   "cell_type": "markdown",
   "id": "04526fd4-cebc-432a-b9c9-1d0bb3ea253c",
   "metadata": {},
   "source": [
    "### 可視化②"
   ]
  },
  {
   "cell_type": "code",
   "execution_count": 70,
   "id": "6f53cbab-59d8-4f63-9d7c-03c638f0698e",
   "metadata": {},
   "outputs": [
    {
     "data": {
      "text/plain": [
       "<AxesSubplot:>"
      ]
     },
     "execution_count": 70,
     "metadata": {},
     "output_type": "execute_result"
    },
    {
     "data": {
      "image/png": "[encoded data removed]",
      "text/plain": [
       "<Figure size 1440x720 with 1 Axes>"
      ]
     },
     "metadata": {
      "needs_background": "light"
     },
     "output_type": "display_data"
    }
   ],
   "source": [
    "feature_important = model_XGB.get_booster().get_score(importance_type='weight')\n",
    "keys = list(feature_important.keys())\n",
    "values = list(feature_important.values())\n",
    "\n",
    "data = pd.DataFrame(data=values, index=keys, columns=[\"score\"]).sort_values(by = \"score\", ascending=False)\n",
    "data.nlargest(40, columns=\"score\").plot(kind='barh', figsize = (20,10)) ## plot top 40 features"
   ]
  },
  {
   "cell_type": "markdown",
   "id": "0a4b5730-15bb-4a52-9ad9-0a0bbdd3d966",
   "metadata": {},
   "source": [
    "### 可視化③"
   ]
  },
  {
   "cell_type": "code",
   "execution_count": 71,
   "id": "5d53bdc5-a7c1-4942-8962-5ef4b757ce10",
   "metadata": {},
   "outputs": [],
   "source": [
    "from xgboost import plot_importance"
   ]
  },
  {
   "cell_type": "code",
   "execution_count": 72,
   "id": "1e4cca79-4992-4076-bb12-4d1e2fc4e2d4",
   "metadata": {},
   "outputs": [
    {
     "data": {
      "image/png": "[encoded data removed]",
      "text/plain": [
       "<Figure size 432x288 with 1 Axes>"
      ]
     },
     "metadata": {
      "needs_background": "light"
     },
     "output_type": "display_data"
    }
   ],
   "source": [
    "plot_importance(model_XGB)\n",
    "plt.show()"
   ]
  },
  {
   "cell_type": "markdown",
   "id": "dded3883-5407-43ba-81d6-2ade7382acb9",
   "metadata": {},
   "source": [
    "### 可視化④"
   ]
  },
  {
   "cell_type": "code",
   "execution_count": 73,
   "id": "ecbfe3ae-3342-44fd-a0e0-17215e6492c0",
   "metadata": {},
   "outputs": [],
   "source": [
    "feature_imp = pd.Series(model_XGB.feature_importances_, index=train[features_col].columns.values).sort_values(ascending=False)"
   ]
  },
  {
   "cell_type": "code",
   "execution_count": 74,
   "id": "4309d11a-dbbf-4b3c-9353-e26d5edbdb0a",
   "metadata": {},
   "outputs": [
    {
     "data": {
      "image/png": "[encoded data removed]",
      "text/plain": [
       "<Figure size 432x288 with 1 Axes>"
      ]
     },
     "metadata": {
      "needs_background": "light"
     },
     "output_type": "display_data"
    }
   ],
   "source": [
    "sns.barplot(x=feature_imp, y=feature_imp.index)\n",
    "\n",
    "plt.xlabel('Feature Importance Score')\n",
    "plt.ylabel('Features')\n",
    "plt.title(\"Visualizing Important Features\")\n",
    "plt.show()"
   ]
  },
  {
   "cell_type": "markdown",
   "id": "59402d50-5f48-4c77-ae37-87fe4462c741",
   "metadata": {},
   "source": [
    "### 可視化⑤"
   ]
  },
  {
   "cell_type": "code",
   "execution_count": 75,
   "id": "3b0be40d-25e7-48e6-a149-ed9c836ea9b5",
   "metadata": {},
   "outputs": [
    {
     "data": {
      "text/plain": [
       "<AxesSubplot:title={'center':'Feature importance'}, xlabel='F score', ylabel='Features'>"
      ]
     },
     "execution_count": 75,
     "metadata": {},
     "output_type": "execute_result"
    },
    {
     "data": {
      "image/png": "[encoded data removed]",
      "text/plain": [
       "<Figure size 864x864 with 1 Axes>"
      ]
     },
     "metadata": {
      "needs_background": "light"
     },
     "output_type": "display_data"
    }
   ],
   "source": [
    "_, ax = plt.subplots(figsize=(12, 12))\n",
    "plot_importance(model_XGB.get_booster(),\n",
    "                ax=ax,\n",
    "                importance_type='gain')"
   ]
  },
  {
   "cell_type": "markdown",
   "id": "9f2f660a-8003-4f29-bf12-b30564bde20c",
   "metadata": {},
   "source": [
    "### 可視化⑥"
   ]
  },
  {
   "cell_type": "code",
   "execution_count": 76,
   "id": "f4befe8a-0416-4e88-8e93-020fd33495b2",
   "metadata": {},
   "outputs": [
    {
     "data": {
      "image/png": "[encoded data removed]",
      "text/plain": [
       "<Figure size 432x288 with 1 Axes>"
      ]
     },
     "metadata": {
      "needs_background": "light"
     },
     "output_type": "display_data"
    }
   ],
   "source": [
    "importances = pd.Series(model_XGB.feature_importances_, index=train[features_col].columns.values)\n",
    "importances = importances.sort_values()\n",
    "importances.plot(kind = 'barh')\n",
    "plt.title('XGBoost Feature Importance')\n",
    "plt.show()"
   ]
  },
  {
   "cell_type": "markdown",
   "id": "bf3dcf1f-d678-496b-8b78-c14c0a9f8cf1",
   "metadata": {},
   "source": [
    "## 決定木の可視化"
   ]
  },
  {
   "cell_type": "markdown",
   "id": "a5f06371-3f0d-4525-8b18-e4ca7d9e2150",
   "metadata": {},
   "source": [
    "### 可視化①"
   ]
  },
  {
   "cell_type": "code",
   "execution_count": 77,
   "id": "a17c35fe-1bc4-4426-8efc-dcf2c98ab90a",
   "metadata": {},
   "outputs": [],
   "source": [
    "from dtreeviz.trees import *"
   ]
  },
  {
   "cell_type": "code",
   "execution_count": 78,
   "id": "92a5f19f-e276-4956-9d85-f81f51eb7055",
   "metadata": {},
   "outputs": [],
   "source": [
    "import graphviz"
   ]
  },
  {
   "cell_type": "code",
   "execution_count": 79,
   "id": "110e8eaa-3b58-4234-a543-8d58b3f171ad",
   "metadata": {},
   "outputs": [
    {
     "data": {
      "text/plain": [
       "pandas.core.frame.DataFrame"
      ]
     },
     "execution_count": 79,
     "metadata": {},
     "output_type": "execute_result"
    }
   ],
   "source": [
    "type(train[features_col])"
   ]
  },
  {
   "cell_type": "code",
   "execution_count": 80,
   "id": "30f55ed9-1ca8-477f-9ad6-8127b7859b8b",
   "metadata": {},
   "outputs": [],
   "source": [
    "viz = dtreeviz(model_XGB,\n",
    "               x_data=train[features_col],\n",
    "               y_data=train['Survived'],\n",
    "               target_name='y',\n",
    "               feature_names=train[features_col].columns.tolist(),\n",
    "               tree_index=0)"
   ]
  },
  {
   "cell_type": "code",
   "execution_count": 81,
   "id": "ed88a763-3dde-4c9e-90c5-7bdd9ba024e0",
   "metadata": {},
   "outputs": [
    {
     "data": {
      "image/svg+xml": [
       "<svg xmlns=\"http://www.w3.org/2000/svg\" xmlns:dc=\"http://purl.org/dc/elements/1.1/\" xmlns:ns2=\"http://creativecommons.org/ns#\" xmlns:rdf=\"http://www.w3.org/1999/02/22-rdf-syntax-ns#\" xmlns:xlink=\"http://www.w3.org/1999/xlink\" width=\"502.0\" height=\"307.0\" viewBox=\"0.0 0.0 502.0 307.0\">\n",
       "<g id=\"graph0\" class=\"graph\" transform=\"scale(1.0 1.0) rotate(0) translate(4 303)\">\n",
       "<title>G</title>\n",
       "<polygon fill=\"white\" stroke=\"transparent\" points=\"-4,4 -4,-303 498,-303 498,4 -4,4\" />\n",
       "<g id=\"clust4\" class=\"cluster\">\n",
       "<title>cluster_legend</title>\n",
       "</g>\n",
       "\n",
       "<g id=\"node1\" class=\"node\">\n",
       "<title>node1</title>\n",
       "<svg width=\"309px\" height=\"69px\" viewBox=\"0 0 412.826429 91.559535\" version=\"1.1\" preserveAspectRatio=\"xMinYMin meet\" x=\"4.5\" y=\"-171.5\">\n",
       " <metadata>\n",
       "  <rdf:RDF>\n",
       "   <ns2:Work>\n",
       "    <dc:type rdf:resource=\"http://purl.org/dc/dcmitype/StillImage\" />\n",
       "    <dc:date>2022-06-06T21:13:51.380866</dc:date>\n",
       "    <dc:format>image/svg+xml</dc:format>\n",
       "    <dc:creator>\n",
       "     <ns2:Agent>\n",
       "      <dc:title>Matplotlib v3.5.2, https://matplotlib.org/</dc:title>\n",
       "     </ns2:Agent>\n",
       "    </dc:creator>\n",
       "   </ns2:Work>\n",
       "  </rdf:RDF>\n",
       " </metadata>\n",
       " <defs>\n",
       "  <style type=\"text/css\">*{stroke-linejoin: round; stroke-linecap: butt}</style>\n",
       " </defs>\n",
       " <g id=\"figure_1\">\n",
       "  <g id=\"patch_1\">\n",
       "   <path d=\"M 0 91.559535  L 412.826429 91.559535  L 412.826429 0  L 0 0  L 0 91.559535  z \" style=\"fill: none\" />\n",
       "  </g>\n",
       "  <g id=\"axes_1\">\n",
       "   <g id=\"patch_2\">\n",
       "    <path d=\"M 22.84625 59.76891  L 206.98625 59.76891  L 206.98625 0.017836  L 22.84625 0.017836  z \" style=\"fill: #eaeaf2\" />\n",
       "   </g>\n",
       "   <g id=\"matplotlib.axis_1\">\n",
       "    <g id=\"xtick_1\">\n",
       "     <g id=\"line2d_1\">\n",
       "      <path d=\"M 22.84625 59.76891  L 22.84625 0.017836  \" clip-path=\"url(#p0f6e65d92d)\" style=\"fill: none; stroke: #ffffff; stroke-linecap: round\" />\n",
       "     </g>\n",
       "     <g id=\"text_1\">\n",
       "      \n",
       "      <g style=\"fill: #444443\" transform=\"translate(20.621875 74.99516)scale(0.08 -0.08)\">\n",
       "       <defs>\n",
       "        <path id=\"ArialMT-30\" d=\"M 266 2259  Q 266 3072 433 3567  Q 600 4063 929 4331  Q 1259 4600 1759 4600  Q 2128 4600 2406 4451  Q 2684 4303 2865 4023  Q 3047 3744 3150 3342  Q 3253 2941 3253 2259  Q 3253 1453 3087 958  Q 2922 463 2592 192  Q 2263 -78 1759 -78  Q 1097 -78 719 397  Q 266 969 266 2259  z M 844 2259  Q 844 1131 1108 757  Q 1372 384 1759 384  Q 2147 384 2411 759  Q 2675 1134 2675 2259  Q 2675 3391 2411 3762  Q 2147 4134 1753 4134  Q 1366 4134 1134 3806  Q 844 3388 844 2259  z \" transform=\"scale(0.015625)\" />\n",
       "       </defs>\n",
       "       <use xlink:href=\"#ArialMT-30\" />\n",
       "      </g>\n",
       "     </g>\n",
       "    </g>\n",
       "    <g id=\"xtick_2\">\n",
       "     <g id=\"line2d_2\">\n",
       "      <path d=\"M 198.217679 59.76891  L 198.217679 0.017836  \" clip-path=\"url(#p0f6e65d92d)\" style=\"fill: none; stroke: #ffffff; stroke-linecap: round\" />\n",
       "     </g>\n",
       "     <g id=\"text_2\">\n",
       "      \n",
       "      <g style=\"fill: #444443\" transform=\"translate(195.993304 74.99516)scale(0.08 -0.08)\">\n",
       "       <defs>\n",
       "        <path id=\"ArialMT-36\" d=\"M 3184 3459  L 2625 3416  Q 2550 3747 2413 3897  Q 2184 4138 1850 4138  Q 1581 4138 1378 3988  Q 1113 3794 959 3422  Q 806 3050 800 2363  Q 1003 2672 1297 2822  Q 1591 2972 1913 2972  Q 2475 2972 2870 2558  Q 3266 2144 3266 1488  Q 3266 1056 3080 686  Q 2894 316 2569 119  Q 2244 -78 1831 -78  Q 1128 -78 684 439  Q 241 956 241 2144  Q 241 3472 731 4075  Q 1159 4600 1884 4600  Q 2425 4600 2770 4297  Q 3116 3994 3184 3459  z M 888 1484  Q 888 1194 1011 928  Q 1134 663 1356 523  Q 1578 384 1822 384  Q 2178 384 2434 671  Q 2691 959 2691 1453  Q 2691 1928 2437 2201  Q 2184 2475 1800 2475  Q 1419 2475 1153 2201  Q 888 1928 888 1484  z \" transform=\"scale(0.015625)\" />\n",
       "       </defs>\n",
       "       <use xlink:href=\"#ArialMT-36\" />\n",
       "      </g>\n",
       "     </g>\n",
       "    </g>\n",
       "    <g id=\"text_3\">\n",
       "     \n",
       "     <g style=\"fill: #444443\" transform=\"translate(99.243125 89.174535)scale(0.12 -0.12)\">\n",
       "      <defs>\n",
       "       <path id=\"ArialMT-50\" d=\"M 494 0  L 494 4581  L 2222 4581  Q 2678 4581 2919 4538  Q 3256 4481 3484 4323  Q 3713 4166 3852 3881  Q 3991 3597 3991 3256  Q 3991 2672 3619 2267  Q 3247 1863 2275 1863  L 1100 1863  L 1100 0  L 494 0  z M 1100 2403  L 2284 2403  Q 2872 2403 3119 2622  Q 3366 2841 3366 3238  Q 3366 3525 3220 3729  Q 3075 3934 2838 4000  Q 2684 4041 2272 4041  L 1100 4041  L 1100 2403  z \" transform=\"scale(0.015625)\" />\n",
       "       <path id=\"ArialMT-61\" d=\"M 2588 409  Q 2275 144 1986 34  Q 1697 -75 1366 -75  Q 819 -75 525 192  Q 231 459 231 875  Q 231 1119 342 1320  Q 453 1522 633 1644  Q 813 1766 1038 1828  Q 1203 1872 1538 1913  Q 2219 1994 2541 2106  Q 2544 2222 2544 2253  Q 2544 2597 2384 2738  Q 2169 2928 1744 2928  Q 1347 2928 1158 2789  Q 969 2650 878 2297  L 328 2372  Q 403 2725 575 2942  Q 747 3159 1072 3276  Q 1397 3394 1825 3394  Q 2250 3394 2515 3294  Q 2781 3194 2906 3042  Q 3031 2891 3081 2659  Q 3109 2516 3109 2141  L 3109 1391  Q 3109 606 3145 398  Q 3181 191 3288 0  L 2700 0  Q 2613 175 2588 409  z M 2541 1666  Q 2234 1541 1622 1453  Q 1275 1403 1131 1340  Q 988 1278 909 1158  Q 831 1038 831 891  Q 831 666 1001 516  Q 1172 366 1500 366  Q 1825 366 2078 508  Q 2331 650 2450 897  Q 2541 1088 2541 1459  L 2541 1666  z \" transform=\"scale(0.015625)\" />\n",
       "       <path id=\"ArialMT-72\" d=\"M 416 0  L 416 3319  L 922 3319  L 922 2816  Q 1116 3169 1280 3281  Q 1444 3394 1641 3394  Q 1925 3394 2219 3213  L 2025 2691  Q 1819 2813 1613 2813  Q 1428 2813 1281 2702  Q 1134 2591 1072 2394  Q 978 2094 978 1738  L 978 0  L 416 0  z \" transform=\"scale(0.015625)\" />\n",
       "       <path id=\"ArialMT-63\" d=\"M 2588 1216  L 3141 1144  Q 3050 572 2676 248  Q 2303 -75 1759 -75  Q 1078 -75 664 370  Q 250 816 250 1647  Q 250 2184 428 2587  Q 606 2991 970 3192  Q 1334 3394 1763 3394  Q 2303 3394 2647 3120  Q 2991 2847 3088 2344  L 2541 2259  Q 2463 2594 2264 2762  Q 2066 2931 1784 2931  Q 1359 2931 1093 2626  Q 828 2322 828 1663  Q 828 994 1084 691  Q 1341 388 1753 388  Q 2084 388 2306 591  Q 2528 794 2588 1216  z \" transform=\"scale(0.015625)\" />\n",
       "       <path id=\"ArialMT-68\" d=\"M 422 0  L 422 4581  L 984 4581  L 984 2938  Q 1378 3394 1978 3394  Q 2347 3394 2619 3248  Q 2891 3103 3008 2847  Q 3125 2591 3125 2103  L 3125 0  L 2563 0  L 2563 2103  Q 2563 2525 2380 2717  Q 2197 2909 1863 2909  Q 1613 2909 1392 2779  Q 1172 2650 1078 2428  Q 984 2206 984 1816  L 984 0  L 422 0  z \" transform=\"scale(0.015625)\" />\n",
       "      </defs>\n",
       "      <use xlink:href=\"#ArialMT-50\" />\n",
       "      <use xlink:href=\"#ArialMT-61\" x=\"66.699219\" />\n",
       "      <use xlink:href=\"#ArialMT-72\" x=\"122.314453\" />\n",
       "      <use xlink:href=\"#ArialMT-63\" x=\"155.615234\" />\n",
       "      <use xlink:href=\"#ArialMT-68\" x=\"205.615234\" />\n",
       "     </g>\n",
       "    </g>\n",
       "   </g>\n",
       "   <g id=\"matplotlib.axis_2\">\n",
       "    <g id=\"ytick_1\">\n",
       "     <g id=\"line2d_3\">\n",
       "      <path d=\"M 22.84625 59.76891  L 206.98625 59.76891  \" clip-path=\"url(#p0f6e65d92d)\" style=\"fill: none; stroke: #ffffff; stroke-linecap: round\" />\n",
       "     </g>\n",
       "     <g id=\"text_4\">\n",
       "      \n",
       "      <g style=\"fill: #444443\" transform=\"translate(8.8975 62.632035)scale(0.08 -0.08)\">\n",
       "       <use xlink:href=\"#ArialMT-30\" />\n",
       "      </g>\n",
       "     </g>\n",
       "    </g>\n",
       "    <g id=\"ytick_2\">\n",
       "     <g id=\"line2d_4\">\n",
       "      <path d=\"M 22.84625 2.863125  L 206.98625 2.863125  \" clip-path=\"url(#p0f6e65d92d)\" style=\"fill: none; stroke: #ffffff; stroke-linecap: round\" />\n",
       "     </g>\n",
       "     <g id=\"text_5\">\n",
       "      \n",
       "      <g style=\"fill: #444443\" transform=\"translate(0 5.72625)scale(0.08 -0.08)\">\n",
       "       <defs>\n",
       "        <path id=\"ArialMT-34\" d=\"M 2069 0  L 2069 1097  L 81 1097  L 81 1613  L 2172 4581  L 2631 4581  L 2631 1613  L 3250 1613  L 3250 1097  L 2631 1097  L 2631 0  L 2069 0  z M 2069 1613  L 2069 3678  L 634 1613  L 2069 1613  z \" transform=\"scale(0.015625)\" />\n",
       "        <path id=\"ArialMT-38\" d=\"M 1131 2484  Q 781 2613 612 2850  Q 444 3088 444 3419  Q 444 3919 803 4259  Q 1163 4600 1759 4600  Q 2359 4600 2725 4251  Q 3091 3903 3091 3403  Q 3091 3084 2923 2848  Q 2756 2613 2416 2484  Q 2838 2347 3058 2040  Q 3278 1734 3278 1309  Q 3278 722 2862 322  Q 2447 -78 1769 -78  Q 1091 -78 675 323  Q 259 725 259 1325  Q 259 1772 486 2073  Q 713 2375 1131 2484  z M 1019 3438  Q 1019 3113 1228 2906  Q 1438 2700 1772 2700  Q 2097 2700 2305 2904  Q 2513 3109 2513 3406  Q 2513 3716 2298 3927  Q 2084 4138 1766 4138  Q 1444 4138 1231 3931  Q 1019 3725 1019 3438  z M 838 1322  Q 838 1081 952 856  Q 1066 631 1291 507  Q 1516 384 1775 384  Q 2178 384 2440 643  Q 2703 903 2703 1303  Q 2703 1709 2433 1975  Q 2163 2241 1756 2241  Q 1359 2241 1098 1978  Q 838 1716 838 1322  z \" transform=\"scale(0.015625)\" />\n",
       "       </defs>\n",
       "       <use xlink:href=\"#ArialMT-34\" />\n",
       "       <use xlink:href=\"#ArialMT-38\" x=\"55.615234\" />\n",
       "       <use xlink:href=\"#ArialMT-34\" x=\"111.230469\" />\n",
       "      </g>\n",
       "     </g>\n",
       "    </g>\n",
       "   </g>\n",
       "   <g id=\"patch_3\">\n",
       "    <path d=\"M 22.84625 59.76891  L 32.076325 59.76891  L 32.076325 12.26904  L 22.84625 12.26904  z \" clip-path=\"url(#p0f6e65d92d)\" style=\"fill: #fefebb; stroke: #444443; stroke-width: 0.5; stroke-linejoin: miter\" />\n",
       "   </g>\n",
       "   <g id=\"patch_4\">\n",
       "    <path d=\"M 32.076325 59.76891  L 41.3064 59.76891  L 41.3064 59.76891  L 32.076325 59.76891  z \" clip-path=\"url(#p0f6e65d92d)\" style=\"fill: #fefebb; stroke: #444443; stroke-width: 0.5; stroke-linejoin: miter\" />\n",
       "   </g>\n",
       "   <g id=\"patch_5\">\n",
       "    <path d=\"M 41.3064 59.76891  L 50.536476 59.76891  L 50.536476 59.76891  L 41.3064 59.76891  z \" clip-path=\"url(#p0f6e65d92d)\" style=\"fill: #fefebb; stroke: #444443; stroke-width: 0.5; stroke-linejoin: miter\" />\n",
       "   </g>\n",
       "   <g id=\"patch_6\">\n",
       "    <path d=\"M 50.536476 59.76891  L 59.766551 59.76891  L 59.766551 55.183527  L 50.536476 55.183527  z \" clip-path=\"url(#p0f6e65d92d)\" style=\"fill: #fefebb; stroke: #444443; stroke-width: 0.5; stroke-linejoin: miter\" />\n",
       "   </g>\n",
       "   <g id=\"patch_7\">\n",
       "    <path d=\"M 59.766551 59.76891  L 68.996626 59.76891  L 68.996626 59.76891  L 59.766551 59.76891  z \" clip-path=\"url(#p0f6e65d92d)\" style=\"fill: #fefebb; stroke: #444443; stroke-width: 0.5; stroke-linejoin: miter\" />\n",
       "   </g>\n",
       "   <g id=\"patch_8\">\n",
       "    <path d=\"M 68.996626 59.76891  L 78.226701 59.76891  L 78.226701 59.76891  L 68.996626 59.76891  z \" clip-path=\"url(#p0f6e65d92d)\" style=\"fill: #fefebb; stroke: #444443; stroke-width: 0.5; stroke-linejoin: miter\" />\n",
       "   </g>\n",
       "   <g id=\"patch_9\">\n",
       "    <path d=\"M 78.226701 59.76891  L 87.456776 59.76891  L 87.456776 57.299857  L 78.226701 57.299857  z \" clip-path=\"url(#p0f6e65d92d)\" style=\"fill: #fefebb; stroke: #444443; stroke-width: 0.5; stroke-linejoin: miter\" />\n",
       "   </g>\n",
       "   <g id=\"patch_10\">\n",
       "    <path d=\"M 87.456776 59.76891  L 96.686852 59.76891  L 96.686852 59.76891  L 87.456776 59.76891  z \" clip-path=\"url(#p0f6e65d92d)\" style=\"fill: #fefebb; stroke: #444443; stroke-width: 0.5; stroke-linejoin: miter\" />\n",
       "   </g>\n",
       "   <g id=\"patch_11\">\n",
       "    <path d=\"M 96.686852 59.76891  L 105.916927 59.76891  L 105.916927 59.76891  L 96.686852 59.76891  z \" clip-path=\"url(#p0f6e65d92d)\" style=\"fill: #fefebb; stroke: #444443; stroke-width: 0.5; stroke-linejoin: miter\" />\n",
       "   </g>\n",
       "   <g id=\"patch_12\">\n",
       "    <path d=\"M 105.916927 59.76891  L 115.147002 59.76891  L 115.147002 59.651336  L 105.916927 59.651336  z \" clip-path=\"url(#p0f6e65d92d)\" style=\"fill: #fefebb; stroke: #444443; stroke-width: 0.5; stroke-linejoin: miter\" />\n",
       "   </g>\n",
       "   <g id=\"patch_13\">\n",
       "    <path d=\"M 115.147002 59.76891  L 124.377077 59.76891  L 124.377077 59.76891  L 115.147002 59.76891  z \" clip-path=\"url(#p0f6e65d92d)\" style=\"fill: #fefebb; stroke: #444443; stroke-width: 0.5; stroke-linejoin: miter\" />\n",
       "   </g>\n",
       "   <g id=\"patch_14\">\n",
       "    <path d=\"M 124.377077 59.76891  L 133.607152 59.76891  L 133.607152 59.76891  L 124.377077 59.76891  z \" clip-path=\"url(#p0f6e65d92d)\" style=\"fill: #fefebb; stroke: #444443; stroke-width: 0.5; stroke-linejoin: miter\" />\n",
       "   </g>\n",
       "   <g id=\"patch_15\">\n",
       "    <path d=\"M 133.607152 59.76891  L 142.837227 59.76891  L 142.837227 59.533762  L 133.607152 59.533762  z \" clip-path=\"url(#p0f6e65d92d)\" style=\"fill: #fefebb; stroke: #444443; stroke-width: 0.5; stroke-linejoin: miter\" />\n",
       "   </g>\n",
       "   <g id=\"patch_16\">\n",
       "    <path d=\"M 142.837227 59.76891  L 152.067303 59.76891  L 152.067303 59.76891  L 142.837227 59.76891  z \" clip-path=\"url(#p0f6e65d92d)\" style=\"fill: #fefebb; stroke: #444443; stroke-width: 0.5; stroke-linejoin: miter\" />\n",
       "   </g>\n",
       "   <g id=\"patch_17\">\n",
       "    <path d=\"M 152.067303 59.76891  L 161.297378 59.76891  L 161.297378 59.76891  L 152.067303 59.76891  z \" clip-path=\"url(#p0f6e65d92d)\" style=\"fill: #fefebb; stroke: #444443; stroke-width: 0.5; stroke-linejoin: miter\" />\n",
       "   </g>\n",
       "   <g id=\"patch_18\">\n",
       "    <path d=\"M 161.297378 59.76891  L 170.527453 59.76891  L 170.527453 59.651336  L 161.297378 59.651336  z \" clip-path=\"url(#p0f6e65d92d)\" style=\"fill: #fefebb; stroke: #444443; stroke-width: 0.5; stroke-linejoin: miter\" />\n",
       "   </g>\n",
       "   <g id=\"patch_19\">\n",
       "    <path d=\"M 170.527453 59.76891  L 179.757528 59.76891  L 179.757528 59.76891  L 170.527453 59.76891  z \" clip-path=\"url(#p0f6e65d92d)\" style=\"fill: #fefebb; stroke: #444443; stroke-width: 0.5; stroke-linejoin: miter\" />\n",
       "   </g>\n",
       "   <g id=\"patch_20\">\n",
       "    <path d=\"M 179.757528 59.76891  L 188.987603 59.76891  L 188.987603 59.76891  L 179.757528 59.76891  z \" clip-path=\"url(#p0f6e65d92d)\" style=\"fill: #fefebb; stroke: #444443; stroke-width: 0.5; stroke-linejoin: miter\" />\n",
       "   </g>\n",
       "   <g id=\"patch_21\">\n",
       "    <path d=\"M 188.987603 59.76891  L 198.217679 59.76891  L 198.217679 59.76891  L 188.987603 59.76891  z \" clip-path=\"url(#p0f6e65d92d)\" style=\"fill: #fefebb; stroke: #444443; stroke-width: 0.5; stroke-linejoin: miter\" />\n",
       "   </g>\n",
       "   <g id=\"patch_22\">\n",
       "    <path d=\"M 22.84625 12.26904  L 32.076325 12.26904  L 32.076325 2.863125  L 22.84625 2.863125  z \" clip-path=\"url(#p0f6e65d92d)\" style=\"fill: #a1dab4; stroke: #444443; stroke-width: 0.5; stroke-linejoin: miter\" />\n",
       "   </g>\n",
       "   <g id=\"patch_23\">\n",
       "    <path d=\"M 32.076325 59.76891  L 41.3064 59.76891  L 41.3064 59.76891  L 32.076325 59.76891  z \" clip-path=\"url(#p0f6e65d92d)\" style=\"fill: #a1dab4; stroke: #444443; stroke-width: 0.5; stroke-linejoin: miter\" />\n",
       "   </g>\n",
       "   <g id=\"patch_24\">\n",
       "    <path d=\"M 41.3064 59.76891  L 50.536476 59.76891  L 50.536476 59.76891  L 41.3064 59.76891  z \" clip-path=\"url(#p0f6e65d92d)\" style=\"fill: #a1dab4; stroke: #444443; stroke-width: 0.5; stroke-linejoin: miter\" />\n",
       "   </g>\n",
       "   <g id=\"patch_25\">\n",
       "    <path d=\"M 50.536476 55.183527  L 59.766551 55.183527  L 59.766551 52.949622  L 50.536476 52.949622  z \" clip-path=\"url(#p0f6e65d92d)\" style=\"fill: #a1dab4; stroke: #444443; stroke-width: 0.5; stroke-linejoin: miter\" />\n",
       "   </g>\n",
       "   <g id=\"patch_26\">\n",
       "    <path d=\"M 59.766551 59.76891  L 68.996626 59.76891  L 68.996626 59.76891  L 59.766551 59.76891  z \" clip-path=\"url(#p0f6e65d92d)\" style=\"fill: #a1dab4; stroke: #444443; stroke-width: 0.5; stroke-linejoin: miter\" />\n",
       "   </g>\n",
       "   <g id=\"patch_27\">\n",
       "    <path d=\"M 68.996626 59.76891  L 78.226701 59.76891  L 78.226701 59.76891  L 68.996626 59.76891  z \" clip-path=\"url(#p0f6e65d92d)\" style=\"fill: #a1dab4; stroke: #444443; stroke-width: 0.5; stroke-linejoin: miter\" />\n",
       "   </g>\n",
       "   <g id=\"patch_28\">\n",
       "    <path d=\"M 78.226701 57.299857  L 87.456776 57.299857  L 87.456776 56.124118  L 78.226701 56.124118  z \" clip-path=\"url(#p0f6e65d92d)\" style=\"fill: #a1dab4; stroke: #444443; stroke-width: 0.5; stroke-linejoin: miter\" />\n",
       "   </g>\n",
       "   <g id=\"patch_29\">\n",
       "    <path d=\"M 87.456776 59.76891  L 96.686852 59.76891  L 96.686852 59.76891  L 87.456776 59.76891  z \" clip-path=\"url(#p0f6e65d92d)\" style=\"fill: #a1dab4; stroke: #444443; stroke-width: 0.5; stroke-linejoin: miter\" />\n",
       "   </g>\n",
       "   <g id=\"patch_30\">\n",
       "    <path d=\"M 96.686852 59.76891  L 105.916927 59.76891  L 105.916927 59.76891  L 96.686852 59.76891  z \" clip-path=\"url(#p0f6e65d92d)\" style=\"fill: #a1dab4; stroke: #444443; stroke-width: 0.5; stroke-linejoin: miter\" />\n",
       "   </g>\n",
       "   <g id=\"patch_31\">\n",
       "    <path d=\"M 105.916927 59.651336  L 115.147002 59.651336  L 115.147002 59.651336  L 105.916927 59.651336  z \" clip-path=\"url(#p0f6e65d92d)\" style=\"fill: #a1dab4; stroke: #444443; stroke-width: 0.5; stroke-linejoin: miter\" />\n",
       "   </g>\n",
       "   <g id=\"patch_32\">\n",
       "    <path d=\"M 115.147002 59.76891  L 124.377077 59.76891  L 124.377077 59.76891  L 115.147002 59.76891  z \" clip-path=\"url(#p0f6e65d92d)\" style=\"fill: #a1dab4; stroke: #444443; stroke-width: 0.5; stroke-linejoin: miter\" />\n",
       "   </g>\n",
       "   <g id=\"patch_33\">\n",
       "    <path d=\"M 124.377077 59.76891  L 133.607152 59.76891  L 133.607152 59.76891  L 124.377077 59.76891  z \" clip-path=\"url(#p0f6e65d92d)\" style=\"fill: #a1dab4; stroke: #444443; stroke-width: 0.5; stroke-linejoin: miter\" />\n",
       "   </g>\n",
       "   <g id=\"patch_34\">\n",
       "    <path d=\"M 133.607152 59.533762  L 142.837227 59.533762  L 142.837227 59.533762  L 133.607152 59.533762  z \" clip-path=\"url(#p0f6e65d92d)\" style=\"fill: #a1dab4; stroke: #444443; stroke-width: 0.5; stroke-linejoin: miter\" />\n",
       "   </g>\n",
       "   <g id=\"patch_35\">\n",
       "    <path d=\"M 142.837227 59.76891  L 152.067303 59.76891  L 152.067303 59.76891  L 142.837227 59.76891  z \" clip-path=\"url(#p0f6e65d92d)\" style=\"fill: #a1dab4; stroke: #444443; stroke-width: 0.5; stroke-linejoin: miter\" />\n",
       "   </g>\n",
       "   <g id=\"patch_36\">\n",
       "    <path d=\"M 152.067303 59.76891  L 161.297378 59.76891  L 161.297378 59.76891  L 152.067303 59.76891  z \" clip-path=\"url(#p0f6e65d92d)\" style=\"fill: #a1dab4; stroke: #444443; stroke-width: 0.5; stroke-linejoin: miter\" />\n",
       "   </g>\n",
       "   <g id=\"patch_37\">\n",
       "    <path d=\"M 161.297378 59.651336  L 170.527453 59.651336  L 170.527453 59.651336  L 161.297378 59.651336  z \" clip-path=\"url(#p0f6e65d92d)\" style=\"fill: #a1dab4; stroke: #444443; stroke-width: 0.5; stroke-linejoin: miter\" />\n",
       "   </g>\n",
       "   <g id=\"patch_38\">\n",
       "    <path d=\"M 170.527453 59.76891  L 179.757528 59.76891  L 179.757528 59.76891  L 170.527453 59.76891  z \" clip-path=\"url(#p0f6e65d92d)\" style=\"fill: #a1dab4; stroke: #444443; stroke-width: 0.5; stroke-linejoin: miter\" />\n",
       "   </g>\n",
       "   <g id=\"patch_39\">\n",
       "    <path d=\"M 179.757528 59.76891  L 188.987603 59.76891  L 188.987603 59.76891  L 179.757528 59.76891  z \" clip-path=\"url(#p0f6e65d92d)\" style=\"fill: #a1dab4; stroke: #444443; stroke-width: 0.5; stroke-linejoin: miter\" />\n",
       "   </g>\n",
       "   <g id=\"patch_40\">\n",
       "    <path d=\"M 188.987603 59.76891  L 198.217679 59.76891  L 198.217679 59.76891  L 188.987603 59.76891  z \" clip-path=\"url(#p0f6e65d92d)\" style=\"fill: #a1dab4; stroke: #444443; stroke-width: 0.5; stroke-linejoin: miter\" />\n",
       "   </g>\n",
       "   <g id=\"patch_41\">\n",
       "    <path d=\"M 402.817679 60.58431  L 399.503159 67.92291  L 406.132199 67.92291  z \" style=\"fill: #444443; stroke: #ffffff; stroke-linejoin: miter\" />\n",
       "   </g>\n",
       "   <g id=\"patch_42\">\n",
       "    <path d=\"M 22.84625 59.76891  L 22.84625 0.017836  \" style=\"fill: none; stroke: #ffffff; stroke-width: 0.3; stroke-linejoin: miter; stroke-linecap: square\" />\n",
       "   </g>\n",
       "   <g id=\"patch_43\">\n",
       "    <path d=\"M 22.84625 59.76891  L 206.98625 59.76891  \" style=\"fill: none; stroke: #ffffff; stroke-width: 0.3; stroke-linejoin: miter; stroke-linecap: square\" />\n",
       "   </g>\n",
       "   <g id=\"text_6\">\n",
       "    \n",
       "    <g style=\"fill: #444443\" transform=\"translate(392.808929 76.07691)scale(0.08 -0.08)\">\n",
       "     <defs>\n",
       "      <path id=\"ArialMT-31\" d=\"M 2384 0  L 1822 0  L 1822 3584  Q 1619 3391 1289 3197  Q 959 3003 697 2906  L 697 3450  Q 1169 3672 1522 3987  Q 1875 4303 2022 4600  L 2384 4600  L 2384 0  z \" transform=\"scale(0.015625)\" />\n",
       "      <path id=\"ArialMT-33\" d=\"M 269 1209  L 831 1284  Q 928 806 1161 595  Q 1394 384 1728 384  Q 2125 384 2398 659  Q 2672 934 2672 1341  Q 2672 1728 2419 1979  Q 2166 2231 1775 2231  Q 1616 2231 1378 2169  L 1441 2663  Q 1497 2656 1531 2656  Q 1891 2656 2178 2843  Q 2466 3031 2466 3422  Q 2466 3731 2256 3934  Q 2047 4138 1716 4138  Q 1388 4138 1169 3931  Q 950 3725 888 3313  L 325 3413  Q 428 3978 793 4289  Q 1159 4600 1703 4600  Q 2078 4600 2393 4439  Q 2709 4278 2876 4000  Q 3044 3722 3044 3409  Q 3044 3113 2884 2869  Q 2725 2625 2413 2481  Q 2819 2388 3044 2092  Q 3269 1797 3269 1353  Q 3269 753 2831 336  Q 2394 -81 1725 -81  Q 1122 -81 723 278  Q 325 638 269 1209  z \" transform=\"scale(0.015625)\" />\n",
       "      <path id=\"ArialMT-2e\" d=\"M 581 0  L 581 641  L 1222 641  L 1222 0  L 581 0  z \" transform=\"scale(0.015625)\" />\n",
       "     </defs>\n",
       "     <use xlink:href=\"#ArialMT-31\" />\n",
       "     <use xlink:href=\"#ArialMT-33\" x=\"55.615234\" />\n",
       "     <use xlink:href=\"#ArialMT-2e\" x=\"111.230469\" />\n",
       "     <use xlink:href=\"#ArialMT-30\" x=\"139.013672\" />\n",
       "     <use xlink:href=\"#ArialMT-30\" x=\"194.628906\" />\n",
       "    </g>\n",
       "   </g>\n",
       "  </g>\n",
       " </g>\n",
       " <defs>\n",
       "  <clipPath id=\"p0f6e65d92d\">\n",
       "   <rect x=\"22.84625\" y=\"0.017836\" width=\"184.14\" height=\"59.751074\" />\n",
       "  </clipPath>\n",
       " </defs>\n",
       "</svg></g>\n",
       "\n",
       "<g id=\"node2\" class=\"node\">\n",
       "<title>node2</title>\n",
       "<svg width=\"155px\" height=\"45px\" viewBox=\"0 0 206.98625 60.539464\" version=\"1.1\" preserveAspectRatio=\"xMinYMin meet\" x=\"335.5\" y=\"-159.5\">\n",
       " <metadata>\n",
       "  <rdf:RDF>\n",
       "   <ns2:Work>\n",
       "    <dc:type rdf:resource=\"http://purl.org/dc/dcmitype/StillImage\" />\n",
       "    <dc:date>2022-06-06T21:13:51.561839</dc:date>\n",
       "    <dc:format>image/svg+xml</dc:format>\n",
       "    <dc:creator>\n",
       "     <ns2:Agent>\n",
       "      <dc:title>Matplotlib v3.5.2, https://matplotlib.org/</dc:title>\n",
       "     </ns2:Agent>\n",
       "    </dc:creator>\n",
       "   </ns2:Work>\n",
       "  </rdf:RDF>\n",
       " </metadata>\n",
       " <defs>\n",
       "  <style type=\"text/css\">*{stroke-linejoin: round; stroke-linecap: butt}</style>\n",
       " </defs>\n",
       " <g id=\"figure_1\">\n",
       "  <g id=\"patch_1\">\n",
       "   <path d=\"M 0 60.539464  L 206.98625 60.539464  L 206.98625 0  L 0 0  L 0 60.539464  z \" style=\"fill: none\" />\n",
       "  </g>\n",
       "  <g id=\"axes_1\">\n",
       "   <g id=\"patch_2\">\n",
       "    <path d=\"M 22.84625 28.748839  L 206.98625 28.748839  L 206.98625 1.568839  L 22.84625 1.568839  z \" style=\"fill: #eaeaf2\" />\n",
       "   </g>\n",
       "   <g id=\"matplotlib.axis_1\">\n",
       "    <g id=\"xtick_1\">\n",
       "     <g id=\"line2d_1\">\n",
       "      <path d=\"M 22.84625 28.748839  L 22.84625 1.568839  \" clip-path=\"url(#pc3dcb72400)\" style=\"fill: none; stroke: #ffffff; stroke-linecap: round\" />\n",
       "     </g>\n",
       "     <g id=\"text_1\">\n",
       "      \n",
       "      <g style=\"fill: #444443\" transform=\"translate(20.621875 43.975089)scale(0.08 -0.08)\">\n",
       "       <defs>\n",
       "        <path id=\"ArialMT-30\" d=\"M 266 2259  Q 266 3072 433 3567  Q 600 4063 929 4331  Q 1259 4600 1759 4600  Q 2128 4600 2406 4451  Q 2684 4303 2865 4023  Q 3047 3744 3150 3342  Q 3253 2941 3253 2259  Q 3253 1453 3087 958  Q 2922 463 2592 192  Q 2263 -78 1759 -78  Q 1097 -78 719 397  Q 266 969 266 2259  z M 844 2259  Q 844 1131 1108 757  Q 1372 384 1759 384  Q 2147 384 2411 759  Q 2675 1134 2675 2259  Q 2675 3391 2411 3762  Q 2147 4134 1753 4134  Q 1366 4134 1134 3806  Q 844 3388 844 2259  z \" transform=\"scale(0.015625)\" />\n",
       "       </defs>\n",
       "       <use xlink:href=\"#ArialMT-30\" />\n",
       "      </g>\n",
       "     </g>\n",
       "    </g>\n",
       "    <g id=\"xtick_2\">\n",
       "     <g id=\"line2d_2\">\n",
       "      <path d=\"M 198.217679 28.748839  L 198.217679 1.568839  \" clip-path=\"url(#pc3dcb72400)\" style=\"fill: none; stroke: #ffffff; stroke-linecap: round\" />\n",
       "     </g>\n",
       "     <g id=\"text_2\">\n",
       "      \n",
       "      <g style=\"fill: #444443\" transform=\"translate(195.993304 43.975089)scale(0.08 -0.08)\">\n",
       "       <defs>\n",
       "        <path id=\"ArialMT-36\" d=\"M 3184 3459  L 2625 3416  Q 2550 3747 2413 3897  Q 2184 4138 1850 4138  Q 1581 4138 1378 3988  Q 1113 3794 959 3422  Q 806 3050 800 2363  Q 1003 2672 1297 2822  Q 1591 2972 1913 2972  Q 2475 2972 2870 2558  Q 3266 2144 3266 1488  Q 3266 1056 3080 686  Q 2894 316 2569 119  Q 2244 -78 1831 -78  Q 1128 -78 684 439  Q 241 956 241 2144  Q 241 3472 731 4075  Q 1159 4600 1884 4600  Q 2425 4600 2770 4297  Q 3116 3994 3184 3459  z M 888 1484  Q 888 1194 1011 928  Q 1134 663 1356 523  Q 1578 384 1822 384  Q 2178 384 2434 671  Q 2691 959 2691 1453  Q 2691 1928 2437 2201  Q 2184 2475 1800 2475  Q 1419 2475 1153 2201  Q 888 1928 888 1484  z \" transform=\"scale(0.015625)\" />\n",
       "       </defs>\n",
       "       <use xlink:href=\"#ArialMT-36\" />\n",
       "      </g>\n",
       "     </g>\n",
       "    </g>\n",
       "    <g id=\"text_3\">\n",
       "     \n",
       "     <g style=\"fill: #444443\" transform=\"translate(99.243125 58.154464)scale(0.12 -0.12)\">\n",
       "      <defs>\n",
       "       <path id=\"ArialMT-50\" d=\"M 494 0  L 494 4581  L 2222 4581  Q 2678 4581 2919 4538  Q 3256 4481 3484 4323  Q 3713 4166 3852 3881  Q 3991 3597 3991 3256  Q 3991 2672 3619 2267  Q 3247 1863 2275 1863  L 1100 1863  L 1100 0  L 494 0  z M 1100 2403  L 2284 2403  Q 2872 2403 3119 2622  Q 3366 2841 3366 3238  Q 3366 3525 3220 3729  Q 3075 3934 2838 4000  Q 2684 4041 2272 4041  L 1100 4041  L 1100 2403  z \" transform=\"scale(0.015625)\" />\n",
       "       <path id=\"ArialMT-61\" d=\"M 2588 409  Q 2275 144 1986 34  Q 1697 -75 1366 -75  Q 819 -75 525 192  Q 231 459 231 875  Q 231 1119 342 1320  Q 453 1522 633 1644  Q 813 1766 1038 1828  Q 1203 1872 1538 1913  Q 2219 1994 2541 2106  Q 2544 2222 2544 2253  Q 2544 2597 2384 2738  Q 2169 2928 1744 2928  Q 1347 2928 1158 2789  Q 969 2650 878 2297  L 328 2372  Q 403 2725 575 2942  Q 747 3159 1072 3276  Q 1397 3394 1825 3394  Q 2250 3394 2515 3294  Q 2781 3194 2906 3042  Q 3031 2891 3081 2659  Q 3109 2516 3109 2141  L 3109 1391  Q 3109 606 3145 398  Q 3181 191 3288 0  L 2700 0  Q 2613 175 2588 409  z M 2541 1666  Q 2234 1541 1622 1453  Q 1275 1403 1131 1340  Q 988 1278 909 1158  Q 831 1038 831 891  Q 831 666 1001 516  Q 1172 366 1500 366  Q 1825 366 2078 508  Q 2331 650 2450 897  Q 2541 1088 2541 1459  L 2541 1666  z \" transform=\"scale(0.015625)\" />\n",
       "       <path id=\"ArialMT-72\" d=\"M 416 0  L 416 3319  L 922 3319  L 922 2816  Q 1116 3169 1280 3281  Q 1444 3394 1641 3394  Q 1925 3394 2219 3213  L 2025 2691  Q 1819 2813 1613 2813  Q 1428 2813 1281 2702  Q 1134 2591 1072 2394  Q 978 2094 978 1738  L 978 0  L 416 0  z \" transform=\"scale(0.015625)\" />\n",
       "       <path id=\"ArialMT-63\" d=\"M 2588 1216  L 3141 1144  Q 3050 572 2676 248  Q 2303 -75 1759 -75  Q 1078 -75 664 370  Q 250 816 250 1647  Q 250 2184 428 2587  Q 606 2991 970 3192  Q 1334 3394 1763 3394  Q 2303 3394 2647 3120  Q 2991 2847 3088 2344  L 2541 2259  Q 2463 2594 2264 2762  Q 2066 2931 1784 2931  Q 1359 2931 1093 2626  Q 828 2322 828 1663  Q 828 994 1084 691  Q 1341 388 1753 388  Q 2084 388 2306 591  Q 2528 794 2588 1216  z \" transform=\"scale(0.015625)\" />\n",
       "       <path id=\"ArialMT-68\" d=\"M 422 0  L 422 4581  L 984 4581  L 984 2938  Q 1378 3394 1978 3394  Q 2347 3394 2619 3248  Q 2891 3103 3008 2847  Q 3125 2591 3125 2103  L 3125 0  L 2563 0  L 2563 2103  Q 2563 2525 2380 2717  Q 2197 2909 1863 2909  Q 1613 2909 1392 2779  Q 1172 2650 1078 2428  Q 984 2206 984 1816  L 984 0  L 422 0  z \" transform=\"scale(0.015625)\" />\n",
       "      </defs>\n",
       "      <use xlink:href=\"#ArialMT-50\" />\n",
       "      <use xlink:href=\"#ArialMT-61\" x=\"66.699219\" />\n",
       "      <use xlink:href=\"#ArialMT-72\" x=\"122.314453\" />\n",
       "      <use xlink:href=\"#ArialMT-63\" x=\"155.615234\" />\n",
       "      <use xlink:href=\"#ArialMT-68\" x=\"205.615234\" />\n",
       "     </g>\n",
       "    </g>\n",
       "   </g>\n",
       "   <g id=\"matplotlib.axis_2\">\n",
       "    <g id=\"ytick_1\">\n",
       "     <g id=\"line2d_3\">\n",
       "      <path d=\"M 22.84625 28.748839  L 206.98625 28.748839  \" clip-path=\"url(#pc3dcb72400)\" style=\"fill: none; stroke: #ffffff; stroke-linecap: round\" />\n",
       "     </g>\n",
       "     <g id=\"text_4\">\n",
       "      \n",
       "      <g style=\"fill: #444443\" transform=\"translate(8.8975 31.611964)scale(0.08 -0.08)\">\n",
       "       <use xlink:href=\"#ArialMT-30\" />\n",
       "      </g>\n",
       "     </g>\n",
       "    </g>\n",
       "    <g id=\"ytick_2\">\n",
       "     <g id=\"line2d_4\">\n",
       "      <path d=\"M 22.84625 2.863125  L 206.98625 2.863125  \" clip-path=\"url(#pc3dcb72400)\" style=\"fill: none; stroke: #ffffff; stroke-linecap: round\" />\n",
       "     </g>\n",
       "     <g id=\"text_5\">\n",
       "      \n",
       "      <g style=\"fill: #444443\" transform=\"translate(0 5.72625)scale(0.08 -0.08)\">\n",
       "       <defs>\n",
       "        <path id=\"ArialMT-31\" d=\"M 2384 0  L 1822 0  L 1822 3584  Q 1619 3391 1289 3197  Q 959 3003 697 2906  L 697 3450  Q 1169 3672 1522 3987  Q 1875 4303 2022 4600  L 2384 4600  L 2384 0  z \" transform=\"scale(0.015625)\" />\n",
       "        <path id=\"ArialMT-39\" d=\"M 350 1059  L 891 1109  Q 959 728 1153 556  Q 1347 384 1650 384  Q 1909 384 2104 503  Q 2300 622 2425 820  Q 2550 1019 2634 1356  Q 2719 1694 2719 2044  Q 2719 2081 2716 2156  Q 2547 1888 2255 1720  Q 1963 1553 1622 1553  Q 1053 1553 659 1965  Q 266 2378 266 3053  Q 266 3750 677 4175  Q 1088 4600 1706 4600  Q 2153 4600 2523 4359  Q 2894 4119 3086 3673  Q 3278 3228 3278 2384  Q 3278 1506 3087 986  Q 2897 466 2520 194  Q 2144 -78 1638 -78  Q 1100 -78 759 220  Q 419 519 350 1059  z M 2653 3081  Q 2653 3566 2395 3850  Q 2138 4134 1775 4134  Q 1400 4134 1122 3828  Q 844 3522 844 3034  Q 844 2597 1108 2323  Q 1372 2050 1759 2050  Q 2150 2050 2401 2323  Q 2653 2597 2653 3081  z \" transform=\"scale(0.015625)\" />\n",
       "        <path id=\"ArialMT-34\" d=\"M 2069 0  L 2069 1097  L 81 1097  L 81 1613  L 2172 4581  L 2631 4581  L 2631 1613  L 3250 1613  L 3250 1097  L 2631 1097  L 2631 0  L 2069 0  z M 2069 1613  L 2069 3678  L 634 1613  L 2069 1613  z \" transform=\"scale(0.015625)\" />\n",
       "       </defs>\n",
       "       <use xlink:href=\"#ArialMT-31\" />\n",
       "       <use xlink:href=\"#ArialMT-39\" x=\"55.615234\" />\n",
       "       <use xlink:href=\"#ArialMT-34\" x=\"111.230469\" />\n",
       "      </g>\n",
       "     </g>\n",
       "    </g>\n",
       "   </g>\n",
       "   <g id=\"patch_3\">\n",
       "    <path d=\"M 22.84625 28.748839  L 32.076325 28.748839  L 32.076325 23.278147  L 22.84625 23.278147  z \" clip-path=\"url(#pc3dcb72400)\" style=\"fill: #fefebb; stroke: #444443; stroke-width: 0.5; stroke-linejoin: miter\" />\n",
       "   </g>\n",
       "   <g id=\"patch_4\">\n",
       "    <path d=\"M 32.076325 28.748839  L 41.3064 28.748839  L 41.3064 28.748839  L 32.076325 28.748839  z \" clip-path=\"url(#pc3dcb72400)\" style=\"fill: #fefebb; stroke: #444443; stroke-width: 0.5; stroke-linejoin: miter\" />\n",
       "   </g>\n",
       "   <g id=\"patch_5\">\n",
       "    <path d=\"M 41.3064 28.748839  L 50.536476 28.748839  L 50.536476 28.748839  L 41.3064 28.748839  z \" clip-path=\"url(#pc3dcb72400)\" style=\"fill: #fefebb; stroke: #444443; stroke-width: 0.5; stroke-linejoin: miter\" />\n",
       "   </g>\n",
       "   <g id=\"patch_6\">\n",
       "    <path d=\"M 50.536476 28.748839  L 59.766551 28.748839  L 59.766551 26.880798  L 50.536476 26.880798  z \" clip-path=\"url(#pc3dcb72400)\" style=\"fill: #fefebb; stroke: #444443; stroke-width: 0.5; stroke-linejoin: miter\" />\n",
       "   </g>\n",
       "   <g id=\"patch_7\">\n",
       "    <path d=\"M 59.766551 28.748839  L 68.996626 28.748839  L 68.996626 28.748839  L 59.766551 28.748839  z \" clip-path=\"url(#pc3dcb72400)\" style=\"fill: #fefebb; stroke: #444443; stroke-width: 0.5; stroke-linejoin: miter\" />\n",
       "   </g>\n",
       "   <g id=\"patch_8\">\n",
       "    <path d=\"M 68.996626 28.748839  L 78.226701 28.748839  L 78.226701 28.748839  L 68.996626 28.748839  z \" clip-path=\"url(#pc3dcb72400)\" style=\"fill: #fefebb; stroke: #444443; stroke-width: 0.5; stroke-linejoin: miter\" />\n",
       "   </g>\n",
       "   <g id=\"patch_9\">\n",
       "    <path d=\"M 78.226701 28.748839  L 87.456776 28.748839  L 87.456776 26.21364  L 78.226701 26.21364  z \" clip-path=\"url(#pc3dcb72400)\" style=\"fill: #fefebb; stroke: #444443; stroke-width: 0.5; stroke-linejoin: miter\" />\n",
       "   </g>\n",
       "   <g id=\"patch_10\">\n",
       "    <path d=\"M 87.456776 28.748839  L 96.686852 28.748839  L 96.686852 28.748839  L 87.456776 28.748839  z \" clip-path=\"url(#pc3dcb72400)\" style=\"fill: #fefebb; stroke: #444443; stroke-width: 0.5; stroke-linejoin: miter\" />\n",
       "   </g>\n",
       "   <g id=\"patch_11\">\n",
       "    <path d=\"M 96.686852 28.748839  L 105.916927 28.748839  L 105.916927 28.748839  L 96.686852 28.748839  z \" clip-path=\"url(#pc3dcb72400)\" style=\"fill: #fefebb; stroke: #444443; stroke-width: 0.5; stroke-linejoin: miter\" />\n",
       "   </g>\n",
       "   <g id=\"patch_12\">\n",
       "    <path d=\"M 105.916927 28.748839  L 115.147002 28.748839  L 115.147002 28.615408  L 105.916927 28.615408  z \" clip-path=\"url(#pc3dcb72400)\" style=\"fill: #fefebb; stroke: #444443; stroke-width: 0.5; stroke-linejoin: miter\" />\n",
       "   </g>\n",
       "   <g id=\"patch_13\">\n",
       "    <path d=\"M 115.147002 28.748839  L 124.377077 28.748839  L 124.377077 28.748839  L 115.147002 28.748839  z \" clip-path=\"url(#pc3dcb72400)\" style=\"fill: #fefebb; stroke: #444443; stroke-width: 0.5; stroke-linejoin: miter\" />\n",
       "   </g>\n",
       "   <g id=\"patch_14\">\n",
       "    <path d=\"M 124.377077 28.748839  L 133.607152 28.748839  L 133.607152 28.748839  L 124.377077 28.748839  z \" clip-path=\"url(#pc3dcb72400)\" style=\"fill: #fefebb; stroke: #444443; stroke-width: 0.5; stroke-linejoin: miter\" />\n",
       "   </g>\n",
       "   <g id=\"patch_15\">\n",
       "    <path d=\"M 133.607152 28.748839  L 142.837227 28.748839  L 142.837227 28.481976  L 133.607152 28.481976  z \" clip-path=\"url(#pc3dcb72400)\" style=\"fill: #fefebb; stroke: #444443; stroke-width: 0.5; stroke-linejoin: miter\" />\n",
       "   </g>\n",
       "   <g id=\"patch_16\">\n",
       "    <path d=\"M 142.837227 28.748839  L 152.067303 28.748839  L 152.067303 28.748839  L 142.837227 28.748839  z \" clip-path=\"url(#pc3dcb72400)\" style=\"fill: #fefebb; stroke: #444443; stroke-width: 0.5; stroke-linejoin: miter\" />\n",
       "   </g>\n",
       "   <g id=\"patch_17\">\n",
       "    <path d=\"M 152.067303 28.748839  L 161.297378 28.748839  L 161.297378 28.748839  L 152.067303 28.748839  z \" clip-path=\"url(#pc3dcb72400)\" style=\"fill: #fefebb; stroke: #444443; stroke-width: 0.5; stroke-linejoin: miter\" />\n",
       "   </g>\n",
       "   <g id=\"patch_18\">\n",
       "    <path d=\"M 161.297378 28.748839  L 170.527453 28.748839  L 170.527453 28.348545  L 161.297378 28.348545  z \" clip-path=\"url(#pc3dcb72400)\" style=\"fill: #fefebb; stroke: #444443; stroke-width: 0.5; stroke-linejoin: miter\" />\n",
       "   </g>\n",
       "   <g id=\"patch_19\">\n",
       "    <path d=\"M 170.527453 28.748839  L 179.757528 28.748839  L 179.757528 28.748839  L 170.527453 28.748839  z \" clip-path=\"url(#pc3dcb72400)\" style=\"fill: #fefebb; stroke: #444443; stroke-width: 0.5; stroke-linejoin: miter\" />\n",
       "   </g>\n",
       "   <g id=\"patch_20\">\n",
       "    <path d=\"M 179.757528 28.748839  L 188.987603 28.748839  L 188.987603 28.748839  L 179.757528 28.748839  z \" clip-path=\"url(#pc3dcb72400)\" style=\"fill: #fefebb; stroke: #444443; stroke-width: 0.5; stroke-linejoin: miter\" />\n",
       "   </g>\n",
       "   <g id=\"patch_21\">\n",
       "    <path d=\"M 188.987603 28.748839  L 198.217679 28.748839  L 198.217679 28.615408  L 188.987603 28.615408  z \" clip-path=\"url(#pc3dcb72400)\" style=\"fill: #fefebb; stroke: #444443; stroke-width: 0.5; stroke-linejoin: miter\" />\n",
       "   </g>\n",
       "   <g id=\"patch_22\">\n",
       "    <path d=\"M 22.84625 23.278147  L 32.076325 23.278147  L 32.076325 2.863125  L 22.84625 2.863125  z \" clip-path=\"url(#pc3dcb72400)\" style=\"fill: #a1dab4; stroke: #444443; stroke-width: 0.5; stroke-linejoin: miter\" />\n",
       "   </g>\n",
       "   <g id=\"patch_23\">\n",
       "    <path d=\"M 32.076325 28.748839  L 41.3064 28.748839  L 41.3064 28.748839  L 32.076325 28.748839  z \" clip-path=\"url(#pc3dcb72400)\" style=\"fill: #a1dab4; stroke: #444443; stroke-width: 0.5; stroke-linejoin: miter\" />\n",
       "   </g>\n",
       "   <g id=\"patch_24\">\n",
       "    <path d=\"M 41.3064 28.748839  L 50.536476 28.748839  L 50.536476 28.748839  L 41.3064 28.748839  z \" clip-path=\"url(#pc3dcb72400)\" style=\"fill: #a1dab4; stroke: #444443; stroke-width: 0.5; stroke-linejoin: miter\" />\n",
       "   </g>\n",
       "   <g id=\"patch_25\">\n",
       "    <path d=\"M 50.536476 26.880798  L 59.766551 26.880798  L 59.766551 20.742948  L 50.536476 20.742948  z \" clip-path=\"url(#pc3dcb72400)\" style=\"fill: #a1dab4; stroke: #444443; stroke-width: 0.5; stroke-linejoin: miter\" />\n",
       "   </g>\n",
       "   <g id=\"patch_26\">\n",
       "    <path d=\"M 59.766551 28.748839  L 68.996626 28.748839  L 68.996626 28.748839  L 59.766551 28.748839  z \" clip-path=\"url(#pc3dcb72400)\" style=\"fill: #a1dab4; stroke: #444443; stroke-width: 0.5; stroke-linejoin: miter\" />\n",
       "   </g>\n",
       "   <g id=\"patch_27\">\n",
       "    <path d=\"M 68.996626 28.748839  L 78.226701 28.748839  L 78.226701 28.748839  L 68.996626 28.748839  z \" clip-path=\"url(#pc3dcb72400)\" style=\"fill: #a1dab4; stroke: #444443; stroke-width: 0.5; stroke-linejoin: miter\" />\n",
       "   </g>\n",
       "   <g id=\"patch_28\">\n",
       "    <path d=\"M 78.226701 26.21364  L 87.456776 26.21364  L 87.456776 22.210695  L 78.226701 22.210695  z \" clip-path=\"url(#pc3dcb72400)\" style=\"fill: #a1dab4; stroke: #444443; stroke-width: 0.5; stroke-linejoin: miter\" />\n",
       "   </g>\n",
       "   <g id=\"patch_29\">\n",
       "    <path d=\"M 87.456776 28.748839  L 96.686852 28.748839  L 96.686852 28.748839  L 87.456776 28.748839  z \" clip-path=\"url(#pc3dcb72400)\" style=\"fill: #a1dab4; stroke: #444443; stroke-width: 0.5; stroke-linejoin: miter\" />\n",
       "   </g>\n",
       "   <g id=\"patch_30\">\n",
       "    <path d=\"M 96.686852 28.748839  L 105.916927 28.748839  L 105.916927 28.748839  L 96.686852 28.748839  z \" clip-path=\"url(#pc3dcb72400)\" style=\"fill: #a1dab4; stroke: #444443; stroke-width: 0.5; stroke-linejoin: miter\" />\n",
       "   </g>\n",
       "   <g id=\"patch_31\">\n",
       "    <path d=\"M 105.916927 28.615408  L 115.147002 28.615408  L 115.147002 28.215113  L 105.916927 28.215113  z \" clip-path=\"url(#pc3dcb72400)\" style=\"fill: #a1dab4; stroke: #444443; stroke-width: 0.5; stroke-linejoin: miter\" />\n",
       "   </g>\n",
       "   <g id=\"patch_32\">\n",
       "    <path d=\"M 115.147002 28.748839  L 124.377077 28.748839  L 124.377077 28.748839  L 115.147002 28.748839  z \" clip-path=\"url(#pc3dcb72400)\" style=\"fill: #a1dab4; stroke: #444443; stroke-width: 0.5; stroke-linejoin: miter\" />\n",
       "   </g>\n",
       "   <g id=\"patch_33\">\n",
       "    <path d=\"M 124.377077 28.748839  L 133.607152 28.748839  L 133.607152 28.748839  L 124.377077 28.748839  z \" clip-path=\"url(#pc3dcb72400)\" style=\"fill: #a1dab4; stroke: #444443; stroke-width: 0.5; stroke-linejoin: miter\" />\n",
       "   </g>\n",
       "   <g id=\"patch_34\">\n",
       "    <path d=\"M 133.607152 28.481976  L 142.837227 28.481976  L 142.837227 28.481976  L 133.607152 28.481976  z \" clip-path=\"url(#pc3dcb72400)\" style=\"fill: #a1dab4; stroke: #444443; stroke-width: 0.5; stroke-linejoin: miter\" />\n",
       "   </g>\n",
       "   <g id=\"patch_35\">\n",
       "    <path d=\"M 142.837227 28.748839  L 152.067303 28.748839  L 152.067303 28.748839  L 142.837227 28.748839  z \" clip-path=\"url(#pc3dcb72400)\" style=\"fill: #a1dab4; stroke: #444443; stroke-width: 0.5; stroke-linejoin: miter\" />\n",
       "   </g>\n",
       "   <g id=\"patch_36\">\n",
       "    <path d=\"M 152.067303 28.748839  L 161.297378 28.748839  L 161.297378 28.748839  L 152.067303 28.748839  z \" clip-path=\"url(#pc3dcb72400)\" style=\"fill: #a1dab4; stroke: #444443; stroke-width: 0.5; stroke-linejoin: miter\" />\n",
       "   </g>\n",
       "   <g id=\"patch_37\">\n",
       "    <path d=\"M 161.297378 28.348545  L 170.527453 28.348545  L 170.527453 28.215113  L 161.297378 28.215113  z \" clip-path=\"url(#pc3dcb72400)\" style=\"fill: #a1dab4; stroke: #444443; stroke-width: 0.5; stroke-linejoin: miter\" />\n",
       "   </g>\n",
       "   <g id=\"patch_38\">\n",
       "    <path d=\"M 170.527453 28.748839  L 179.757528 28.748839  L 179.757528 28.748839  L 170.527453 28.748839  z \" clip-path=\"url(#pc3dcb72400)\" style=\"fill: #a1dab4; stroke: #444443; stroke-width: 0.5; stroke-linejoin: miter\" />\n",
       "   </g>\n",
       "   <g id=\"patch_39\">\n",
       "    <path d=\"M 179.757528 28.748839  L 188.987603 28.748839  L 188.987603 28.748839  L 179.757528 28.748839  z \" clip-path=\"url(#pc3dcb72400)\" style=\"fill: #a1dab4; stroke: #444443; stroke-width: 0.5; stroke-linejoin: miter\" />\n",
       "   </g>\n",
       "   <g id=\"patch_40\">\n",
       "    <path d=\"M 188.987603 28.615408  L 198.217679 28.615408  L 198.217679 28.615408  L 188.987603 28.615408  z \" clip-path=\"url(#pc3dcb72400)\" style=\"fill: #a1dab4; stroke: #444443; stroke-width: 0.5; stroke-linejoin: miter\" />\n",
       "   </g>\n",
       "   <g id=\"patch_41\">\n",
       "    <path d=\"M 95.917679 29.564239  L 92.603159 36.902839  L 99.232199 36.902839  z \" style=\"fill: #444443; stroke: #ffffff; stroke-linejoin: miter\" />\n",
       "   </g>\n",
       "   <g id=\"patch_42\">\n",
       "    <path d=\"M 22.84625 28.748839  L 22.84625 1.568839  \" style=\"fill: none; stroke: #ffffff; stroke-width: 0.3; stroke-linejoin: miter; stroke-linecap: square\" />\n",
       "   </g>\n",
       "   <g id=\"patch_43\">\n",
       "    <path d=\"M 22.84625 28.748839  L 206.98625 28.748839  \" style=\"fill: none; stroke: #ffffff; stroke-width: 0.3; stroke-linejoin: miter; stroke-linecap: square\" />\n",
       "   </g>\n",
       "   <g id=\"text_6\">\n",
       "    \n",
       "    <g style=\"fill: #444443\" transform=\"translate(88.133304 45.056839)scale(0.08 -0.08)\">\n",
       "     <defs>\n",
       "      <path id=\"ArialMT-32\" d=\"M 3222 541  L 3222 0  L 194 0  Q 188 203 259 391  Q 375 700 629 1000  Q 884 1300 1366 1694  Q 2113 2306 2375 2664  Q 2638 3022 2638 3341  Q 2638 3675 2398 3904  Q 2159 4134 1775 4134  Q 1369 4134 1125 3890  Q 881 3647 878 3216  L 300 3275  Q 359 3922 746 4261  Q 1134 4600 1788 4600  Q 2447 4600 2831 4234  Q 3216 3869 3216 3328  Q 3216 3053 3103 2787  Q 2991 2522 2730 2228  Q 2469 1934 1863 1422  Q 1356 997 1212 845  Q 1069 694 975 541  L 3222 541  z \" transform=\"scale(0.015625)\" />\n",
       "      <path id=\"ArialMT-2e\" d=\"M 581 0  L 581 641  L 1222 641  L 1222 0  L 581 0  z \" transform=\"scale(0.015625)\" />\n",
       "      <path id=\"ArialMT-35\" d=\"M 266 1200  L 856 1250  Q 922 819 1161 601  Q 1400 384 1738 384  Q 2144 384 2425 690  Q 2706 997 2706 1503  Q 2706 1984 2436 2262  Q 2166 2541 1728 2541  Q 1456 2541 1237 2417  Q 1019 2294 894 2097  L 366 2166  L 809 4519  L 3088 4519  L 3088 3981  L 1259 3981  L 1013 2750  Q 1425 3038 1878 3038  Q 2478 3038 2890 2622  Q 3303 2206 3303 1553  Q 3303 931 2941 478  Q 2500 -78 1738 -78  Q 1113 -78 717 272  Q 322 622 266 1200  z \" transform=\"scale(0.015625)\" />\n",
       "     </defs>\n",
       "     <use xlink:href=\"#ArialMT-32\" />\n",
       "     <use xlink:href=\"#ArialMT-2e\" x=\"55.615234\" />\n",
       "     <use xlink:href=\"#ArialMT-35\" x=\"83.398438\" />\n",
       "     <use xlink:href=\"#ArialMT-30\" x=\"139.013672\" />\n",
       "    </g>\n",
       "   </g>\n",
       "  </g>\n",
       " </g>\n",
       " <defs>\n",
       "  <clipPath id=\"pc3dcb72400\">\n",
       "   <rect x=\"22.84625\" y=\"1.568839\" width=\"184.14\" height=\"27.18\" />\n",
       "  </clipPath>\n",
       " </defs>\n",
       "</svg></g>\n",
       "\n",
       "\n",
       "<g id=\"node4\" class=\"node\">\n",
       "<title>leaf3</title>\n",
       "<polygon fill=\"none\" stroke=\"#444443\" stroke-width=\"0\" points=\"129.5,-72.5 81.5,-72.5 81.5,-9.5 129.5,-9.5 129.5,-72.5\" />\n",
       "<svg width=\"40px\" height=\"55px\" viewBox=\"0 0 53.756 73.656002\" version=\"1.1\" preserveAspectRatio=\"xMinYMin meet\" x=\"85.5\" y=\"-68\">\n",
       " <metadata>\n",
       "  <rdf:RDF>\n",
       "   <ns2:Work>\n",
       "    <dc:type rdf:resource=\"http://purl.org/dc/dcmitype/StillImage\" />\n",
       "    <dc:date>2022-06-06T21:13:51.974743</dc:date>\n",
       "    <dc:format>image/svg+xml</dc:format>\n",
       "    <dc:creator>\n",
       "     <ns2:Agent>\n",
       "      <dc:title>Matplotlib v3.5.2, https://matplotlib.org/</dc:title>\n",
       "     </ns2:Agent>\n",
       "    </dc:creator>\n",
       "   </ns2:Work>\n",
       "  </rdf:RDF>\n",
       " </metadata>\n",
       " <defs>\n",
       "  <style type=\"text/css\">*{stroke-linejoin: round; stroke-linecap: butt}</style>\n",
       " </defs>\n",
       " <g id=\"figure_1\">\n",
       "  <g id=\"patch_1\">\n",
       "   <path d=\"M 0 73.656002  L 53.756 73.656002  L 53.756 0  L 0 0  L 0 73.656002  z \" style=\"fill: none\" />\n",
       "  </g>\n",
       "  <g id=\"axes_1\">\n",
       "   <g id=\"patch_2\">\n",
       "    <path d=\"M 53.756 26.877793  C 53.756 20.734174 51.649589 14.772452 47.790045 9.992496  C 43.9305 5.21254 38.546364 1.897397 32.540636 0.603064  C 26.534909 -0.69127 20.263219 0.111852 14.777422 2.877733  C 9.291626 5.643614 4.916564 10.208472 2.386 15.806713  L 26.878 26.877793  L 53.756 26.877793  z \" style=\"fill: #fefebb; stroke: #444443; stroke-width: 0.5; stroke-linejoin: miter\" />\n",
       "   </g>\n",
       "   <g id=\"patch_3\">\n",
       "    <path d=\"M 2.386 15.806713  C 0.734181 19.46095 -0.079064 23.438964 0.006055 27.448291  C 0.091174 31.457619 1.072519 35.397534 2.87794 38.978372  C 4.683361 42.55921 7.267502 45.691012 10.440375 48.143526  C 13.613249 50.59604 17.295144 52.307652 21.215366 53.152524  C 25.135588 53.997396 29.195651 53.954302 33.097056 53.026411  C 36.998462 52.09852 40.643198 50.309143 43.7633 47.789836  C 46.883403 45.270528 49.400487 42.084582 51.129496 38.466229  C 52.858504 34.847876 53.756001 30.888019 53.756 26.877788  L 26.878 26.877793  L 2.386 15.806713  z \" style=\"fill: #a1dab4; stroke: #444443; stroke-width: 0.5; stroke-linejoin: miter\" />\n",
       "   </g>\n",
       "   <g id=\"text_1\">\n",
       "    \n",
       "    <g style=\"fill: #444443\" transform=\"translate(16.742453 62.348065)scale(0.09 -0.09)\">\n",
       "     <defs>\n",
       "      <path id=\"ArialMT-6e\" d=\"M 422 0  L 422 3319  L 928 3319  L 928 2847  Q 1294 3394 1984 3394  Q 2284 3394 2536 3286  Q 2788 3178 2913 3003  Q 3038 2828 3088 2588  Q 3119 2431 3119 2041  L 3119 0  L 2556 0  L 2556 2019  Q 2556 2363 2490 2533  Q 2425 2703 2258 2804  Q 2091 2906 1866 2906  Q 1506 2906 1245 2678  Q 984 2450 984 1813  L 984 0  L 422 0  z \" transform=\"scale(0.015625)\" />\n",
       "      <path id=\"ArialMT-3d\" d=\"M 3381 2694  L 356 2694  L 356 3219  L 3381 3219  L 3381 2694  z M 3381 1303  L 356 1303  L 356 1828  L 3381 1828  L 3381 1303  z \" transform=\"scale(0.015625)\" />\n",
       "      <path id=\"ArialMT-33\" d=\"M 269 1209  L 831 1284  Q 928 806 1161 595  Q 1394 384 1728 384  Q 2125 384 2398 659  Q 2672 934 2672 1341  Q 2672 1728 2419 1979  Q 2166 2231 1775 2231  Q 1616 2231 1378 2169  L 1441 2663  Q 1497 2656 1531 2656  Q 1891 2656 2178 2843  Q 2466 3031 2466 3422  Q 2466 3731 2256 3934  Q 2047 4138 1716 4138  Q 1388 4138 1169 3931  Q 950 3725 888 3313  L 325 3413  Q 428 3978 793 4289  Q 1159 4600 1703 4600  Q 2078 4600 2393 4439  Q 2709 4278 2876 4000  Q 3044 3722 3044 3409  Q 3044 3113 2884 2869  Q 2725 2625 2413 2481  Q 2819 2388 3044 2092  Q 3269 1797 3269 1353  Q 3269 753 2831 336  Q 2394 -81 1725 -81  Q 1122 -81 723 278  Q 325 638 269 1209  z \" transform=\"scale(0.015625)\" />\n",
       "      <path id=\"ArialMT-37\" d=\"M 303 3981  L 303 4522  L 3269 4522  L 3269 4084  Q 2831 3619 2401 2847  Q 1972 2075 1738 1259  Q 1569 684 1522 0  L 944 0  Q 953 541 1156 1306  Q 1359 2072 1739 2783  Q 2119 3494 2547 3981  L 303 3981  z \" transform=\"scale(0.015625)\" />\n",
       "     </defs>\n",
       "     <use xlink:href=\"#ArialMT-6e\" />\n",
       "     <use xlink:href=\"#ArialMT-3d\" x=\"55.615234\" />\n",
       "     <use xlink:href=\"#ArialMT-33\" x=\"114.013672\" />\n",
       "     <use xlink:href=\"#ArialMT-37\" x=\"169.628906\" />\n",
       "    </g>\n",
       "    \n",
       "    <g style=\"fill: #444443\" transform=\"translate(12.873156 71.867252)scale(0.09 -0.09)\">\n",
       "     <defs>\n",
       "      <path id=\"ArialMT-63\" d=\"M 2588 1216  L 3141 1144  Q 3050 572 2676 248  Q 2303 -75 1759 -75  Q 1078 -75 664 370  Q 250 816 250 1647  Q 250 2184 428 2587  Q 606 2991 970 3192  Q 1334 3394 1763 3394  Q 2303 3394 2647 3120  Q 2991 2847 3088 2344  L 2541 2259  Q 2463 2594 2264 2762  Q 2066 2931 1784 2931  Q 1359 2931 1093 2626  Q 828 2322 828 1663  Q 828 994 1084 691  Q 1341 388 1753 388  Q 2084 388 2306 591  Q 2528 794 2588 1216  z \" transform=\"scale(0.015625)\" />\n",
       "      <path id=\"ArialMT-6c\" d=\"M 409 0  L 409 4581  L 972 4581  L 972 0  L 409 0  z \" transform=\"scale(0.015625)\" />\n",
       "      <path id=\"ArialMT-61\" d=\"M 2588 409  Q 2275 144 1986 34  Q 1697 -75 1366 -75  Q 819 -75 525 192  Q 231 459 231 875  Q 231 1119 342 1320  Q 453 1522 633 1644  Q 813 1766 1038 1828  Q 1203 1872 1538 1913  Q 2219 1994 2541 2106  Q 2544 2222 2544 2253  Q 2544 2597 2384 2738  Q 2169 2928 1744 2928  Q 1347 2928 1158 2789  Q 969 2650 878 2297  L 328 2372  Q 403 2725 575 2942  Q 747 3159 1072 3276  Q 1397 3394 1825 3394  Q 2250 3394 2515 3294  Q 2781 3194 2906 3042  Q 3031 2891 3081 2659  Q 3109 2516 3109 2141  L 3109 1391  Q 3109 606 3145 398  Q 3181 191 3288 0  L 2700 0  Q 2613 175 2588 409  z M 2541 1666  Q 2234 1541 1622 1453  Q 1275 1403 1131 1340  Q 988 1278 909 1158  Q 831 1038 831 891  Q 831 666 1001 516  Q 1172 366 1500 366  Q 1825 366 2078 508  Q 2331 650 2450 897  Q 2541 1088 2541 1459  L 2541 1666  z \" transform=\"scale(0.015625)\" />\n",
       "      <path id=\"ArialMT-73\" d=\"M 197 991  L 753 1078  Q 800 744 1014 566  Q 1228 388 1613 388  Q 2000 388 2187 545  Q 2375 703 2375 916  Q 2375 1106 2209 1216  Q 2094 1291 1634 1406  Q 1016 1563 777 1677  Q 538 1791 414 1992  Q 291 2194 291 2438  Q 291 2659 392 2848  Q 494 3038 669 3163  Q 800 3259 1026 3326  Q 1253 3394 1513 3394  Q 1903 3394 2198 3281  Q 2494 3169 2634 2976  Q 2775 2784 2828 2463  L 2278 2388  Q 2241 2644 2061 2787  Q 1881 2931 1553 2931  Q 1166 2931 1000 2803  Q 834 2675 834 2503  Q 834 2394 903 2306  Q 972 2216 1119 2156  Q 1203 2125 1616 2013  Q 2213 1853 2448 1751  Q 2684 1650 2818 1456  Q 2953 1263 2953 975  Q 2953 694 2789 445  Q 2625 197 2315 61  Q 2006 -75 1616 -75  Q 969 -75 630 194  Q 291 463 197 991  z \" transform=\"scale(0.015625)\" />\n",
       "      <path id=\"ArialMT-20\" transform=\"scale(0.015625)\" />\n",
       "      <path id=\"ArialMT-31\" d=\"M 2384 0  L 1822 0  L 1822 3584  Q 1619 3391 1289 3197  Q 959 3003 697 2906  L 697 3450  Q 1169 3672 1522 3987  Q 1875 4303 2022 4600  L 2384 4600  L 2384 0  z \" transform=\"scale(0.015625)\" />\n",
       "     </defs>\n",
       "     <use xlink:href=\"#ArialMT-63\" />\n",
       "     <use xlink:href=\"#ArialMT-6c\" x=\"50\" />\n",
       "     <use xlink:href=\"#ArialMT-61\" x=\"72.216797\" />\n",
       "     <use xlink:href=\"#ArialMT-73\" x=\"127.832031\" />\n",
       "     <use xlink:href=\"#ArialMT-73\" x=\"177.832031\" />\n",
       "     <use xlink:href=\"#ArialMT-20\" x=\"227.832031\" />\n",
       "     <use xlink:href=\"#ArialMT-31\" x=\"255.615234\" />\n",
       "    </g>\n",
       "   </g>\n",
       "  </g>\n",
       " </g>\n",
       "</svg></g>\n",
       "\n",
       "<g id=\"edge1\" class=\"edge\">\n",
       "<title>node1-&gt;leaf3</title>\n",
       "<path fill=\"none\" stroke=\"#444443\" stroke-width=\"0.3\" d=\"M137.4,-98.88C133.18,-91.36 128.78,-83.5 124.63,-76.11\" />\n",
       "<polygon fill=\"#444443\" stroke=\"#444443\" stroke-width=\"0.3\" points=\"125.79,-75.32 122.62,-72.52 123.35,-76.69 125.79,-75.32\" />\n",
       "</g>\n",
       "\n",
       "<g id=\"node5\" class=\"node\">\n",
       "<title>leaf4</title>\n",
       "<polygon fill=\"none\" stroke=\"#444443\" stroke-width=\"0\" points=\"210,-82 143,-82 143,0 210,0 210,-82\" />\n",
       "<svg width=\"59px\" height=\"74px\" viewBox=\"0 0 78.519994 99.410767\" version=\"1.1\" preserveAspectRatio=\"xMinYMin meet\" x=\"147.5\" y=\"-78\">\n",
       " <metadata>\n",
       "  <rdf:RDF>\n",
       "   <ns2:Work>\n",
       "    <dc:type rdf:resource=\"http://purl.org/dc/dcmitype/StillImage\" />\n",
       "    <dc:date>2022-06-06T21:13:52.037233</dc:date>\n",
       "    <dc:format>image/svg+xml</dc:format>\n",
       "    <dc:creator>\n",
       "     <ns2:Agent>\n",
       "      <dc:title>Matplotlib v3.5.2, https://matplotlib.org/</dc:title>\n",
       "     </ns2:Agent>\n",
       "    </dc:creator>\n",
       "   </ns2:Work>\n",
       "  </rdf:RDF>\n",
       " </metadata>\n",
       " <defs>\n",
       "  <style type=\"text/css\">*{stroke-linejoin: round; stroke-linecap: butt}</style>\n",
       " </defs>\n",
       " <g id=\"figure_1\">\n",
       "  <g id=\"patch_1\">\n",
       "   <path d=\"M 0 99.410767  L 78.519994 99.410767  L 78.519994 0  L 0 0  L 0 99.410767  z \" style=\"fill: none\" />\n",
       "  </g>\n",
       "  <g id=\"axes_1\">\n",
       "   <g id=\"patch_2\">\n",
       "    <path d=\"M 78.519994 39.259998  C 78.519994 34.948703 77.809834 30.666702 76.418077 26.586227  C 75.026321 22.505752 72.971881 18.682254 70.337393 15.269523  C 67.702904 11.856791 64.524168 8.901204 60.929041 6.521641  C 57.333913 4.142078 53.371249 2.370876 49.200437 1.279277  C 45.029625 0.187678 40.707343 -0.209484 36.407443 0.103765  C 32.107543 0.417015 27.888459 1.43642 23.919891 3.120977  C 19.951323 4.805534 16.287202 7.132351 13.074908 10.007838  C 9.862613 12.883326 7.145798 16.268407 5.033739 20.026927  C 2.921679 23.785446 1.443078 27.866328 0.657407 32.10543  C -0.128265 36.344532 -0.210329 40.684246 0.414515 44.950021  C 1.039359 49.215796 2.362619 53.349661 4.331072 57.185343  C 6.299525 61.021026 8.886419 64.5064 11.987705 67.501277  C 15.088991 70.496155 18.662523 72.959836 22.564567 74.793226  C 26.46661 76.626617 30.644138 77.804802 34.929121 78.280392  C 39.214104 78.755982 43.548311 78.522515 47.757411 77.58938  C 51.966511 76.656245 55.993305 75.036124 59.675825 72.794181  L 39.259994 39.259998  L 78.519994 39.259998  z \" style=\"fill: #fefebb; stroke: #444443; stroke-width: 0.5; stroke-linejoin: miter\" />\n",
       "   </g>\n",
       "   <g id=\"patch_3\">\n",
       "    <path d=\"M 59.675825 72.794181  C 65.429646 69.291218 70.186224 64.365638 73.486249 58.493071  C 76.786274 52.620504 78.519994 45.996262 78.519994 39.260002  L 39.259994 39.259998  L 59.675825 72.794181  z \" style=\"fill: #a1dab4; stroke: #444443; stroke-width: 0.5; stroke-linejoin: miter\" />\n",
       "   </g>\n",
       "   <g id=\"text_1\">\n",
       "    \n",
       "    <g style=\"fill: #444443\" transform=\"translate(26.622025 88.102829)scale(0.09 -0.09)\">\n",
       "     <defs>\n",
       "      <path id=\"ArialMT-6e\" d=\"M 422 0  L 422 3319  L 928 3319  L 928 2847  Q 1294 3394 1984 3394  Q 2284 3394 2536 3286  Q 2788 3178 2913 3003  Q 3038 2828 3088 2588  Q 3119 2431 3119 2041  L 3119 0  L 2556 0  L 2556 2019  Q 2556 2363 2490 2533  Q 2425 2703 2258 2804  Q 2091 2906 1866 2906  Q 1506 2906 1245 2678  Q 984 2450 984 1813  L 984 0  L 422 0  z \" transform=\"scale(0.015625)\" />\n",
       "      <path id=\"ArialMT-3d\" d=\"M 3381 2694  L 356 2694  L 356 3219  L 3381 3219  L 3381 2694  z M 3381 1303  L 356 1303  L 356 1828  L 3381 1828  L 3381 1303  z \" transform=\"scale(0.015625)\" />\n",
       "      <path id=\"ArialMT-35\" d=\"M 266 1200  L 856 1250  Q 922 819 1161 601  Q 1400 384 1738 384  Q 2144 384 2425 690  Q 2706 997 2706 1503  Q 2706 1984 2436 2262  Q 2166 2541 1728 2541  Q 1456 2541 1237 2417  Q 1019 2294 894 2097  L 366 2166  L 809 4519  L 3088 4519  L 3088 3981  L 1259 3981  L 1013 2750  Q 1425 3038 1878 3038  Q 2478 3038 2890 2622  Q 3303 2206 3303 1553  Q 3303 931 2941 478  Q 2500 -78 1738 -78  Q 1113 -78 717 272  Q 322 622 266 1200  z \" transform=\"scale(0.015625)\" />\n",
       "      <path id=\"ArialMT-34\" d=\"M 2069 0  L 2069 1097  L 81 1097  L 81 1613  L 2172 4581  L 2631 4581  L 2631 1613  L 3250 1613  L 3250 1097  L 2631 1097  L 2631 0  L 2069 0  z M 2069 1613  L 2069 3678  L 634 1613  L 2069 1613  z \" transform=\"scale(0.015625)\" />\n",
       "      <path id=\"ArialMT-30\" d=\"M 266 2259  Q 266 3072 433 3567  Q 600 4063 929 4331  Q 1259 4600 1759 4600  Q 2128 4600 2406 4451  Q 2684 4303 2865 4023  Q 3047 3744 3150 3342  Q 3253 2941 3253 2259  Q 3253 1453 3087 958  Q 2922 463 2592 192  Q 2263 -78 1759 -78  Q 1097 -78 719 397  Q 266 969 266 2259  z M 844 2259  Q 844 1131 1108 757  Q 1372 384 1759 384  Q 2147 384 2411 759  Q 2675 1134 2675 2259  Q 2675 3391 2411 3762  Q 2147 4134 1753 4134  Q 1366 4134 1134 3806  Q 844 3388 844 2259  z \" transform=\"scale(0.015625)\" />\n",
       "     </defs>\n",
       "     <use xlink:href=\"#ArialMT-6e\" />\n",
       "     <use xlink:href=\"#ArialMT-3d\" x=\"55.615234\" />\n",
       "     <use xlink:href=\"#ArialMT-35\" x=\"114.013672\" />\n",
       "     <use xlink:href=\"#ArialMT-34\" x=\"169.628906\" />\n",
       "     <use xlink:href=\"#ArialMT-30\" x=\"225.244141\" />\n",
       "    </g>\n",
       "    \n",
       "    <g style=\"fill: #444443\" transform=\"translate(25.25515 97.622017)scale(0.09 -0.09)\">\n",
       "     <defs>\n",
       "      <path id=\"ArialMT-63\" d=\"M 2588 1216  L 3141 1144  Q 3050 572 2676 248  Q 2303 -75 1759 -75  Q 1078 -75 664 370  Q 250 816 250 1647  Q 250 2184 428 2587  Q 606 2991 970 3192  Q 1334 3394 1763 3394  Q 2303 3394 2647 3120  Q 2991 2847 3088 2344  L 2541 2259  Q 2463 2594 2264 2762  Q 2066 2931 1784 2931  Q 1359 2931 1093 2626  Q 828 2322 828 1663  Q 828 994 1084 691  Q 1341 388 1753 388  Q 2084 388 2306 591  Q 2528 794 2588 1216  z \" transform=\"scale(0.015625)\" />\n",
       "      <path id=\"ArialMT-6c\" d=\"M 409 0  L 409 4581  L 972 4581  L 972 0  L 409 0  z \" transform=\"scale(0.015625)\" />\n",
       "      <path id=\"ArialMT-61\" d=\"M 2588 409  Q 2275 144 1986 34  Q 1697 -75 1366 -75  Q 819 -75 525 192  Q 231 459 231 875  Q 231 1119 342 1320  Q 453 1522 633 1644  Q 813 1766 1038 1828  Q 1203 1872 1538 1913  Q 2219 1994 2541 2106  Q 2544 2222 2544 2253  Q 2544 2597 2384 2738  Q 2169 2928 1744 2928  Q 1347 2928 1158 2789  Q 969 2650 878 2297  L 328 2372  Q 403 2725 575 2942  Q 747 3159 1072 3276  Q 1397 3394 1825 3394  Q 2250 3394 2515 3294  Q 2781 3194 2906 3042  Q 3031 2891 3081 2659  Q 3109 2516 3109 2141  L 3109 1391  Q 3109 606 3145 398  Q 3181 191 3288 0  L 2700 0  Q 2613 175 2588 409  z M 2541 1666  Q 2234 1541 1622 1453  Q 1275 1403 1131 1340  Q 988 1278 909 1158  Q 831 1038 831 891  Q 831 666 1001 516  Q 1172 366 1500 366  Q 1825 366 2078 508  Q 2331 650 2450 897  Q 2541 1088 2541 1459  L 2541 1666  z \" transform=\"scale(0.015625)\" />\n",
       "      <path id=\"ArialMT-73\" d=\"M 197 991  L 753 1078  Q 800 744 1014 566  Q 1228 388 1613 388  Q 2000 388 2187 545  Q 2375 703 2375 916  Q 2375 1106 2209 1216  Q 2094 1291 1634 1406  Q 1016 1563 777 1677  Q 538 1791 414 1992  Q 291 2194 291 2438  Q 291 2659 392 2848  Q 494 3038 669 3163  Q 800 3259 1026 3326  Q 1253 3394 1513 3394  Q 1903 3394 2198 3281  Q 2494 3169 2634 2976  Q 2775 2784 2828 2463  L 2278 2388  Q 2241 2644 2061 2787  Q 1881 2931 1553 2931  Q 1166 2931 1000 2803  Q 834 2675 834 2503  Q 834 2394 903 2306  Q 972 2216 1119 2156  Q 1203 2125 1616 2013  Q 2213 1853 2448 1751  Q 2684 1650 2818 1456  Q 2953 1263 2953 975  Q 2953 694 2789 445  Q 2625 197 2315 61  Q 2006 -75 1616 -75  Q 969 -75 630 194  Q 291 463 197 991  z \" transform=\"scale(0.015625)\" />\n",
       "      <path id=\"ArialMT-20\" transform=\"scale(0.015625)\" />\n",
       "     </defs>\n",
       "     <use xlink:href=\"#ArialMT-63\" />\n",
       "     <use xlink:href=\"#ArialMT-6c\" x=\"50\" />\n",
       "     <use xlink:href=\"#ArialMT-61\" x=\"72.216797\" />\n",
       "     <use xlink:href=\"#ArialMT-73\" x=\"127.832031\" />\n",
       "     <use xlink:href=\"#ArialMT-73\" x=\"177.832031\" />\n",
       "     <use xlink:href=\"#ArialMT-20\" x=\"227.832031\" />\n",
       "     <use xlink:href=\"#ArialMT-30\" x=\"255.615234\" />\n",
       "    </g>\n",
       "   </g>\n",
       "  </g>\n",
       " </g>\n",
       "</svg></g>\n",
       "\n",
       "<g id=\"edge2\" class=\"edge\">\n",
       "<title>node1-&gt;leaf4</title>\n",
       "<path fill=\"none\" stroke=\"#444443\" stroke-width=\"0.3\" d=\"M165.67,-98.88C166.45,-94.79 167.24,-90.6 168.04,-86.43\" />\n",
       "<polygon fill=\"#444443\" stroke=\"#444443\" stroke-width=\"0.3\" points=\"169.45,-86.47 168.83,-82.28 166.7,-85.95 169.45,-86.47\" />\n",
       "</g>\n",
       "\n",
       "<g id=\"node6\" class=\"node\">\n",
       "<title>leaf5</title>\n",
       "<polygon fill=\"none\" stroke=\"#444443\" stroke-width=\"0\" points=\"405,-82 338,-82 338,0 405,0 405,-82\" />\n",
       "<svg width=\"59px\" height=\"74px\" viewBox=\"0 0 78.519988 99.41076\" version=\"1.1\" preserveAspectRatio=\"xMinYMin meet\" x=\"342.5\" y=\"-78\">\n",
       " <metadata>\n",
       "  <rdf:RDF>\n",
       "   <ns2:Work>\n",
       "    <dc:type rdf:resource=\"http://purl.org/dc/dcmitype/StillImage\" />\n",
       "    <dc:date>2022-06-06T21:13:52.084150</dc:date>\n",
       "    <dc:format>image/svg+xml</dc:format>\n",
       "    <dc:creator>\n",
       "     <ns2:Agent>\n",
       "      <dc:title>Matplotlib v3.5.2, https://matplotlib.org/</dc:title>\n",
       "     </ns2:Agent>\n",
       "    </dc:creator>\n",
       "   </ns2:Work>\n",
       "  </rdf:RDF>\n",
       " </metadata>\n",
       " <defs>\n",
       "  <style type=\"text/css\">*{stroke-linejoin: round; stroke-linecap: butt}</style>\n",
       " </defs>\n",
       " <g id=\"figure_1\">\n",
       "  <g id=\"patch_1\">\n",
       "   <path d=\"M 0 99.41076  L 78.519988 99.41076  L 78.519988 0  L 0 0  L 0 99.41076  z \" style=\"fill: none\" />\n",
       "  </g>\n",
       "  <g id=\"axes_1\">\n",
       "   <g id=\"patch_2\">\n",
       "    <path d=\"M 78.519988 39.259991  C 78.519988 37.082168 78.338776 34.908117 77.978229 32.760346  C 77.617682 30.612575 77.079048 28.498524 76.367905 26.440081  L 39.259988 39.259991  L 78.519988 39.259991  z \" style=\"fill: #fefebb; stroke: #444443; stroke-width: 0.5; stroke-linejoin: miter\" />\n",
       "   </g>\n",
       "   <g id=\"patch_3\">\n",
       "    <path d=\"M 76.367905 26.440081  C 74.774059 21.826608 72.33374 17.550569 69.172345 13.831691  C 66.01095 10.112812 62.183573 7.015902 57.886886 4.700097  C 53.590198 2.384293 48.899078 0.889951 44.054581 0.293859  C 39.210084 -0.302233 34.296635 0.010313 29.566714 1.215438  C 24.836793 2.420562 20.372828 4.497263 16.404203 7.338827  C 12.435577 10.180392 9.031452 13.737301 6.366751 17.82678  C 3.702049 21.916259 1.823207 26.467042 0.826772 31.245283  C -0.169663 36.023525 -0.266328 40.945955 0.541746 45.759633  C 1.349819 50.573311 3.048548 55.194348 5.550643 59.385291  C 8.052738 63.576233 11.314594 67.264046 15.1686 70.259227  C 19.022606 73.254409 23.401598 75.504764 28.080559 76.894656  C 32.75952 78.284548 37.656911 78.789755 42.521075 78.384318  C 47.38524 77.97888 52.131411 76.669863 56.515704 74.524532  C 60.899998 72.379201 64.846009 69.434941 68.150969 65.843046  C 71.45593 62.25115 74.062244 58.074215 75.835986 53.526873  C 77.609728 48.979531 78.519987 44.14103 78.519988 39.259998  L 39.259988 39.259991  L 76.367905 26.440081  z \" style=\"fill: #a1dab4; stroke: #444443; stroke-width: 0.5; stroke-linejoin: miter\" />\n",
       "   </g>\n",
       "   <g id=\"text_1\">\n",
       "    \n",
       "    <g style=\"fill: #444443\" transform=\"translate(26.622019 88.102822)scale(0.09 -0.09)\">\n",
       "     <defs>\n",
       "      <path id=\"ArialMT-6e\" d=\"M 422 0  L 422 3319  L 928 3319  L 928 2847  Q 1294 3394 1984 3394  Q 2284 3394 2536 3286  Q 2788 3178 2913 3003  Q 3038 2828 3088 2588  Q 3119 2431 3119 2041  L 3119 0  L 2556 0  L 2556 2019  Q 2556 2363 2490 2533  Q 2425 2703 2258 2804  Q 2091 2906 1866 2906  Q 1506 2906 1245 2678  Q 984 2450 984 1813  L 984 0  L 422 0  z \" transform=\"scale(0.015625)\" />\n",
       "      <path id=\"ArialMT-3d\" d=\"M 3381 2694  L 356 2694  L 356 3219  L 3381 3219  L 3381 2694  z M 3381 1303  L 356 1303  L 356 1828  L 3381 1828  L 3381 1303  z \" transform=\"scale(0.015625)\" />\n",
       "      <path id=\"ArialMT-31\" d=\"M 2384 0  L 1822 0  L 1822 3584  Q 1619 3391 1289 3197  Q 959 3003 697 2906  L 697 3450  Q 1169 3672 1522 3987  Q 1875 4303 2022 4600  L 2384 4600  L 2384 0  z \" transform=\"scale(0.015625)\" />\n",
       "      <path id=\"ArialMT-37\" d=\"M 303 3981  L 303 4522  L 3269 4522  L 3269 4084  Q 2831 3619 2401 2847  Q 1972 2075 1738 1259  Q 1569 684 1522 0  L 944 0  Q 953 541 1156 1306  Q 1359 2072 1739 2783  Q 2119 3494 2547 3981  L 303 3981  z \" transform=\"scale(0.015625)\" />\n",
       "      <path id=\"ArialMT-30\" d=\"M 266 2259  Q 266 3072 433 3567  Q 600 4063 929 4331  Q 1259 4600 1759 4600  Q 2128 4600 2406 4451  Q 2684 4303 2865 4023  Q 3047 3744 3150 3342  Q 3253 2941 3253 2259  Q 3253 1453 3087 958  Q 2922 463 2592 192  Q 2263 -78 1759 -78  Q 1097 -78 719 397  Q 266 969 266 2259  z M 844 2259  Q 844 1131 1108 757  Q 1372 384 1759 384  Q 2147 384 2411 759  Q 2675 1134 2675 2259  Q 2675 3391 2411 3762  Q 2147 4134 1753 4134  Q 1366 4134 1134 3806  Q 844 3388 844 2259  z \" transform=\"scale(0.015625)\" />\n",
       "     </defs>\n",
       "     <use xlink:href=\"#ArialMT-6e\" />\n",
       "     <use xlink:href=\"#ArialMT-3d\" x=\"55.615234\" />\n",
       "     <use xlink:href=\"#ArialMT-31\" x=\"114.013672\" />\n",
       "     <use xlink:href=\"#ArialMT-37\" x=\"169.628906\" />\n",
       "     <use xlink:href=\"#ArialMT-30\" x=\"225.244141\" />\n",
       "    </g>\n",
       "    \n",
       "    <g style=\"fill: #444443\" transform=\"translate(25.255144 97.62201)scale(0.09 -0.09)\">\n",
       "     <defs>\n",
       "      <path id=\"ArialMT-63\" d=\"M 2588 1216  L 3141 1144  Q 3050 572 2676 248  Q 2303 -75 1759 -75  Q 1078 -75 664 370  Q 250 816 250 1647  Q 250 2184 428 2587  Q 606 2991 970 3192  Q 1334 3394 1763 3394  Q 2303 3394 2647 3120  Q 2991 2847 3088 2344  L 2541 2259  Q 2463 2594 2264 2762  Q 2066 2931 1784 2931  Q 1359 2931 1093 2626  Q 828 2322 828 1663  Q 828 994 1084 691  Q 1341 388 1753 388  Q 2084 388 2306 591  Q 2528 794 2588 1216  z \" transform=\"scale(0.015625)\" />\n",
       "      <path id=\"ArialMT-6c\" d=\"M 409 0  L 409 4581  L 972 4581  L 972 0  L 409 0  z \" transform=\"scale(0.015625)\" />\n",
       "      <path id=\"ArialMT-61\" d=\"M 2588 409  Q 2275 144 1986 34  Q 1697 -75 1366 -75  Q 819 -75 525 192  Q 231 459 231 875  Q 231 1119 342 1320  Q 453 1522 633 1644  Q 813 1766 1038 1828  Q 1203 1872 1538 1913  Q 2219 1994 2541 2106  Q 2544 2222 2544 2253  Q 2544 2597 2384 2738  Q 2169 2928 1744 2928  Q 1347 2928 1158 2789  Q 969 2650 878 2297  L 328 2372  Q 403 2725 575 2942  Q 747 3159 1072 3276  Q 1397 3394 1825 3394  Q 2250 3394 2515 3294  Q 2781 3194 2906 3042  Q 3031 2891 3081 2659  Q 3109 2516 3109 2141  L 3109 1391  Q 3109 606 3145 398  Q 3181 191 3288 0  L 2700 0  Q 2613 175 2588 409  z M 2541 1666  Q 2234 1541 1622 1453  Q 1275 1403 1131 1340  Q 988 1278 909 1158  Q 831 1038 831 891  Q 831 666 1001 516  Q 1172 366 1500 366  Q 1825 366 2078 508  Q 2331 650 2450 897  Q 2541 1088 2541 1459  L 2541 1666  z \" transform=\"scale(0.015625)\" />\n",
       "      <path id=\"ArialMT-73\" d=\"M 197 991  L 753 1078  Q 800 744 1014 566  Q 1228 388 1613 388  Q 2000 388 2187 545  Q 2375 703 2375 916  Q 2375 1106 2209 1216  Q 2094 1291 1634 1406  Q 1016 1563 777 1677  Q 538 1791 414 1992  Q 291 2194 291 2438  Q 291 2659 392 2848  Q 494 3038 669 3163  Q 800 3259 1026 3326  Q 1253 3394 1513 3394  Q 1903 3394 2198 3281  Q 2494 3169 2634 2976  Q 2775 2784 2828 2463  L 2278 2388  Q 2241 2644 2061 2787  Q 1881 2931 1553 2931  Q 1166 2931 1000 2803  Q 834 2675 834 2503  Q 834 2394 903 2306  Q 972 2216 1119 2156  Q 1203 2125 1616 2013  Q 2213 1853 2448 1751  Q 2684 1650 2818 1456  Q 2953 1263 2953 975  Q 2953 694 2789 445  Q 2625 197 2315 61  Q 2006 -75 1616 -75  Q 969 -75 630 194  Q 291 463 197 991  z \" transform=\"scale(0.015625)\" />\n",
       "      <path id=\"ArialMT-20\" transform=\"scale(0.015625)\" />\n",
       "     </defs>\n",
       "     <use xlink:href=\"#ArialMT-63\" />\n",
       "     <use xlink:href=\"#ArialMT-6c\" x=\"50\" />\n",
       "     <use xlink:href=\"#ArialMT-61\" x=\"72.216797\" />\n",
       "     <use xlink:href=\"#ArialMT-73\" x=\"127.832031\" />\n",
       "     <use xlink:href=\"#ArialMT-73\" x=\"177.832031\" />\n",
       "     <use xlink:href=\"#ArialMT-20\" x=\"227.832031\" />\n",
       "     <use xlink:href=\"#ArialMT-31\" x=\"255.615234\" />\n",
       "    </g>\n",
       "   </g>\n",
       "  </g>\n",
       " </g>\n",
       "</svg></g>\n",
       "\n",
       "<g id=\"edge4\" class=\"edge\">\n",
       "<title>node2-&gt;leaf5</title>\n",
       "<path fill=\"none\" stroke=\"#444443\" stroke-width=\"0.3\" d=\"M401.3,-110.68C398.04,-103.16 394.38,-94.73 390.77,-86.42\" />\n",
       "<polygon fill=\"#444443\" stroke=\"#444443\" stroke-width=\"0.3\" points=\"391.88,-85.46 389.01,-82.35 389.31,-86.58 391.88,-85.46\" />\n",
       "</g>\n",
       "\n",
       "<g id=\"node7\" class=\"node\">\n",
       "<title>leaf6</title>\n",
       "<polygon fill=\"none\" stroke=\"#444443\" stroke-width=\"0\" points=\"486,-82 419,-82 419,0 486,0 486,-82\" />\n",
       "<svg width=\"59px\" height=\"74px\" viewBox=\"0 0 78.52 99.410769\" version=\"1.1\" preserveAspectRatio=\"xMinYMin meet\" x=\"423.5\" y=\"-78\">\n",
       " <metadata>\n",
       "  <rdf:RDF>\n",
       "   <ns2:Work>\n",
       "    <dc:type rdf:resource=\"http://purl.org/dc/dcmitype/StillImage\" />\n",
       "    <dc:date>2022-06-06T21:13:52.130985</dc:date>\n",
       "    <dc:format>image/svg+xml</dc:format>\n",
       "    <dc:creator>\n",
       "     <ns2:Agent>\n",
       "      <dc:title>Matplotlib v3.5.2, https://matplotlib.org/</dc:title>\n",
       "     </ns2:Agent>\n",
       "    </dc:creator>\n",
       "   </ns2:Work>\n",
       "  </rdf:RDF>\n",
       " </metadata>\n",
       " <defs>\n",
       "  <style type=\"text/css\">*{stroke-linejoin: round; stroke-linecap: butt}</style>\n",
       " </defs>\n",
       " <g id=\"figure_1\">\n",
       "  <g id=\"patch_1\">\n",
       "   <path d=\"M -0 99.410769  L 78.52 99.410769  L 78.52 0  L -0 0  L -0 99.410769  z \" style=\"fill: none\" />\n",
       "  </g>\n",
       "  <g id=\"axes_1\">\n",
       "   <g id=\"patch_2\">\n",
       "    <path d=\"M 78.52 39.26  C 78.52 28.851594 74.380867 18.858842 67.021012 11.498988  C 59.661158 4.139133 49.668406 0 39.26 0  C 28.851594 0 18.858842 4.139133 11.498988 11.498988  C 4.139133 18.858842 0 28.851594 0 39.26  L 39.26 39.26  L 78.52 39.26  z \" style=\"fill: #fefebb; stroke: #444443; stroke-width: 0.5; stroke-linejoin: miter\" />\n",
       "   </g>\n",
       "   <g id=\"patch_3\">\n",
       "    <path d=\"M 0 39.26  C 0 49.668406 4.139133 59.661158 11.498988 67.021012  C 18.858842 74.380867 28.851594 78.52 39.26 78.52  C 49.668406 78.52 59.661158 74.380867 67.021012 67.021012  C 74.380867 59.661158 78.52 49.668406 78.52 39.26  L 39.26 39.26  L 0 39.26  z \" style=\"fill: #a1dab4; stroke: #444443; stroke-width: 0.5; stroke-linejoin: miter\" />\n",
       "   </g>\n",
       "   <g id=\"text_1\">\n",
       "    \n",
       "    <g style=\"fill: #444443\" transform=\"translate(26.622031 88.102831)scale(0.09 -0.09)\">\n",
       "     <defs>\n",
       "      <path id=\"ArialMT-6e\" d=\"M 422 0  L 422 3319  L 928 3319  L 928 2847  Q 1294 3394 1984 3394  Q 2284 3394 2536 3286  Q 2788 3178 2913 3003  Q 3038 2828 3088 2588  Q 3119 2431 3119 2041  L 3119 0  L 2556 0  L 2556 2019  Q 2556 2363 2490 2533  Q 2425 2703 2258 2804  Q 2091 2906 1866 2906  Q 1506 2906 1245 2678  Q 984 2450 984 1813  L 984 0  L 422 0  z \" transform=\"scale(0.015625)\" />\n",
       "      <path id=\"ArialMT-3d\" d=\"M 3381 2694  L 356 2694  L 356 3219  L 3381 3219  L 3381 2694  z M 3381 1303  L 356 1303  L 356 1828  L 3381 1828  L 3381 1303  z \" transform=\"scale(0.015625)\" />\n",
       "      <path id=\"ArialMT-31\" d=\"M 2384 0  L 1822 0  L 1822 3584  Q 1619 3391 1289 3197  Q 959 3003 697 2906  L 697 3450  Q 1169 3672 1522 3987  Q 1875 4303 2022 4600  L 2384 4600  L 2384 0  z \" transform=\"scale(0.015625)\" />\n",
       "      <path id=\"ArialMT-34\" d=\"M 2069 0  L 2069 1097  L 81 1097  L 81 1613  L 2172 4581  L 2631 4581  L 2631 1613  L 3250 1613  L 3250 1097  L 2631 1097  L 2631 0  L 2069 0  z M 2069 1613  L 2069 3678  L 634 1613  L 2069 1613  z \" transform=\"scale(0.015625)\" />\n",
       "     </defs>\n",
       "     <use xlink:href=\"#ArialMT-6e\" />\n",
       "     <use xlink:href=\"#ArialMT-3d\" x=\"55.615234\" />\n",
       "     <use xlink:href=\"#ArialMT-31\" x=\"114.013672\" />\n",
       "     <use xlink:href=\"#ArialMT-34\" x=\"169.628906\" />\n",
       "     <use xlink:href=\"#ArialMT-34\" x=\"225.244141\" />\n",
       "    </g>\n",
       "    \n",
       "    <g style=\"fill: #444443\" transform=\"translate(25.255156 97.622019)scale(0.09 -0.09)\">\n",
       "     <defs>\n",
       "      <path id=\"ArialMT-63\" d=\"M 2588 1216  L 3141 1144  Q 3050 572 2676 248  Q 2303 -75 1759 -75  Q 1078 -75 664 370  Q 250 816 250 1647  Q 250 2184 428 2587  Q 606 2991 970 3192  Q 1334 3394 1763 3394  Q 2303 3394 2647 3120  Q 2991 2847 3088 2344  L 2541 2259  Q 2463 2594 2264 2762  Q 2066 2931 1784 2931  Q 1359 2931 1093 2626  Q 828 2322 828 1663  Q 828 994 1084 691  Q 1341 388 1753 388  Q 2084 388 2306 591  Q 2528 794 2588 1216  z \" transform=\"scale(0.015625)\" />\n",
       "      <path id=\"ArialMT-6c\" d=\"M 409 0  L 409 4581  L 972 4581  L 972 0  L 409 0  z \" transform=\"scale(0.015625)\" />\n",
       "      <path id=\"ArialMT-61\" d=\"M 2588 409  Q 2275 144 1986 34  Q 1697 -75 1366 -75  Q 819 -75 525 192  Q 231 459 231 875  Q 231 1119 342 1320  Q 453 1522 633 1644  Q 813 1766 1038 1828  Q 1203 1872 1538 1913  Q 2219 1994 2541 2106  Q 2544 2222 2544 2253  Q 2544 2597 2384 2738  Q 2169 2928 1744 2928  Q 1347 2928 1158 2789  Q 969 2650 878 2297  L 328 2372  Q 403 2725 575 2942  Q 747 3159 1072 3276  Q 1397 3394 1825 3394  Q 2250 3394 2515 3294  Q 2781 3194 2906 3042  Q 3031 2891 3081 2659  Q 3109 2516 3109 2141  L 3109 1391  Q 3109 606 3145 398  Q 3181 191 3288 0  L 2700 0  Q 2613 175 2588 409  z M 2541 1666  Q 2234 1541 1622 1453  Q 1275 1403 1131 1340  Q 988 1278 909 1158  Q 831 1038 831 891  Q 831 666 1001 516  Q 1172 366 1500 366  Q 1825 366 2078 508  Q 2331 650 2450 897  Q 2541 1088 2541 1459  L 2541 1666  z \" transform=\"scale(0.015625)\" />\n",
       "      <path id=\"ArialMT-73\" d=\"M 197 991  L 753 1078  Q 800 744 1014 566  Q 1228 388 1613 388  Q 2000 388 2187 545  Q 2375 703 2375 916  Q 2375 1106 2209 1216  Q 2094 1291 1634 1406  Q 1016 1563 777 1677  Q 538 1791 414 1992  Q 291 2194 291 2438  Q 291 2659 392 2848  Q 494 3038 669 3163  Q 800 3259 1026 3326  Q 1253 3394 1513 3394  Q 1903 3394 2198 3281  Q 2494 3169 2634 2976  Q 2775 2784 2828 2463  L 2278 2388  Q 2241 2644 2061 2787  Q 1881 2931 1553 2931  Q 1166 2931 1000 2803  Q 834 2675 834 2503  Q 834 2394 903 2306  Q 972 2216 1119 2156  Q 1203 2125 1616 2013  Q 2213 1853 2448 1751  Q 2684 1650 2818 1456  Q 2953 1263 2953 975  Q 2953 694 2789 445  Q 2625 197 2315 61  Q 2006 -75 1616 -75  Q 969 -75 630 194  Q 291 463 197 991  z \" transform=\"scale(0.015625)\" />\n",
       "      <path id=\"ArialMT-20\" transform=\"scale(0.015625)\" />\n",
       "      <path id=\"ArialMT-30\" d=\"M 266 2259  Q 266 3072 433 3567  Q 600 4063 929 4331  Q 1259 4600 1759 4600  Q 2128 4600 2406 4451  Q 2684 4303 2865 4023  Q 3047 3744 3150 3342  Q 3253 2941 3253 2259  Q 3253 1453 3087 958  Q 2922 463 2592 192  Q 2263 -78 1759 -78  Q 1097 -78 719 397  Q 266 969 266 2259  z M 844 2259  Q 844 1131 1108 757  Q 1372 384 1759 384  Q 2147 384 2411 759  Q 2675 1134 2675 2259  Q 2675 3391 2411 3762  Q 2147 4134 1753 4134  Q 1366 4134 1134 3806  Q 844 3388 844 2259  z \" transform=\"scale(0.015625)\" />\n",
       "     </defs>\n",
       "     <use xlink:href=\"#ArialMT-63\" />\n",
       "     <use xlink:href=\"#ArialMT-6c\" x=\"50\" />\n",
       "     <use xlink:href=\"#ArialMT-61\" x=\"72.216797\" />\n",
       "     <use xlink:href=\"#ArialMT-73\" x=\"127.832031\" />\n",
       "     <use xlink:href=\"#ArialMT-73\" x=\"177.832031\" />\n",
       "     <use xlink:href=\"#ArialMT-20\" x=\"227.832031\" />\n",
       "     <use xlink:href=\"#ArialMT-30\" x=\"255.615234\" />\n",
       "    </g>\n",
       "   </g>\n",
       "  </g>\n",
       " </g>\n",
       "</svg></g>\n",
       "\n",
       "<g id=\"edge5\" class=\"edge\">\n",
       "<title>node2-&gt;leaf6</title>\n",
       "<path fill=\"none\" stroke=\"#444443\" stroke-width=\"0.3\" d=\"M423.43,-110.68C426.61,-103.16 430.18,-94.73 433.7,-86.42\" />\n",
       "<polygon fill=\"#444443\" stroke=\"#444443\" stroke-width=\"0.3\" points=\"435.15,-86.58 435.42,-82.35 432.57,-85.49 435.15,-86.58\" />\n",
       "</g>\n",
       "\n",
       "<g id=\"node3\" class=\"node\">\n",
       "<title>node0</title>\n",
       "<svg width=\"155px\" height=\"84px\" viewBox=\"0 0 206.98625 113.330625\" version=\"1.1\" preserveAspectRatio=\"xMinYMin meet\" x=\"207.5\" y=\"-295\">\n",
       " <metadata>\n",
       "  <rdf:RDF>\n",
       "   <ns2:Work>\n",
       "    <dc:type rdf:resource=\"http://purl.org/dc/dcmitype/StillImage\" />\n",
       "    <dc:date>2022-06-06T21:13:51.818557</dc:date>\n",
       "    <dc:format>image/svg+xml</dc:format>\n",
       "    <dc:creator>\n",
       "     <ns2:Agent>\n",
       "      <dc:title>Matplotlib v3.5.2, https://matplotlib.org/</dc:title>\n",
       "     </ns2:Agent>\n",
       "    </dc:creator>\n",
       "   </ns2:Work>\n",
       "  </rdf:RDF>\n",
       " </metadata>\n",
       " <defs>\n",
       "  <style type=\"text/css\">*{stroke-linejoin: round; stroke-linecap: butt}</style>\n",
       " </defs>\n",
       " <g id=\"figure_1\">\n",
       "  <g id=\"patch_1\">\n",
       "   <path d=\"M 0 113.330625  L 206.98625 113.330625  L 206.98625 0  L 0 0  L 0 113.330625  z \" style=\"fill: none\" />\n",
       "  </g>\n",
       "  <g id=\"axes_1\">\n",
       "   <g id=\"patch_2\">\n",
       "    <path d=\"M 22.84625 81.54  L 206.98625 81.54  L 206.98625 0  L 22.84625 0  z \" style=\"fill: #eaeaf2\" />\n",
       "   </g>\n",
       "   <g id=\"matplotlib.axis_1\">\n",
       "    <g id=\"xtick_1\">\n",
       "     <g id=\"line2d_1\">\n",
       "      <path d=\"M 22.84625 81.54  L 22.84625 0  \" clip-path=\"url(#p281bef2a74)\" style=\"fill: none; stroke: #ffffff; stroke-linecap: round\" />\n",
       "     </g>\n",
       "     <g id=\"text_1\">\n",
       "      \n",
       "      <g style=\"fill: #444443\" transform=\"translate(20.621875 96.76625)scale(0.08 -0.08)\">\n",
       "       <defs>\n",
       "        <path id=\"ArialMT-30\" d=\"M 266 2259  Q 266 3072 433 3567  Q 600 4063 929 4331  Q 1259 4600 1759 4600  Q 2128 4600 2406 4451  Q 2684 4303 2865 4023  Q 3047 3744 3150 3342  Q 3253 2941 3253 2259  Q 3253 1453 3087 958  Q 2922 463 2592 192  Q 2263 -78 1759 -78  Q 1097 -78 719 397  Q 266 969 266 2259  z M 844 2259  Q 844 1131 1108 757  Q 1372 384 1759 384  Q 2147 384 2411 759  Q 2675 1134 2675 2259  Q 2675 3391 2411 3762  Q 2147 4134 1753 4134  Q 1366 4134 1134 3806  Q 844 3388 844 2259  z \" transform=\"scale(0.015625)\" />\n",
       "       </defs>\n",
       "       <use xlink:href=\"#ArialMT-30\" />\n",
       "      </g>\n",
       "     </g>\n",
       "    </g>\n",
       "    <g id=\"xtick_2\">\n",
       "     <g id=\"line2d_2\">\n",
       "      <path d=\"M 198.217679 81.54  L 198.217679 0  \" clip-path=\"url(#p281bef2a74)\" style=\"fill: none; stroke: #ffffff; stroke-linecap: round\" />\n",
       "     </g>\n",
       "     <g id=\"text_2\">\n",
       "      \n",
       "      <g style=\"fill: #444443\" transform=\"translate(195.993304 96.76625)scale(0.08 -0.08)\">\n",
       "       <defs>\n",
       "        <path id=\"ArialMT-36\" d=\"M 3184 3459  L 2625 3416  Q 2550 3747 2413 3897  Q 2184 4138 1850 4138  Q 1581 4138 1378 3988  Q 1113 3794 959 3422  Q 806 3050 800 2363  Q 1003 2672 1297 2822  Q 1591 2972 1913 2972  Q 2475 2972 2870 2558  Q 3266 2144 3266 1488  Q 3266 1056 3080 686  Q 2894 316 2569 119  Q 2244 -78 1831 -78  Q 1128 -78 684 439  Q 241 956 241 2144  Q 241 3472 731 4075  Q 1159 4600 1884 4600  Q 2425 4600 2770 4297  Q 3116 3994 3184 3459  z M 888 1484  Q 888 1194 1011 928  Q 1134 663 1356 523  Q 1578 384 1822 384  Q 2178 384 2434 671  Q 2691 959 2691 1453  Q 2691 1928 2437 2201  Q 2184 2475 1800 2475  Q 1419 2475 1153 2201  Q 888 1928 888 1484  z \" transform=\"scale(0.015625)\" />\n",
       "       </defs>\n",
       "       <use xlink:href=\"#ArialMT-36\" />\n",
       "      </g>\n",
       "     </g>\n",
       "    </g>\n",
       "    <g id=\"text_3\">\n",
       "     \n",
       "     <g style=\"fill: #444443\" transform=\"translate(99.243125 110.945625)scale(0.12 -0.12)\">\n",
       "      <defs>\n",
       "       <path id=\"ArialMT-50\" d=\"M 494 0  L 494 4581  L 2222 4581  Q 2678 4581 2919 4538  Q 3256 4481 3484 4323  Q 3713 4166 3852 3881  Q 3991 3597 3991 3256  Q 3991 2672 3619 2267  Q 3247 1863 2275 1863  L 1100 1863  L 1100 0  L 494 0  z M 1100 2403  L 2284 2403  Q 2872 2403 3119 2622  Q 3366 2841 3366 3238  Q 3366 3525 3220 3729  Q 3075 3934 2838 4000  Q 2684 4041 2272 4041  L 1100 4041  L 1100 2403  z \" transform=\"scale(0.015625)\" />\n",
       "       <path id=\"ArialMT-61\" d=\"M 2588 409  Q 2275 144 1986 34  Q 1697 -75 1366 -75  Q 819 -75 525 192  Q 231 459 231 875  Q 231 1119 342 1320  Q 453 1522 633 1644  Q 813 1766 1038 1828  Q 1203 1872 1538 1913  Q 2219 1994 2541 2106  Q 2544 2222 2544 2253  Q 2544 2597 2384 2738  Q 2169 2928 1744 2928  Q 1347 2928 1158 2789  Q 969 2650 878 2297  L 328 2372  Q 403 2725 575 2942  Q 747 3159 1072 3276  Q 1397 3394 1825 3394  Q 2250 3394 2515 3294  Q 2781 3194 2906 3042  Q 3031 2891 3081 2659  Q 3109 2516 3109 2141  L 3109 1391  Q 3109 606 3145 398  Q 3181 191 3288 0  L 2700 0  Q 2613 175 2588 409  z M 2541 1666  Q 2234 1541 1622 1453  Q 1275 1403 1131 1340  Q 988 1278 909 1158  Q 831 1038 831 891  Q 831 666 1001 516  Q 1172 366 1500 366  Q 1825 366 2078 508  Q 2331 650 2450 897  Q 2541 1088 2541 1459  L 2541 1666  z \" transform=\"scale(0.015625)\" />\n",
       "       <path id=\"ArialMT-72\" d=\"M 416 0  L 416 3319  L 922 3319  L 922 2816  Q 1116 3169 1280 3281  Q 1444 3394 1641 3394  Q 1925 3394 2219 3213  L 2025 2691  Q 1819 2813 1613 2813  Q 1428 2813 1281 2702  Q 1134 2591 1072 2394  Q 978 2094 978 1738  L 978 0  L 416 0  z \" transform=\"scale(0.015625)\" />\n",
       "       <path id=\"ArialMT-63\" d=\"M 2588 1216  L 3141 1144  Q 3050 572 2676 248  Q 2303 -75 1759 -75  Q 1078 -75 664 370  Q 250 816 250 1647  Q 250 2184 428 2587  Q 606 2991 970 3192  Q 1334 3394 1763 3394  Q 2303 3394 2647 3120  Q 2991 2847 3088 2344  L 2541 2259  Q 2463 2594 2264 2762  Q 2066 2931 1784 2931  Q 1359 2931 1093 2626  Q 828 2322 828 1663  Q 828 994 1084 691  Q 1341 388 1753 388  Q 2084 388 2306 591  Q 2528 794 2588 1216  z \" transform=\"scale(0.015625)\" />\n",
       "       <path id=\"ArialMT-68\" d=\"M 422 0  L 422 4581  L 984 4581  L 984 2938  Q 1378 3394 1978 3394  Q 2347 3394 2619 3248  Q 2891 3103 3008 2847  Q 3125 2591 3125 2103  L 3125 0  L 2563 0  L 2563 2103  Q 2563 2525 2380 2717  Q 2197 2909 1863 2909  Q 1613 2909 1392 2779  Q 1172 2650 1078 2428  Q 984 2206 984 1816  L 984 0  L 422 0  z \" transform=\"scale(0.015625)\" />\n",
       "      </defs>\n",
       "      <use xlink:href=\"#ArialMT-50\" />\n",
       "      <use xlink:href=\"#ArialMT-61\" x=\"66.699219\" />\n",
       "      <use xlink:href=\"#ArialMT-72\" x=\"122.314453\" />\n",
       "      <use xlink:href=\"#ArialMT-63\" x=\"155.615234\" />\n",
       "      <use xlink:href=\"#ArialMT-68\" x=\"205.615234\" />\n",
       "     </g>\n",
       "    </g>\n",
       "   </g>\n",
       "   <g id=\"matplotlib.axis_2\">\n",
       "    <g id=\"ytick_1\">\n",
       "     <g id=\"line2d_3\">\n",
       "      <path d=\"M 22.84625 81.54  L 206.98625 81.54  \" clip-path=\"url(#p281bef2a74)\" style=\"fill: none; stroke: #ffffff; stroke-linecap: round\" />\n",
       "     </g>\n",
       "     <g id=\"text_4\">\n",
       "      \n",
       "      <g style=\"fill: #444443\" transform=\"translate(8.8975 84.403125)scale(0.08 -0.08)\">\n",
       "       <use xlink:href=\"#ArialMT-30\" />\n",
       "      </g>\n",
       "     </g>\n",
       "    </g>\n",
       "    <g id=\"ytick_2\">\n",
       "     <g id=\"line2d_4\">\n",
       "      <path d=\"M 22.84625 3.882857  L 206.98625 3.882857  \" clip-path=\"url(#p281bef2a74)\" style=\"fill: none; stroke: #ffffff; stroke-linecap: round\" />\n",
       "     </g>\n",
       "     <g id=\"text_5\">\n",
       "      \n",
       "      <g style=\"fill: #444443\" transform=\"translate(0 6.745982)scale(0.08 -0.08)\">\n",
       "       <defs>\n",
       "        <path id=\"ArialMT-37\" d=\"M 303 3981  L 303 4522  L 3269 4522  L 3269 4084  Q 2831 3619 2401 2847  Q 1972 2075 1738 1259  Q 1569 684 1522 0  L 944 0  Q 953 541 1156 1306  Q 1359 2072 1739 2783  Q 2119 3494 2547 3981  L 303 3981  z \" transform=\"scale(0.015625)\" />\n",
       "        <path id=\"ArialMT-38\" d=\"M 1131 2484  Q 781 2613 612 2850  Q 444 3088 444 3419  Q 444 3919 803 4259  Q 1163 4600 1759 4600  Q 2359 4600 2725 4251  Q 3091 3903 3091 3403  Q 3091 3084 2923 2848  Q 2756 2613 2416 2484  Q 2838 2347 3058 2040  Q 3278 1734 3278 1309  Q 3278 722 2862 322  Q 2447 -78 1769 -78  Q 1091 -78 675 323  Q 259 725 259 1325  Q 259 1772 486 2073  Q 713 2375 1131 2484  z M 1019 3438  Q 1019 3113 1228 2906  Q 1438 2700 1772 2700  Q 2097 2700 2305 2904  Q 2513 3109 2513 3406  Q 2513 3716 2298 3927  Q 2084 4138 1766 4138  Q 1444 4138 1231 3931  Q 1019 3725 1019 3438  z M 838 1322  Q 838 1081 952 856  Q 1066 631 1291 507  Q 1516 384 1775 384  Q 2178 384 2440 643  Q 2703 903 2703 1303  Q 2703 1709 2433 1975  Q 2163 2241 1756 2241  Q 1359 2241 1098 1978  Q 838 1716 838 1322  z \" transform=\"scale(0.015625)\" />\n",
       "       </defs>\n",
       "       <use xlink:href=\"#ArialMT-36\" />\n",
       "       <use xlink:href=\"#ArialMT-37\" x=\"55.615234\" />\n",
       "       <use xlink:href=\"#ArialMT-38\" x=\"111.230469\" />\n",
       "      </g>\n",
       "     </g>\n",
       "    </g>\n",
       "   </g>\n",
       "   <g id=\"patch_3\">\n",
       "    <path d=\"M 22.84625 81.54  L 32.076325 81.54  L 32.076325 30.570341  L 22.84625 30.570341  z \" clip-path=\"url(#p281bef2a74)\" style=\"fill: #fefebb; stroke: #444443; stroke-width: 0.5; stroke-linejoin: miter\" />\n",
       "   </g>\n",
       "   <g id=\"patch_4\">\n",
       "    <path d=\"M 32.076325 81.54  L 41.3064 81.54  L 41.3064 81.54  L 32.076325 81.54  z \" clip-path=\"url(#p281bef2a74)\" style=\"fill: #fefebb; stroke: #444443; stroke-width: 0.5; stroke-linejoin: miter\" />\n",
       "   </g>\n",
       "   <g id=\"patch_5\">\n",
       "    <path d=\"M 41.3064 81.54  L 50.536476 81.54  L 50.536476 81.54  L 41.3064 81.54  z \" clip-path=\"url(#p281bef2a74)\" style=\"fill: #fefebb; stroke: #444443; stroke-width: 0.5; stroke-linejoin: miter\" />\n",
       "   </g>\n",
       "   <g id=\"patch_6\">\n",
       "    <path d=\"M 50.536476 81.54  L 59.766551 81.54  L 59.766551 75.469456  L 50.536476 75.469456  z \" clip-path=\"url(#p281bef2a74)\" style=\"fill: #fefebb; stroke: #444443; stroke-width: 0.5; stroke-linejoin: miter\" />\n",
       "   </g>\n",
       "   <g id=\"patch_7\">\n",
       "    <path d=\"M 59.766551 81.54  L 68.996626 81.54  L 68.996626 81.54  L 59.766551 81.54  z \" clip-path=\"url(#p281bef2a74)\" style=\"fill: #fefebb; stroke: #444443; stroke-width: 0.5; stroke-linejoin: miter\" />\n",
       "   </g>\n",
       "   <g id=\"patch_8\">\n",
       "    <path d=\"M 68.996626 81.54  L 78.226701 81.54  L 78.226701 81.54  L 68.996626 81.54  z \" clip-path=\"url(#p281bef2a74)\" style=\"fill: #fefebb; stroke: #444443; stroke-width: 0.5; stroke-linejoin: miter\" />\n",
       "   </g>\n",
       "   <g id=\"patch_9\">\n",
       "    <path d=\"M 78.226701 81.54  L 87.456776 81.54  L 87.456776 76.958458  L 78.226701 76.958458  z \" clip-path=\"url(#p281bef2a74)\" style=\"fill: #fefebb; stroke: #444443; stroke-width: 0.5; stroke-linejoin: miter\" />\n",
       "   </g>\n",
       "   <g id=\"patch_10\">\n",
       "    <path d=\"M 87.456776 81.54  L 96.686852 81.54  L 96.686852 81.54  L 87.456776 81.54  z \" clip-path=\"url(#p281bef2a74)\" style=\"fill: #fefebb; stroke: #444443; stroke-width: 0.5; stroke-linejoin: miter\" />\n",
       "   </g>\n",
       "   <g id=\"patch_11\">\n",
       "    <path d=\"M 96.686852 81.54  L 105.916927 81.54  L 105.916927 81.54  L 96.686852 81.54  z \" clip-path=\"url(#p281bef2a74)\" style=\"fill: #fefebb; stroke: #444443; stroke-width: 0.5; stroke-linejoin: miter\" />\n",
       "   </g>\n",
       "   <g id=\"patch_12\">\n",
       "    <path d=\"M 105.916927 81.54  L 115.147002 81.54  L 115.147002 81.310923  L 105.916927 81.310923  z \" clip-path=\"url(#p281bef2a74)\" style=\"fill: #fefebb; stroke: #444443; stroke-width: 0.5; stroke-linejoin: miter\" />\n",
       "   </g>\n",
       "   <g id=\"patch_13\">\n",
       "    <path d=\"M 115.147002 81.54  L 124.377077 81.54  L 124.377077 81.54  L 115.147002 81.54  z \" clip-path=\"url(#p281bef2a74)\" style=\"fill: #fefebb; stroke: #444443; stroke-width: 0.5; stroke-linejoin: miter\" />\n",
       "   </g>\n",
       "   <g id=\"patch_14\">\n",
       "    <path d=\"M 124.377077 81.54  L 133.607152 81.54  L 133.607152 81.54  L 124.377077 81.54  z \" clip-path=\"url(#p281bef2a74)\" style=\"fill: #fefebb; stroke: #444443; stroke-width: 0.5; stroke-linejoin: miter\" />\n",
       "   </g>\n",
       "   <g id=\"patch_15\">\n",
       "    <path d=\"M 133.607152 81.54  L 142.837227 81.54  L 142.837227 81.081846  L 133.607152 81.081846  z \" clip-path=\"url(#p281bef2a74)\" style=\"fill: #fefebb; stroke: #444443; stroke-width: 0.5; stroke-linejoin: miter\" />\n",
       "   </g>\n",
       "   <g id=\"patch_16\">\n",
       "    <path d=\"M 142.837227 81.54  L 152.067303 81.54  L 152.067303 81.54  L 142.837227 81.54  z \" clip-path=\"url(#p281bef2a74)\" style=\"fill: #fefebb; stroke: #444443; stroke-width: 0.5; stroke-linejoin: miter\" />\n",
       "   </g>\n",
       "   <g id=\"patch_17\">\n",
       "    <path d=\"M 152.067303 81.54  L 161.297378 81.54  L 161.297378 81.54  L 152.067303 81.54  z \" clip-path=\"url(#p281bef2a74)\" style=\"fill: #fefebb; stroke: #444443; stroke-width: 0.5; stroke-linejoin: miter\" />\n",
       "   </g>\n",
       "   <g id=\"patch_18\">\n",
       "    <path d=\"M 161.297378 81.54  L 170.527453 81.54  L 170.527453 81.081846  L 161.297378 81.081846  z \" clip-path=\"url(#p281bef2a74)\" style=\"fill: #fefebb; stroke: #444443; stroke-width: 0.5; stroke-linejoin: miter\" />\n",
       "   </g>\n",
       "   <g id=\"patch_19\">\n",
       "    <path d=\"M 170.527453 81.54  L 179.757528 81.54  L 179.757528 81.54  L 170.527453 81.54  z \" clip-path=\"url(#p281bef2a74)\" style=\"fill: #fefebb; stroke: #444443; stroke-width: 0.5; stroke-linejoin: miter\" />\n",
       "   </g>\n",
       "   <g id=\"patch_20\">\n",
       "    <path d=\"M 179.757528 81.54  L 188.987603 81.54  L 188.987603 81.54  L 179.757528 81.54  z \" clip-path=\"url(#p281bef2a74)\" style=\"fill: #fefebb; stroke: #444443; stroke-width: 0.5; stroke-linejoin: miter\" />\n",
       "   </g>\n",
       "   <g id=\"patch_21\">\n",
       "    <path d=\"M 188.987603 81.54  L 198.217679 81.54  L 198.217679 81.425461  L 188.987603 81.425461  z \" clip-path=\"url(#p281bef2a74)\" style=\"fill: #fefebb; stroke: #444443; stroke-width: 0.5; stroke-linejoin: miter\" />\n",
       "   </g>\n",
       "   <g id=\"patch_22\">\n",
       "    <path d=\"M 22.84625 30.570341  L 32.076325 30.570341  L 32.076325 3.882857  L 22.84625 3.882857  z \" clip-path=\"url(#p281bef2a74)\" style=\"fill: #a1dab4; stroke: #444443; stroke-width: 0.5; stroke-linejoin: miter\" />\n",
       "   </g>\n",
       "   <g id=\"patch_23\">\n",
       "    <path d=\"M 32.076325 81.54  L 41.3064 81.54  L 41.3064 81.54  L 32.076325 81.54  z \" clip-path=\"url(#p281bef2a74)\" style=\"fill: #a1dab4; stroke: #444443; stroke-width: 0.5; stroke-linejoin: miter\" />\n",
       "   </g>\n",
       "   <g id=\"patch_24\">\n",
       "    <path d=\"M 41.3064 81.54  L 50.536476 81.54  L 50.536476 81.54  L 41.3064 81.54  z \" clip-path=\"url(#p281bef2a74)\" style=\"fill: #a1dab4; stroke: #444443; stroke-width: 0.5; stroke-linejoin: miter\" />\n",
       "   </g>\n",
       "   <g id=\"patch_25\">\n",
       "    <path d=\"M 50.536476 75.469456  L 59.766551 75.469456  L 59.766551 68.02445  L 50.536476 68.02445  z \" clip-path=\"url(#p281bef2a74)\" style=\"fill: #a1dab4; stroke: #444443; stroke-width: 0.5; stroke-linejoin: miter\" />\n",
       "   </g>\n",
       "   <g id=\"patch_26\">\n",
       "    <path d=\"M 59.766551 81.54  L 68.996626 81.54  L 68.996626 81.54  L 59.766551 81.54  z \" clip-path=\"url(#p281bef2a74)\" style=\"fill: #a1dab4; stroke: #444443; stroke-width: 0.5; stroke-linejoin: miter\" />\n",
       "   </g>\n",
       "   <g id=\"patch_27\">\n",
       "    <path d=\"M 68.996626 81.54  L 78.226701 81.54  L 78.226701 81.54  L 68.996626 81.54  z \" clip-path=\"url(#p281bef2a74)\" style=\"fill: #a1dab4; stroke: #444443; stroke-width: 0.5; stroke-linejoin: miter\" />\n",
       "   </g>\n",
       "   <g id=\"patch_28\">\n",
       "    <path d=\"M 78.226701 76.958458  L 87.456776 76.958458  L 87.456776 72.376915  L 78.226701 72.376915  z \" clip-path=\"url(#p281bef2a74)\" style=\"fill: #a1dab4; stroke: #444443; stroke-width: 0.5; stroke-linejoin: miter\" />\n",
       "   </g>\n",
       "   <g id=\"patch_29\">\n",
       "    <path d=\"M 87.456776 81.54  L 96.686852 81.54  L 96.686852 81.54  L 87.456776 81.54  z \" clip-path=\"url(#p281bef2a74)\" style=\"fill: #a1dab4; stroke: #444443; stroke-width: 0.5; stroke-linejoin: miter\" />\n",
       "   </g>\n",
       "   <g id=\"patch_30\">\n",
       "    <path d=\"M 96.686852 81.54  L 105.916927 81.54  L 105.916927 81.54  L 96.686852 81.54  z \" clip-path=\"url(#p281bef2a74)\" style=\"fill: #a1dab4; stroke: #444443; stroke-width: 0.5; stroke-linejoin: miter\" />\n",
       "   </g>\n",
       "   <g id=\"patch_31\">\n",
       "    <path d=\"M 105.916927 81.310923  L 115.147002 81.310923  L 115.147002 80.967307  L 105.916927 80.967307  z \" clip-path=\"url(#p281bef2a74)\" style=\"fill: #a1dab4; stroke: #444443; stroke-width: 0.5; stroke-linejoin: miter\" />\n",
       "   </g>\n",
       "   <g id=\"patch_32\">\n",
       "    <path d=\"M 115.147002 81.54  L 124.377077 81.54  L 124.377077 81.54  L 115.147002 81.54  z \" clip-path=\"url(#p281bef2a74)\" style=\"fill: #a1dab4; stroke: #444443; stroke-width: 0.5; stroke-linejoin: miter\" />\n",
       "   </g>\n",
       "   <g id=\"patch_33\">\n",
       "    <path d=\"M 124.377077 81.54  L 133.607152 81.54  L 133.607152 81.54  L 124.377077 81.54  z \" clip-path=\"url(#p281bef2a74)\" style=\"fill: #a1dab4; stroke: #444443; stroke-width: 0.5; stroke-linejoin: miter\" />\n",
       "   </g>\n",
       "   <g id=\"patch_34\">\n",
       "    <path d=\"M 133.607152 81.081846  L 142.837227 81.081846  L 142.837227 81.081846  L 133.607152 81.081846  z \" clip-path=\"url(#p281bef2a74)\" style=\"fill: #a1dab4; stroke: #444443; stroke-width: 0.5; stroke-linejoin: miter\" />\n",
       "   </g>\n",
       "   <g id=\"patch_35\">\n",
       "    <path d=\"M 142.837227 81.54  L 152.067303 81.54  L 152.067303 81.54  L 142.837227 81.54  z \" clip-path=\"url(#p281bef2a74)\" style=\"fill: #a1dab4; stroke: #444443; stroke-width: 0.5; stroke-linejoin: miter\" />\n",
       "   </g>\n",
       "   <g id=\"patch_36\">\n",
       "    <path d=\"M 152.067303 81.54  L 161.297378 81.54  L 161.297378 81.54  L 152.067303 81.54  z \" clip-path=\"url(#p281bef2a74)\" style=\"fill: #a1dab4; stroke: #444443; stroke-width: 0.5; stroke-linejoin: miter\" />\n",
       "   </g>\n",
       "   <g id=\"patch_37\">\n",
       "    <path d=\"M 161.297378 81.081846  L 170.527453 81.081846  L 170.527453 80.967307  L 161.297378 80.967307  z \" clip-path=\"url(#p281bef2a74)\" style=\"fill: #a1dab4; stroke: #444443; stroke-width: 0.5; stroke-linejoin: miter\" />\n",
       "   </g>\n",
       "   <g id=\"patch_38\">\n",
       "    <path d=\"M 170.527453 81.54  L 179.757528 81.54  L 179.757528 81.54  L 170.527453 81.54  z \" clip-path=\"url(#p281bef2a74)\" style=\"fill: #a1dab4; stroke: #444443; stroke-width: 0.5; stroke-linejoin: miter\" />\n",
       "   </g>\n",
       "   <g id=\"patch_39\">\n",
       "    <path d=\"M 179.757528 81.54  L 188.987603 81.54  L 188.987603 81.54  L 179.757528 81.54  z \" clip-path=\"url(#p281bef2a74)\" style=\"fill: #a1dab4; stroke: #444443; stroke-width: 0.5; stroke-linejoin: miter\" />\n",
       "   </g>\n",
       "   <g id=\"patch_40\">\n",
       "    <path d=\"M 188.987603 81.425461  L 198.217679 81.425461  L 198.217679 81.425461  L 188.987603 81.425461  z \" clip-path=\"url(#p281bef2a74)\" style=\"fill: #a1dab4; stroke: #444443; stroke-width: 0.5; stroke-linejoin: miter\" />\n",
       "   </g>\n",
       "   <g id=\"patch_41\">\n",
       "    <path d=\"M 37.460536 82.3554  L 34.146016 89.694  L 40.775056 89.694  z \" style=\"fill: #444443; stroke: #ffffff; stroke-linejoin: miter\" />\n",
       "   </g>\n",
       "   <g id=\"patch_42\">\n",
       "    <path d=\"M 22.84625 81.54  L 22.84625 0  \" style=\"fill: none; stroke: #ffffff; stroke-width: 0.3; stroke-linejoin: miter; stroke-linecap: square\" />\n",
       "   </g>\n",
       "   <g id=\"patch_43\">\n",
       "    <path d=\"M 22.84625 81.54  L 206.98625 81.54  \" style=\"fill: none; stroke: #ffffff; stroke-width: 0.3; stroke-linejoin: miter; stroke-linecap: square\" />\n",
       "   </g>\n",
       "   <g id=\"text_6\">\n",
       "    \n",
       "    <g style=\"fill: #444443\" transform=\"translate(29.676161 97.848)scale(0.08 -0.08)\">\n",
       "     <defs>\n",
       "      <path id=\"ArialMT-2e\" d=\"M 581 0  L 581 641  L 1222 641  L 1222 0  L 581 0  z \" transform=\"scale(0.015625)\" />\n",
       "      <path id=\"ArialMT-35\" d=\"M 266 1200  L 856 1250  Q 922 819 1161 601  Q 1400 384 1738 384  Q 2144 384 2425 690  Q 2706 997 2706 1503  Q 2706 1984 2436 2262  Q 2166 2541 1728 2541  Q 1456 2541 1237 2417  Q 1019 2294 894 2097  L 366 2166  L 809 4519  L 3088 4519  L 3088 3981  L 1259 3981  L 1013 2750  Q 1425 3038 1878 3038  Q 2478 3038 2890 2622  Q 3303 2206 3303 1553  Q 3303 931 2941 478  Q 2500 -78 1738 -78  Q 1113 -78 717 272  Q 322 622 266 1200  z \" transform=\"scale(0.015625)\" />\n",
       "     </defs>\n",
       "     <use xlink:href=\"#ArialMT-30\" />\n",
       "     <use xlink:href=\"#ArialMT-2e\" x=\"55.615234\" />\n",
       "     <use xlink:href=\"#ArialMT-35\" x=\"83.398438\" />\n",
       "     <use xlink:href=\"#ArialMT-30\" x=\"139.013672\" />\n",
       "    </g>\n",
       "   </g>\n",
       "  </g>\n",
       " </g>\n",
       " <defs>\n",
       "  <clipPath id=\"p281bef2a74\">\n",
       "   <rect x=\"22.84625\" y=\"0\" width=\"184.14\" height=\"81.54\" />\n",
       "  </clipPath>\n",
       " </defs>\n",
       "</svg></g>\n",
       "\n",
       "<g id=\"edge7\" class=\"edge\">\n",
       "<title>node0-&gt;node1</title>\n",
       "<path fill=\"none\" stroke=\"#444443\" stroke-width=\"0.3\" d=\"M234.34,-206.82C224.14,-197.63 213.47,-188.02 203.47,-179\" />\n",
       "<polygon fill=\"#444443\" stroke=\"#444443\" stroke-width=\"0.3\" points=\"204.29,-177.86 200.38,-176.23 202.42,-179.94 204.29,-177.86\" />\n",
       "<text text-anchor=\"start\" x=\"225.5\" y=\"-187.8\" font-family=\"Times New Roman,serif\" font-size=\"14.00\">&lt;</text>\n",
       "</g>\n",
       "\n",
       "<g id=\"edge8\" class=\"edge\">\n",
       "<title>node0-&gt;node2</title>\n",
       "<path fill=\"none\" stroke=\"#444443\" stroke-width=\"0.3\" d=\"M335.46,-206.82C350.62,-193.37 366.81,-179.01 380.41,-166.95\" />\n",
       "<polygon fill=\"#444443\" stroke=\"#444443\" stroke-width=\"0.3\" points=\"381.39,-167.96 383.45,-164.26 379.53,-165.86 381.39,-167.96\" />\n",
       "<text text-anchor=\"start\" x=\"360.5\" y=\"-187.8\" font-family=\"Times New Roman,serif\" font-size=\"14.00\">&#8805;</text>\n",
       "</g>\n",
       "\n",
       "\n",
       "\n",
       "<g id=\"node8\" class=\"node\">\n",
       "<title>legend</title>\n",
       "<polygon fill=\"none\" stroke=\"black\" stroke-width=\"0\" points=\"433.5,-276 373.5,-276 373.5,-230 433.5,-230 433.5,-276\" />\n",
       "<svg width=\"56px\" height=\"42px\" viewBox=\"0 0 74.571875 57.2375\" version=\"1.1\" preserveAspectRatio=\"xMinYMin meet\" x=\"375.5\" y=\"-274\">\n",
       " <metadata>\n",
       "  <rdf:RDF>\n",
       "   <ns2:Work>\n",
       "    <dc:type rdf:resource=\"http://purl.org/dc/dcmitype/StillImage\" />\n",
       "    <dc:date>2022-06-06T21:13:51.145083</dc:date>\n",
       "    <dc:format>image/svg+xml</dc:format>\n",
       "    <dc:creator>\n",
       "     <ns2:Agent>\n",
       "      <dc:title>Matplotlib v3.5.2, https://matplotlib.org/</dc:title>\n",
       "     </ns2:Agent>\n",
       "    </dc:creator>\n",
       "   </ns2:Work>\n",
       "  </rdf:RDF>\n",
       " </metadata>\n",
       " <defs>\n",
       "  <style type=\"text/css\">*{stroke-linejoin: round; stroke-linecap: butt}</style>\n",
       " </defs>\n",
       " <g id=\"figure_1\">\n",
       "  <g id=\"patch_1\">\n",
       "   <path d=\"M 0 57.2375  L 74.571875 57.2375  L 74.571875 0  L 0 0  L 0 57.2375  z \" style=\"fill: none\" />\n",
       "  </g>\n",
       "  <g id=\"axes_1\">\n",
       "   <g id=\"legend_1\">\n",
       "    <g id=\"patch_2\">\n",
       "     <path d=\"M 2.2 57.2375  L 72.371875 57.2375  Q 74.571875 57.2375 74.571875 55.0375  L 74.571875 2.2  Q 74.571875 0 72.371875 0  L 2.2 0  Q -0 0 -0 2.2  L -0 55.0375  Q -0 57.2375 2.2 57.2375  z \" style=\"fill: #eaeaf2; opacity: 0.8; stroke: #444443; stroke-width: 0.5; stroke-linejoin: miter\" />\n",
       "    </g>\n",
       "    <g id=\"text_1\">\n",
       "     \n",
       "     <g style=\"fill: #444443\" transform=\"translate(34.505469 15.957812)scale(0.1 -0.1)\">\n",
       "      <defs>\n",
       "       <path id=\"Arial-BoldMT-79\" d=\"M 44 3319  L 978 3319  L 1772 963  L 2547 3319  L 3456 3319  L 2284 125  L 2075 -453  Q 1959 -744 1854 -897  Q 1750 -1050 1614 -1145  Q 1478 -1241 1279 -1294  Q 1081 -1347 831 -1347  Q 578 -1347 334 -1294  L 256 -606  Q 463 -647 628 -647  Q 934 -647 1081 -467  Q 1228 -288 1306 -9  L 44 3319  z \" transform=\"scale(0.015625)\" />\n",
       "      </defs>\n",
       "      <use xlink:href=\"#Arial-BoldMT-79\" />\n",
       "     </g>\n",
       "    </g>\n",
       "    <g id=\"patch_3\">\n",
       "     <path d=\"M 8.8 31.2625  L 30.8 31.2625  L 30.8 23.5625  L 8.8 23.5625  z \" style=\"fill: #fefebb; stroke: #444443; stroke-width: 0.4; stroke-linejoin: miter\" />\n",
       "    </g>\n",
       "    <g id=\"text_2\">\n",
       "     \n",
       "     <g style=\"fill: #444443\" transform=\"translate(34.65 31.2625)scale(0.1 -0.1)\">\n",
       "      <defs>\n",
       "       <path id=\"ArialMT-63\" d=\"M 2588 1216  L 3141 1144  Q 3050 572 2676 248  Q 2303 -75 1759 -75  Q 1078 -75 664 370  Q 250 816 250 1647  Q 250 2184 428 2587  Q 606 2991 970 3192  Q 1334 3394 1763 3394  Q 2303 3394 2647 3120  Q 2991 2847 3088 2344  L 2541 2259  Q 2463 2594 2264 2762  Q 2066 2931 1784 2931  Q 1359 2931 1093 2626  Q 828 2322 828 1663  Q 828 994 1084 691  Q 1341 388 1753 388  Q 2084 388 2306 591  Q 2528 794 2588 1216  z \" transform=\"scale(0.015625)\" />\n",
       "       <path id=\"ArialMT-6c\" d=\"M 409 0  L 409 4581  L 972 4581  L 972 0  L 409 0  z \" transform=\"scale(0.015625)\" />\n",
       "       <path id=\"ArialMT-61\" d=\"M 2588 409  Q 2275 144 1986 34  Q 1697 -75 1366 -75  Q 819 -75 525 192  Q 231 459 231 875  Q 231 1119 342 1320  Q 453 1522 633 1644  Q 813 1766 1038 1828  Q 1203 1872 1538 1913  Q 2219 1994 2541 2106  Q 2544 2222 2544 2253  Q 2544 2597 2384 2738  Q 2169 2928 1744 2928  Q 1347 2928 1158 2789  Q 969 2650 878 2297  L 328 2372  Q 403 2725 575 2942  Q 747 3159 1072 3276  Q 1397 3394 1825 3394  Q 2250 3394 2515 3294  Q 2781 3194 2906 3042  Q 3031 2891 3081 2659  Q 3109 2516 3109 2141  L 3109 1391  Q 3109 606 3145 398  Q 3181 191 3288 0  L 2700 0  Q 2613 175 2588 409  z M 2541 1666  Q 2234 1541 1622 1453  Q 1275 1403 1131 1340  Q 988 1278 909 1158  Q 831 1038 831 891  Q 831 666 1001 516  Q 1172 366 1500 366  Q 1825 366 2078 508  Q 2331 650 2450 897  Q 2541 1088 2541 1459  L 2541 1666  z \" transform=\"scale(0.015625)\" />\n",
       "       <path id=\"ArialMT-73\" d=\"M 197 991  L 753 1078  Q 800 744 1014 566  Q 1228 388 1613 388  Q 2000 388 2187 545  Q 2375 703 2375 916  Q 2375 1106 2209 1216  Q 2094 1291 1634 1406  Q 1016 1563 777 1677  Q 538 1791 414 1992  Q 291 2194 291 2438  Q 291 2659 392 2848  Q 494 3038 669 3163  Q 800 3259 1026 3326  Q 1253 3394 1513 3394  Q 1903 3394 2198 3281  Q 2494 3169 2634 2976  Q 2775 2784 2828 2463  L 2278 2388  Q 2241 2644 2061 2787  Q 1881 2931 1553 2931  Q 1166 2931 1000 2803  Q 834 2675 834 2503  Q 834 2394 903 2306  Q 972 2216 1119 2156  Q 1203 2125 1616 2013  Q 2213 1853 2448 1751  Q 2684 1650 2818 1456  Q 2953 1263 2953 975  Q 2953 694 2789 445  Q 2625 197 2315 61  Q 2006 -75 1616 -75  Q 969 -75 630 194  Q 291 463 197 991  z \" transform=\"scale(0.015625)\" />\n",
       "       <path id=\"ArialMT-20\" transform=\"scale(0.015625)\" />\n",
       "       <path id=\"ArialMT-30\" d=\"M 266 2259  Q 266 3072 433 3567  Q 600 4063 929 4331  Q 1259 4600 1759 4600  Q 2128 4600 2406 4451  Q 2684 4303 2865 4023  Q 3047 3744 3150 3342  Q 3253 2941 3253 2259  Q 3253 1453 3087 958  Q 2922 463 2592 192  Q 2263 -78 1759 -78  Q 1097 -78 719 397  Q 266 969 266 2259  z M 844 2259  Q 844 1131 1108 757  Q 1372 384 1759 384  Q 2147 384 2411 759  Q 2675 1134 2675 2259  Q 2675 3391 2411 3762  Q 2147 4134 1753 4134  Q 1366 4134 1134 3806  Q 844 3388 844 2259  z \" transform=\"scale(0.015625)\" />\n",
       "      </defs>\n",
       "      <use xlink:href=\"#ArialMT-63\" />\n",
       "      <use xlink:href=\"#ArialMT-6c\" x=\"50\" />\n",
       "      <use xlink:href=\"#ArialMT-61\" x=\"72.216797\" />\n",
       "      <use xlink:href=\"#ArialMT-73\" x=\"127.832031\" />\n",
       "      <use xlink:href=\"#ArialMT-73\" x=\"177.832031\" />\n",
       "      <use xlink:href=\"#ArialMT-20\" x=\"227.832031\" />\n",
       "      <use xlink:href=\"#ArialMT-30\" x=\"255.615234\" />\n",
       "     </g>\n",
       "    </g>\n",
       "    <g id=\"patch_4\">\n",
       "     <path d=\"M 8.8 46.45  L 30.8 46.45  L 30.8 38.75  L 8.8 38.75  z \" style=\"fill: #a1dab4; stroke: #444443; stroke-width: 0.4; stroke-linejoin: miter\" />\n",
       "    </g>\n",
       "    <g id=\"text_3\">\n",
       "     \n",
       "     <g style=\"fill: #444443\" transform=\"translate(34.65 46.45)scale(0.1 -0.1)\">\n",
       "      <defs>\n",
       "       <path id=\"ArialMT-31\" d=\"M 2384 0  L 1822 0  L 1822 3584  Q 1619 3391 1289 3197  Q 959 3003 697 2906  L 697 3450  Q 1169 3672 1522 3987  Q 1875 4303 2022 4600  L 2384 4600  L 2384 0  z \" transform=\"scale(0.015625)\" />\n",
       "      </defs>\n",
       "      <use xlink:href=\"#ArialMT-63\" />\n",
       "      <use xlink:href=\"#ArialMT-6c\" x=\"50\" />\n",
       "      <use xlink:href=\"#ArialMT-61\" x=\"72.216797\" />\n",
       "      <use xlink:href=\"#ArialMT-73\" x=\"127.832031\" />\n",
       "      <use xlink:href=\"#ArialMT-73\" x=\"177.832031\" />\n",
       "      <use xlink:href=\"#ArialMT-20\" x=\"227.832031\" />\n",
       "      <use xlink:href=\"#ArialMT-31\" x=\"255.615234\" />\n",
       "     </g>\n",
       "    </g>\n",
       "   </g>\n",
       "  </g>\n",
       " </g>\n",
       "</svg></g>\n",
       "</g>\n",
       "</svg>"
      ],
      "text/plain": [
       "<dtreeviz.trees.DTreeViz at 0x1c03ca84c10>"
      ]
     },
     "metadata": {},
     "output_type": "display_data"
    }
   ],
   "source": [
    "display(viz)"
   ]
  },
  {
   "cell_type": "markdown",
   "id": "6507b37f-bac6-4c70-920a-8fb0777d8500",
   "metadata": {},
   "source": [
    "### 可視化②"
   ]
  },
  {
   "cell_type": "code",
   "execution_count": 82,
   "id": "23f48884-7b64-4137-bb01-9a89c26787b7",
   "metadata": {},
   "outputs": [],
   "source": [
    "from xgboost import plot_tree"
   ]
  },
  {
   "cell_type": "code",
   "execution_count": null,
   "id": "3f0d7807-4ef0-42bd-98c6-9ca77d8a99c1",
   "metadata": {},
   "outputs": [],
   "source": [
    "plot_tree(model_XGB, figsize=(20, 20))\n",
    "plt.show()"
   ]
  },
  {
   "cell_type": "markdown",
   "id": "f91b83d9-f811-41d0-947b-4aa1257ae0df",
   "metadata": {},
   "source": [
    "### 可視化③"
   ]
  },
  {
   "cell_type": "code",
   "execution_count": null,
   "id": "fe6b7e74-d265-4d0c-9f24-e4501fb6d928",
   "metadata": {},
   "outputs": [],
   "source": [
    "import xgboost as xgb"
   ]
  },
  {
   "cell_type": "code",
   "execution_count": null,
   "id": "f3e604f5-b731-4909-ba86-ea8fb3c4f41b",
   "metadata": {},
   "outputs": [],
   "source": [
    "fig, ax = plt.subplots(figsize=(30, 30))\n",
    "xgb.plot_tree(model_XGB, num_trees=10, ax=ax)\n",
    "plt.show()"
   ]
  },
  {
   "cell_type": "markdown",
   "id": "b882f070-ba90-4c2a-8f8b-cab9b2c2ef2f",
   "metadata": {},
   "source": [
    "### 可視化④"
   ]
  },
  {
   "cell_type": "code",
   "execution_count": null,
   "id": "785720f6-2ca0-409e-9ffd-3bcc37b9eba5",
   "metadata": {},
   "outputs": [],
   "source": [
    "xgb.to_graphviz(model_XGB, num_trees=0)"
   ]
  },
  {
   "cell_type": "markdown",
   "id": "cebfaf39-b5ce-48b0-8034-2c6d898d7859",
   "metadata": {},
   "source": [
    "# LightGBM"
   ]
  },
  {
   "cell_type": "markdown",
   "id": "307edaaf-9887-4d38-87ae-aaa13625ed85",
   "metadata": {},
   "source": [
    "処理速度 → LightGBM > XGBoost > catboost"
   ]
  },
  {
   "cell_type": "markdown",
   "id": "a27e8952-b935-43ee-94f8-fb291f279142",
   "metadata": {},
   "source": [
    "LightGBMはカテゴリー変数を扱えるが、XGBoostはカテゴリー変数を扱えない"
   ]
  },
  {
   "cell_type": "markdown",
   "id": "f7eb45ed-06e5-40b9-acc2-d6c47b71cbab",
   "metadata": {},
   "source": [
    "## GridSearchCVによるパラメータチューニング"
   ]
  },
  {
   "cell_type": "code",
   "execution_count": null,
   "id": "605b210d-4682-478a-8d4b-b1e12af26c50",
   "metadata": {},
   "outputs": [],
   "source": [
    "import lightgbm as lgbm"
   ]
  },
  {
   "cell_type": "code",
   "execution_count": null,
   "id": "75c63418-8f5d-4a72-be5a-77b26cddb6d0",
   "metadata": {},
   "outputs": [],
   "source": [
    "from lightgbm import LGBMClassifier"
   ]
  },
  {
   "cell_type": "code",
   "execution_count": null,
   "id": "304b2355-f77d-42df-b21f-64316bad8566",
   "metadata": {},
   "outputs": [],
   "source": [
    "train"
   ]
  },
  {
   "cell_type": "code",
   "execution_count": null,
   "id": "bf73afbb-3a29-4d37-bcc7-8d16fbd26bad",
   "metadata": {},
   "outputs": [],
   "source": [
    "train[features_col].info()"
   ]
  },
  {
   "cell_type": "code",
   "execution_count": null,
   "id": "8346429e-f220-433a-bd69-9c911db36154",
   "metadata": {},
   "outputs": [],
   "source": [
    "train_y = train['Survived'].values\n",
    "train_X = train[features_col].values"
   ]
  },
  {
   "cell_type": "code",
   "execution_count": null,
   "id": "fb4af89a-2aca-4676-99a8-9b3e1c8d5542",
   "metadata": {},
   "outputs": [],
   "source": [
    "train_y.shape"
   ]
  },
  {
   "cell_type": "code",
   "execution_count": null,
   "id": "0a9dcc1c-cf79-4a33-9745-a8765f7a67bf",
   "metadata": {},
   "outputs": [],
   "source": [
    "train_X.shape"
   ]
  },
  {
   "cell_type": "code",
   "execution_count": null,
   "id": "93f43181-c6d2-48be-8781-cc1a3dba1ad4",
   "metadata": {},
   "outputs": [],
   "source": [
    "parameters = {\"max_depth\": [10, 25, 50, 75],\n",
    "              \"learning_rate\" : [0.001,0.01,0.05,0.1],\n",
    "              \"num_leaves\": [100,300,900,1200],\n",
    "              \"n_estimators\": [100,200,500]\n",
    "             }"
   ]
  },
  {
   "cell_type": "code",
   "execution_count": null,
   "id": "3a7ce13d-43e9-463f-8eb3-beede1d08b3c",
   "metadata": {},
   "outputs": [],
   "source": [
    "clf = GridSearchCV(LGBMClassifier(), parameters, cv=5)"
   ]
  },
  {
   "cell_type": "code",
   "execution_count": null,
   "id": "4cea06e5-92fd-461c-b490-1194a9f1bf2b",
   "metadata": {},
   "outputs": [],
   "source": [
    "# clf.fit(train_X, train_y)"
   ]
  },
  {
   "cell_type": "code",
   "execution_count": null,
   "id": "13fdd275-0365-4bfa-bcf7-486a2b151184",
   "metadata": {},
   "outputs": [],
   "source": [
    "# clf.best_params_"
   ]
  },
  {
   "cell_type": "code",
   "execution_count": null,
   "id": "cc50c6cc-22ff-45d4-bfcf-e4184550554a",
   "metadata": {},
   "outputs": [],
   "source": [
    "# clf.best_score_"
   ]
  },
  {
   "cell_type": "code",
   "execution_count": null,
   "id": "676bed90-f892-4af3-bfb2-c85f5a17a6ef",
   "metadata": {},
   "outputs": [],
   "source": [
    "from lightgbm import LGBMClassifier"
   ]
  },
  {
   "cell_type": "code",
   "execution_count": null,
   "id": "c458b5e8-e75f-4f10-aca1-a4c6dd2f11cc",
   "metadata": {},
   "outputs": [],
   "source": [
    "model_LGBM = LGBMClassifier(max_depth=25, learning_rate=0.01, n_estimators=500, num_leaves=100)"
   ]
  },
  {
   "cell_type": "code",
   "execution_count": null,
   "id": "2862a1cd-fd36-48c9-8a9b-a0d3a3d0d6ce",
   "metadata": {},
   "outputs": [],
   "source": [
    "model_LGBM.fit(train_X, train_y)"
   ]
  },
  {
   "cell_type": "code",
   "execution_count": null,
   "id": "9f7fa351-e12c-4830-a04d-916b25dcfda4",
   "metadata": {},
   "outputs": [],
   "source": [
    "model_LGBM.score(train_X, train_y)"
   ]
  },
  {
   "cell_type": "code",
   "execution_count": null,
   "id": "7105d553-f71e-4423-9d4a-95384abf3bd7",
   "metadata": {},
   "outputs": [],
   "source": [
    "train['Survived'].info()"
   ]
  },
  {
   "cell_type": "code",
   "execution_count": null,
   "id": "64ed368d-618d-4508-a908-6a27b6de24ca",
   "metadata": {},
   "outputs": [],
   "source": [
    "train[features_col].info()"
   ]
  },
  {
   "cell_type": "markdown",
   "id": "51dc27f0-4e51-4cbc-9a3e-066f39f71e5f",
   "metadata": {},
   "source": [
    "## 予測"
   ]
  },
  {
   "cell_type": "code",
   "execution_count": null,
   "id": "7ea69db0-1adb-40e8-8c8e-953969e410bb",
   "metadata": {},
   "outputs": [],
   "source": [
    "prediction = model_LGBM.predict(test_X)"
   ]
  },
  {
   "cell_type": "code",
   "execution_count": null,
   "id": "c50a6d60-6cfb-4d45-a2e0-59d574c2ab83",
   "metadata": {},
   "outputs": [],
   "source": [
    "prediction.shape"
   ]
  },
  {
   "cell_type": "code",
   "execution_count": null,
   "id": "cecbad36-7802-40b6-98bb-08185c6ca8e4",
   "metadata": {},
   "outputs": [],
   "source": [
    "print(prediction)"
   ]
  },
  {
   "cell_type": "markdown",
   "id": "d7c05c07-b826-43d3-909f-14d5fcb1e0ca",
   "metadata": {},
   "source": [
    "## 学習モデルの評価"
   ]
  },
  {
   "cell_type": "code",
   "execution_count": null,
   "id": "c74feda8-ec80-4150-af54-6d45dd3436e4",
   "metadata": {},
   "outputs": [],
   "source": [
    "#訓練・テストデータに分割\n",
    "X_train, X_test, y_train, y_test = train_test_split(train_X, train_y, test_size=0.2, shuffle=True)"
   ]
  },
  {
   "cell_type": "code",
   "execution_count": null,
   "id": "87ab11f6-e781-4b47-ac35-b3f20f38b98d",
   "metadata": {},
   "outputs": [],
   "source": [
    "y_pred_train = model_LGBM.predict(X_train)\n",
    "y_pred_test = model_LGBM.predict(X_test)\n",
    "\n",
    "# Accuracy の計算\n",
    "acc_train = accuracy_score(y_train, y_pred_train)\n",
    "acc_test = accuracy_score(y_test, y_pred_test)\n",
    "print('Accuracy(train):', acc_train)\n",
    "print('Accuracy(test):', acc_test)"
   ]
  },
  {
   "cell_type": "code",
   "execution_count": null,
   "id": "0d6099e5-1910-4062-bf66-625a9c00c779",
   "metadata": {},
   "outputs": [],
   "source": [
    "sub['Survived'] = prediction"
   ]
  },
  {
   "cell_type": "code",
   "execution_count": null,
   "id": "6b3ddbf6-97dc-45df-b54b-29a529b527f6",
   "metadata": {},
   "outputs": [],
   "source": [
    "sub.to_csv('titanic_lightgbm.csv', index=False)"
   ]
  },
  {
   "cell_type": "markdown",
   "id": "72acd0fc-4d29-4c39-8e98-05a4b46650e2",
   "metadata": {},
   "source": [
    "## 特徴量の重要度可視化"
   ]
  },
  {
   "cell_type": "markdown",
   "id": "cd34b9c2-7aca-4856-918c-6b399647ddd5",
   "metadata": {},
   "source": [
    "### 可視化①"
   ]
  },
  {
   "cell_type": "code",
   "execution_count": null,
   "id": "e51e2132-dda7-4b4e-bd89-a64c78d5724d",
   "metadata": {},
   "outputs": [],
   "source": [
    "plt.barh(train[features_col].columns.values, model_LGBM.feature_importances_)"
   ]
  },
  {
   "cell_type": "markdown",
   "id": "216e0d6a-4c92-4b5b-a0c2-ec3a624baaa9",
   "metadata": {},
   "source": [
    "### 可視化②"
   ]
  },
  {
   "cell_type": "code",
   "execution_count": null,
   "id": "a6064de2-df45-4ea9-a188-983eee2fef43",
   "metadata": {},
   "outputs": [],
   "source": [
    "feature_imp = pd.Series(model_LGBM.feature_importances_, index=train[features_col].columns.values).sort_values(ascending=False)"
   ]
  },
  {
   "cell_type": "code",
   "execution_count": null,
   "id": "9a6a12af-6fe7-4ddf-a828-436f2ba6c644",
   "metadata": {},
   "outputs": [],
   "source": [
    "sns.barplot(x=feature_imp, y=feature_imp.index)\n",
    "\n",
    "plt.xlabel('Feature Importance Score')\n",
    "plt.ylabel('Features')\n",
    "plt.title(\"Visualizing Important Features\")\n",
    "plt.show()"
   ]
  },
  {
   "cell_type": "code",
   "execution_count": null,
   "id": "af3de71b-110d-4fa6-b3ab-c01197e1f69b",
   "metadata": {},
   "outputs": [],
   "source": [
    "importances = pd.Series(model_LGBM.feature_importances_, index=train[features_col].columns.values)\n",
    "importances = importances.sort_values()\n",
    "importances.plot(kind = 'barh')\n",
    "plt.title('LightGBM Feature Importance')\n",
    "plt.show()"
   ]
  },
  {
   "cell_type": "markdown",
   "id": "e3a24eb8-179f-4474-87a2-722e37576df1",
   "metadata": {},
   "source": [
    "## 決定木の可視化"
   ]
  },
  {
   "cell_type": "markdown",
   "id": "a80dc930-9402-498b-ace5-f19fda0d3566",
   "metadata": {},
   "source": [
    "### 可視化①"
   ]
  },
  {
   "cell_type": "code",
   "execution_count": null,
   "id": "e36e1c40-9080-4941-a8aa-226a321a9f02",
   "metadata": {},
   "outputs": [],
   "source": [
    "ax = lgbm.plot_tree(model_LGBM, tree_index=0, figsize=(20, 20), show_info=['split_gain'])\n",
    "plt.show()\n",
    "graph = lgbm.create_tree_digraph(model_LGBM, tree_index=0, format='png', name='Tree')"
   ]
  },
  {
   "cell_type": "code",
   "execution_count": null,
   "id": "f92517bd-89b4-48b5-af01-37b5de8856f2",
   "metadata": {},
   "outputs": [],
   "source": [
    "display(graph)"
   ]
  },
  {
   "cell_type": "markdown",
   "id": "3d26184e-b894-4c1e-b0d2-5714df865915",
   "metadata": {},
   "source": [
    "## 生存確率を出力"
   ]
  },
  {
   "cell_type": "code",
   "execution_count": null,
   "id": "5b63a605-7520-4b12-8e59-7c2db5a0620e",
   "metadata": {},
   "outputs": [],
   "source": [
    "import lightgbm as lgb"
   ]
  },
  {
   "cell_type": "code",
   "execution_count": null,
   "id": "895d948f-aa2b-42c8-89fc-055df37809d6",
   "metadata": {},
   "outputs": [],
   "source": [
    "train_y = train['Survived']\n",
    "train_X = train[features_col]"
   ]
  },
  {
   "cell_type": "code",
   "execution_count": null,
   "id": "0dbe3124-feae-40d8-8f34-245672eb0793",
   "metadata": {},
   "outputs": [],
   "source": [
    "train_X.info()"
   ]
  },
  {
   "cell_type": "code",
   "execution_count": null,
   "id": "bb0cd654-f234-456b-a798-66da771e2839",
   "metadata": {},
   "outputs": [],
   "source": [
    "#訓練・テストデータに分割\n",
    "X_train, X_test, y_train, y_test = train_test_split(train_X, train_y, test_size=0.2, shuffle=True)"
   ]
  },
  {
   "cell_type": "code",
   "execution_count": null,
   "id": "ac0e67e2-c5d2-4d68-b259-aa8d640e9ead",
   "metadata": {},
   "outputs": [],
   "source": [
    "train_set = lgb.Dataset(X_train, y_train)\n",
    "valid_set = lgb.Dataset(X_test, y_test)"
   ]
  },
  {
   "cell_type": "code",
   "execution_count": null,
   "id": "5374f45d-ba72-4f3d-9ef0-ed0b90d77240",
   "metadata": {},
   "outputs": [],
   "source": [
    "params = {\n",
    "    \"objective\" : \"binary\",\n",
    "    \"metric\" : \"binary_logloss\"\n",
    "}"
   ]
  },
  {
   "cell_type": "code",
   "execution_count": null,
   "id": "eb90dc71-2b8a-4261-a8f6-2941303b6ee2",
   "metadata": {},
   "outputs": [],
   "source": [
    "result_data = {}\n",
    "model = lgb.train(\n",
    "    params = params,\n",
    "    train_set = train_set,\n",
    "    valid_sets = [train_set, valid_set],\n",
    "    num_boost_round = 100,\n",
    "    early_stopping_rounds = 5,\n",
    "    verbose_eval = 50,\n",
    "    evals_result = result_data\n",
    ")"
   ]
  },
  {
   "cell_type": "code",
   "execution_count": null,
   "id": "a6e4f05b-19f6-405f-8165-bc24920e531c",
   "metadata": {},
   "outputs": [],
   "source": [
    "pred = model.predict(test_X)\n",
    "print(pred)"
   ]
  },
  {
   "cell_type": "code",
   "execution_count": null,
   "id": "2f9b8cef-8b93-4f8f-b0c8-e4e9202f545f",
   "metadata": {},
   "outputs": [],
   "source": [
    "test_ = test.copy()\n",
    "test_['Survived'] = pred\n",
    "test_.sort_values(by=\"Survived\",ascending=False) "
   ]
  },
  {
   "cell_type": "code",
   "execution_count": null,
   "id": "fdfeca87-a08e-4c02-b933-57caa663724d",
   "metadata": {},
   "outputs": [],
   "source": [
    "print('平均生存確率（予測）：',round(test_['Survived'].mean()*100,2), '%')"
   ]
  },
  {
   "cell_type": "code",
   "execution_count": null,
   "id": "a81d7546-a342-4204-936a-4520cd7fb961",
   "metadata": {},
   "outputs": [],
   "source": [
    "print('生存率（予測データ）：',round(sub['Survived'].mean()*100,2),'%')"
   ]
  },
  {
   "cell_type": "code",
   "execution_count": null,
   "id": "c1e2f4c9-4f19-4227-b585-5be6e0f31260",
   "metadata": {},
   "outputs": [],
   "source": [
    "print('生存率（学習データ）：',round(train['Survived'].mean()*100,2),'%')"
   ]
  },
  {
   "cell_type": "code",
   "execution_count": null,
   "id": "37d22d44-d58f-42c3-abab-abace8f1bf45",
   "metadata": {},
   "outputs": [],
   "source": []
  }
 ],
 "metadata": {
  "kernelspec": {
   "display_name": "Python 3 (ipykernel)",
   "language": "python",
   "name": "python3"
  },
  "language_info": {
   "codemirror_mode": {
    "name": "ipython",
    "version": 3
   },
   "file_extension": ".py",
   "mimetype": "text/x-python",
   "name": "python",
   "nbconvert_exporter": "python",
   "pygments_lexer": "ipython3",
   "version": "3.9.13"
  }
 },
 "nbformat": 4,
 "nbformat_minor": 5
}
